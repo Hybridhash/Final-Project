{
 "cells": [
  {
   "cell_type": "markdown",
   "metadata": {
    "id": "W_r5h2VoK3F0"
   },
   "source": [
    "# Deep Learning Models"
   ]
  },
  {
   "cell_type": "markdown",
   "metadata": {
    "id": "SY7dcQHyPKKB"
   },
   "source": [
    "### Long short-term memory (LSTM)"
   ]
  },
  {
   "cell_type": "markdown",
   "metadata": {
    "id": "bsTxm_jCK6Y-"
   },
   "source": [
    "LSTM is being used instead of ANN for classification (fake or real news) because it's based on RNN deep neural network and have capability of learning order dependence in sequence prediction problems. Learning such skills is crucial for tackling challenging issues like automated translation and speech recognition.\n",
    "."
   ]
  },
  {
   "cell_type": "markdown",
   "metadata": {
    "id": "1soDXMvbPPoP"
   },
   "source": [
    "## Importing the Required Libraries"
   ]
  },
  {
   "cell_type": "markdown",
   "metadata": {
    "id": "RUR_bB29P2Oa"
   },
   "source": [
    "Downloading the required libraries for the LLM training"
   ]
  },
  {
   "cell_type": "code",
   "execution_count": 1,
   "metadata": {
    "id": "424PlHCsvQhn"
   },
   "outputs": [],
   "source": [
    "import numpy as np\n",
    "import pandas as pd\n",
    "from sklearn.metrics import accuracy_score, log_loss\n",
    "from sklearn.model_selection import GridSearchCV, train_test_split\n",
    "from sklearn.metrics import accuracy_score\n",
    "from sklearn.metrics import classification_report\n",
    "from sklearn.metrics import confusion_matrix, ConfusionMatrixDisplay\n",
    "\n",
    "#Deep learning libraries\n",
    "import tensorflow as tf\n",
    "import keras\n",
    "from keras.layers import Embedding\n",
    "from keras.preprocessing.sequence import pad_sequences\n",
    "from keras.models import Sequential\n",
    "from keras.preprocessing.text import one_hot\n",
    "from keras.layers import LSTM\n",
    "from keras.layers import Bidirectional\n",
    "from keras.layers import Dense\n",
    "from keras.layers import Dropout\n",
    "\n",
    "# Displaying Libraries\n",
    "from textblob import TextBlob\n",
    "import seaborn as sns\n",
    "import matplotlib.pyplot as plt"
   ]
  },
  {
   "cell_type": "code",
   "execution_count": 2,
   "metadata": {},
   "outputs": [
    {
     "data": {
      "text/plain": [
       "True"
      ]
     },
     "execution_count": 2,
     "metadata": {},
     "output_type": "execute_result"
    }
   ],
   "source": [
    "# Checking that GPU is available\n",
    "gpu = len(tf.config.list_physical_devices('GPU'))>0\n",
    "gpu"
   ]
  },
  {
   "cell_type": "markdown",
   "metadata": {
    "id": "aC0LjEaC7ubV"
   },
   "source": [
    "# Loading datasets and Splitting"
   ]
  },
  {
   "cell_type": "markdown",
   "metadata": {
    "id": "9UHla4vSPWRa"
   },
   "source": [
    "### 1. Loading the dataset"
   ]
  },
  {
   "cell_type": "markdown",
   "metadata": {
    "id": "F6WOPTxy72xr"
   },
   "source": [
    "Cleaned data extratced after preprocessing the text is loaded for the purpose of neural deep LSTM based model.</p>"
   ]
  },
  {
   "cell_type": "code",
   "execution_count": 3,
   "metadata": {
    "id": "WlPrAFjfyMwN"
   },
   "outputs": [],
   "source": [
    "cleaned_df = pd.read_csv('cleaned_data.csv')"
   ]
  },
  {
   "cell_type": "code",
   "execution_count": 4,
   "metadata": {
    "colab": {
     "base_uri": "https://localhost:8080/",
     "height": 424
    },
    "id": "fTcgjiCnyMq1",
    "outputId": "cbb61065-4a7a-4bd8-d640-01f1c7f20859"
   },
   "outputs": [
    {
     "data": {
      "text/html": [
       "<div>\n",
       "<style scoped>\n",
       "    .dataframe tbody tr th:only-of-type {\n",
       "        vertical-align: middle;\n",
       "    }\n",
       "\n",
       "    .dataframe tbody tr th {\n",
       "        vertical-align: top;\n",
       "    }\n",
       "\n",
       "    .dataframe thead th {\n",
       "        text-align: right;\n",
       "    }\n",
       "</style>\n",
       "<table border=\"1\" class=\"dataframe\">\n",
       "  <thead>\n",
       "    <tr style=\"text-align: right;\">\n",
       "      <th></th>\n",
       "      <th>label</th>\n",
       "      <th>title_text</th>\n",
       "    </tr>\n",
       "  </thead>\n",
       "  <tbody>\n",
       "    <tr>\n",
       "      <th>0</th>\n",
       "      <td>true</td>\n",
       "      <td>national federation independent business</td>\n",
       "    </tr>\n",
       "    <tr>\n",
       "      <th>1</th>\n",
       "      <td>true</td>\n",
       "      <td>comment fayetteville nc</td>\n",
       "    </tr>\n",
       "    <tr>\n",
       "      <th>2</th>\n",
       "      <td>true</td>\n",
       "      <td>romney make pitch hope close deal election roc...</td>\n",
       "    </tr>\n",
       "    <tr>\n",
       "      <th>3</th>\n",
       "      <td>true</td>\n",
       "      <td>democratic leader say house democrats united g...</td>\n",
       "    </tr>\n",
       "    <tr>\n",
       "      <th>4</th>\n",
       "      <td>true</td>\n",
       "      <td>budget united states government fy</td>\n",
       "    </tr>\n",
       "    <tr>\n",
       "      <th>...</th>\n",
       "      <td>...</td>\n",
       "      <td>...</td>\n",
       "    </tr>\n",
       "    <tr>\n",
       "      <th>60731</th>\n",
       "      <td>fake</td>\n",
       "      <td>white house theatrics gun control 21st century...</td>\n",
       "    </tr>\n",
       "    <tr>\n",
       "      <th>60732</th>\n",
       "      <td>fake</td>\n",
       "      <td>activist terrorist medium control dictate narr...</td>\n",
       "    </tr>\n",
       "    <tr>\n",
       "      <th>60733</th>\n",
       "      <td>fake</td>\n",
       "      <td>boiler room surrender retreat head roll ep tun...</td>\n",
       "    </tr>\n",
       "    <tr>\n",
       "      <th>60734</th>\n",
       "      <td>fake</td>\n",
       "      <td>federal showdown looms oregon blm abuse local ...</td>\n",
       "    </tr>\n",
       "    <tr>\n",
       "      <th>60735</th>\n",
       "      <td>fake</td>\n",
       "      <td>trouble king chicago rahm emanuel desperate sa...</td>\n",
       "    </tr>\n",
       "  </tbody>\n",
       "</table>\n",
       "<p>60736 rows × 2 columns</p>\n",
       "</div>"
      ],
      "text/plain": [
       "      label                                         title_text\n",
       "0      true           national federation independent business\n",
       "1      true                            comment fayetteville nc\n",
       "2      true  romney make pitch hope close deal election roc...\n",
       "3      true  democratic leader say house democrats united g...\n",
       "4      true                 budget united states government fy\n",
       "...     ...                                                ...\n",
       "60731  fake  white house theatrics gun control 21st century...\n",
       "60732  fake  activist terrorist medium control dictate narr...\n",
       "60733  fake  boiler room surrender retreat head roll ep tun...\n",
       "60734  fake  federal showdown looms oregon blm abuse local ...\n",
       "60735  fake  trouble king chicago rahm emanuel desperate sa...\n",
       "\n",
       "[60736 rows x 2 columns]"
      ]
     },
     "execution_count": 4,
     "metadata": {},
     "output_type": "execute_result"
    }
   ],
   "source": [
    "cleaned_df"
   ]
  },
  {
   "cell_type": "code",
   "execution_count": 5,
   "metadata": {
    "id": "DPenXyrfq4tk"
   },
   "outputs": [],
   "source": [
    "cleaned_df['title_text'] = cleaned_df['title_text'].astype(str)"
   ]
  },
  {
   "cell_type": "markdown",
   "metadata": {
    "id": "MTYoJ1ScdSOC"
   },
   "source": [
    "# General OverView - Polarity, News Text Length and Word Count"
   ]
  },
  {
   "cell_type": "markdown",
   "metadata": {
    "id": "80GWcM4eAy3R"
   },
   "source": [
    "<p style=\"color:#45b6fe\"><b style=\"color:lightgreen\"></b> Though, the overview of the new text has already perfromed during feature presentation and dataset outlook section. However, This is reproduced here for the reference purposes to identify Vocabulory size and sentence for one-hot encoding and embedding the documents (News Text). </p>"
   ]
  },
  {
   "cell_type": "code",
   "execution_count": 6,
   "metadata": {
    "id": "LODfGb7DmJpz"
   },
   "outputs": [],
   "source": [
    "# Checking the polarity (Ranges between -1 and 1) of the title_text based on the sentiment attribute in \"TextBlob\".\n",
    "cleaned_df['polarity'] = cleaned_df['title_text'].map(lambda text: TextBlob(text).sentiment.polarity)\n",
    "cleaned_df['text_length'] = cleaned_df['title_text'].astype(str).apply(len)\n",
    "cleaned_df['word_count'] = cleaned_df['title_text'].apply(lambda x: len(str(x).split()))"
   ]
  },
  {
   "cell_type": "code",
   "execution_count": 7,
   "metadata": {},
   "outputs": [
    {
     "data": {
      "image/png": "[encoded data removed]",
      "text/plain": [
       "<Figure size 1500x500 with 3 Axes>"
      ]
     },
     "metadata": {},
     "output_type": "display_data"
    }
   ],
   "source": [
    "# select the columns to be plotted\n",
    "cols = ['polarity', 'text_length', 'word_count']\n",
    "\n",
    "# create the figure and axes\n",
    "fig, axes = plt.subplots(1, 3, figsize=(15, 5))\n",
    "axes = axes.ravel()  # flattening the array makes indexing easier\n",
    "\n",
    "for col, ax in zip(cols, axes):\n",
    "    sns.histplot(data=cleaned_df[col], kde=True, stat='density', ax=ax, bins=40)\n",
    "\n",
    "fig.tight_layout()\n",
    "plt.show()"
   ]
  },
  {
   "cell_type": "markdown",
   "metadata": {
    "id": "Z5bIq49dshX8"
   },
   "source": [
    "\n",
    "\n",
    "*   We can notice that most articles has polarity of almost 0 neither being sad nor happy.\n",
    "*   Text length for the news is around 0-5000 characters.\n",
    "*   Wrod count is in between 0-1000 words.\n",
    "\n"
   ]
  },
  {
   "cell_type": "markdown",
   "metadata": {
    "id": "w1Ud8mR9cA1B"
   },
   "source": [
    "# One-Hot Encoding"
   ]
  },
  {
   "cell_type": "markdown",
   "metadata": {
    "id": "L0wYWlLMFEpP"
   },
   "source": [
    "One-hot encoding in NLP is used to categorize the textual data as dense vectors to be processed by the neural networks. Words in NLP being categorical variables are expensive to process, therefore, one-hot encoding is used to represent these words into dense, continuous vectors (embeddings) by having a binary vector of the same length as vocabulary size.\n"
   ]
  },
  {
   "cell_type": "code",
   "execution_count": 8,
   "metadata": {
    "id": "nEO-2mhQEJGK"
   },
   "outputs": [],
   "source": [
    "#Vocabulary size is set to 7000 words because maximum text length is around 5000 based on text_length plot\n",
    "voc_size=7000\n",
    "\n",
    "#One hot encoding using tensor flow keras module to news text into numerical vectors\n",
    "onehot_repr=[one_hot(words,voc_size)for words in cleaned_df['title_text']]"
   ]
  },
  {
   "cell_type": "code",
   "execution_count": 9,
   "metadata": {
    "colab": {
     "base_uri": "https://localhost:8080/"
    },
    "id": "GACtCsQDGn1K",
    "outputId": "ed185078-2916-43c7-e57f-baeebc80741b"
   },
   "outputs": [
    {
     "data": {
      "text/plain": [
       "[[5722, 4052, 524, 5044],\n",
       " [6673, 1753, 2614],\n",
       " [3094, 5580, 6482, 2402, 6719, 2437, 6657, 5031, 4813, 4582],\n",
       " [6751, 2842, 1466, 6292, 5565, 6109, 6077, 1918, 2533],\n",
       " [6612, 6109, 1347, 4401, 2835],\n",
       " [3714, 1534, 4511, 1466, 559, 3410, 6714, 5047, 5077, 4687],\n",
       " [2827, 6184],\n",
       " [532, 6386],\n",
       " [2232, 4653, 6292, 1967, 6157, 5863, 225],\n",
       " [3603, 6681, 4370, 3690, 5315]]"
      ]
     },
     "execution_count": 9,
     "metadata": {},
     "output_type": "execute_result"
    }
   ],
   "source": [
    "onehot_repr[0:10]"
   ]
  },
  {
   "cell_type": "markdown",
   "metadata": {
    "id": "KXiHgOvAG2G4"
   },
   "source": [
    "We can notice that all the text is converetd into index for the vocabulary created"
   ]
  },
  {
   "cell_type": "markdown",
   "metadata": {
    "id": "Kcvs8Ccv2fm3"
   },
   "source": [
    "# Padding the documents"
   ]
  },
  {
   "cell_type": "markdown",
   "metadata": {
    "id": "4SsfxB0IM_8e"
   },
   "source": [
    "The second step in implementation is to perform the padding of documents. Padding of the text is required to have a fixed length of tokens. This is fundamental for the neural network to have inputs for fixed size because textual data could be shorter or longer. Tensor flow Keras pad_sequence is used to perform the padding for neural network and sequence is kept as `pre` to ensure `zero's` is added at the beginning. Benefit of using `pre` are as follows:\n",
    "*   Preserving the contextual information by keeping words towards the end in order for the model to capture the meaningful context.\n",
    "*   It provides the compatibility with the right to left languages, such as Arabic or Urdu.\n",
    "*   It gives the fixed length inputs for the vectors for model to process.\n",
    "*   It ensures consistency and simplicity for different layers of the models, such as embedding layer and convolution layer.\n",
    "\n",
    "\n",
    "\n"
   ]
  },
  {
   "cell_type": "code",
   "execution_count": 10,
   "metadata": {
    "colab": {
     "base_uri": "https://localhost:8080/"
    },
    "id": "qQXo7PMnHlht",
    "outputId": "11c9a747-2148-465a-f48f-b4dfabdbc536"
   },
   "outputs": [
    {
     "name": "stdout",
     "output_type": "stream",
     "text": [
      "[[   0    0    0 ... 4052  524 5044]\n",
      " [   0    0    0 ... 6673 1753 2614]\n",
      " [   0    0    0 ... 5031 4813 4582]\n",
      " ...\n",
      " [   0    0    0 ... 4056  975 5025]\n",
      " [   0    0    0 ... 3081 2012  181]\n",
      " [   0    0    0 ... 6208 3323 1667]]\n"
     ]
    }
   ],
   "source": [
    "#Fixed sentence length to be padded or truncated in order to have a length of 5000 tokens.\n",
    "sent_length=5000\n",
    "\n",
    "# Padding the sequences of one-hot encoded vectors\n",
    "# Pre is provided to esnure padding (or truncating) [Zeros] is added to the beginning of each sequence.\n",
    "# This ensures that the actual content of the sentence is closer to the end\n",
    "embedded_docs=pad_sequences(onehot_repr,padding='pre',maxlen=sent_length)\n",
    "print(embedded_docs)\n",
    "\n"
   ]
  },
  {
   "cell_type": "markdown",
   "metadata": {
    "id": "Sv14nREVIapE"
   },
   "source": [
    "# Long short-term memory (LSTM) Model"
   ]
  },
  {
   "cell_type": "markdown",
   "metadata": {
    "id": "-qjim2yvSpkC"
   },
   "source": [
    "Now we can performed the sequential model network for classification of news between `true` or `fake`. This will be achieved using keras with tensor flow backend having below mentioned layers:\n",
    "\n",
    "1.   Embedding layer having embedding vector features to have a dense vector of 40 [40-Dimentional vector space]. This could be adjusted based on hyperparameter tuning and adopting experimental approach.\n",
    "2.   First Drop-out  for the regularization to avoid the overfitting, which could be occured by models during the trianing or inference phase.\n",
    "3.   LSTM layer for the sequence modeling.\n",
    "4.   Second Drop-out layer for the regularization.\n",
    "5.   Final Dense Layer with activation function Sigmoid used for the binary classification tasks.\n",
    "\n",
    "`Input (Word indices) --> Embedding Layer --> Dropout --> LSTM --> Dropout --> Dense (Sigmoid)`\n",
    "\n",
    "\n"
   ]
  },
  {
   "cell_type": "code",
   "execution_count": 11,
   "metadata": {
    "colab": {
     "base_uri": "https://localhost:8080/"
    },
    "id": "ZK7c9g4jmep6",
    "outputId": "803a21b9-1f06-4c95-ae4e-6f1c7acb533d"
   },
   "outputs": [
    {
     "name": "stderr",
     "output_type": "stream",
     "text": [
      "2023-08-12 20:01:41.170886: I metal_plugin/src/device/metal_device.cc:1154] Metal device set to: Apple M1 Pro\n",
      "2023-08-12 20:01:41.170913: I metal_plugin/src/device/metal_device.cc:296] systemMemory: 16.00 GB\n",
      "2023-08-12 20:01:41.170916: I metal_plugin/src/device/metal_device.cc:313] maxCacheSize: 5.33 GB\n",
      "2023-08-12 20:01:41.171146: I tensorflow/core/common_runtime/pluggable_device/pluggable_device_factory.cc:303] Could not identify NUMA node of platform GPU ID 0, defaulting to 0. Your kernel may not have been built with NUMA support.\n",
      "2023-08-12 20:01:41.171165: I tensorflow/core/common_runtime/pluggable_device/pluggable_device_factory.cc:269] Created TensorFlow device (/job:localhost/replica:0/task:0/device:GPU:0 with 0 MB memory) -> physical PluggableDevice (device: 0, name: METAL, pci bus id: <undefined>)\n"
     ]
    },
    {
     "name": "stdout",
     "output_type": "stream",
     "text": [
      "Model: \"sequential\"\n",
      "_________________________________________________________________\n",
      " Layer (type)                Output Shape              Param #   \n",
      "=================================================================\n",
      " embedding (Embedding)       (None, 5000, 40)          280000    \n",
      "                                                                 \n",
      " dropout (Dropout)           (None, 5000, 40)          0         \n",
      "                                                                 \n",
      " lstm (LSTM)                 (None, 100)               56400     \n",
      "                                                                 \n",
      " dropout_1 (Dropout)         (None, 100)               0         \n",
      "                                                                 \n",
      " dense (Dense)               (None, 1)                 101       \n",
      "                                                                 \n",
      "=================================================================\n",
      "Total params: 336501 (1.28 MB)\n",
      "Trainable params: 336501 (1.28 MB)\n",
      "Non-trainable params: 0 (0.00 Byte)\n",
      "_________________________________________________________________\n",
      "None\n"
     ]
    }
   ],
   "source": [
    "# Number of Dimensions for the word embeddings\n",
    "embedding_vector_features=40\n",
    "# Initializing the sequential model\n",
    "model=Sequential()\n",
    "# adding the embedding layer\n",
    "model.add(Embedding(voc_size,embedding_vector_features,input_length=sent_length))\n",
    "# First Dropout layer for the regularization with rate of 0.3\n",
    "model.add(Dropout(0.3))\n",
    "#Adding 100 lstm neurons in the layer\n",
    "model.add(LSTM(100))\n",
    "# Second Dropout layer for the regularization with rate of 0.3\n",
    "model.add(Dropout(0.3))\n",
    "# Fully connected dense layer with activation function 'sigmoid' for binary classifcation.\n",
    "model.add(Dense(1,activation='sigmoid'))\n",
    "\n",
    "#Compiling the model\n",
    "model.compile(loss='binary_crossentropy',optimizer='adam',metrics=['accuracy'])\n",
    "print(model.summary())"
   ]
  },
  {
   "cell_type": "code",
   "execution_count": 12,
   "metadata": {
    "colab": {
     "base_uri": "https://localhost:8080/"
    },
    "id": "mRLnzW7Tn69x",
    "outputId": "4539946e-2bea-4aee-fad1-d5af50935994"
   },
   "outputs": [
    {
     "data": {
      "text/plain": [
       "(60736, (60736,))"
      ]
     },
     "execution_count": 12,
     "metadata": {},
     "output_type": "execute_result"
    }
   ],
   "source": [
    "# Embedding are based on the text and label are taken directly from the dataframe (cleaned_df). Both have similar length in numbers.\n",
    "# For a binary classification task, the shape of cleaned_df['label'] as (60737,), indicating that you have there are 60737 binary labels (0s and 1s).\n",
    "len(embedded_docs),cleaned_df['label'].shape"
   ]
  },
  {
   "cell_type": "markdown",
   "metadata": {
    "id": "KXY1AiA1MfO3"
   },
   "source": [
    "### Fitting the model"
   ]
  },
  {
   "cell_type": "markdown",
   "metadata": {
    "id": "9nlKC6-mqZUv"
   },
   "source": [
    "Fitting the model into Numpy Array for the model fitting."
   ]
  },
  {
   "cell_type": "code",
   "execution_count": 13,
   "metadata": {
    "colab": {
     "base_uri": "https://localhost:8080/"
    },
    "id": "U65H0gB7pq9X",
    "outputId": "954f9aad-0d70-482b-e40f-f2209e032055"
   },
   "outputs": [
    {
     "data": {
      "text/plain": [
       "((60736, 5000), (60736,))"
      ]
     },
     "execution_count": 13,
     "metadata": {},
     "output_type": "execute_result"
    }
   ],
   "source": [
    "# Converting the embedded documents [List of one hot encoded vectors] and labels as array before fitting into the models\n",
    "X_final=np.array(embedded_docs)\n",
    "# labels (true and fake) are converted into 0 and 1 before fitting into model as it only expects numerical values\n",
    "y_final = np.array(cleaned_df['label'].replace({'true': 1, 'fake': 0}))\n",
    "\n",
    "#Check shape of X [text] and y[label] as final array\n",
    "X_final.shape,y_final.shape"
   ]
  },
  {
   "cell_type": "markdown",
   "metadata": {},
   "source": [
    "Dataset is splitted into X_train, X_test, y_train, y_test using Sk-Learn library with the ratio 80% - Training and 20% Testing."
   ]
  },
  {
   "cell_type": "code",
   "execution_count": 14,
   "metadata": {},
   "outputs": [],
   "source": [
    "# Splitting the final data into X_train, X_test, y_train and y_test for model fitting\n",
    "X_train, X_test, y_train, y_test = train_test_split(X_final, y_final, test_size=0.20, random_state=42)"
   ]
  },
  {
   "cell_type": "markdown",
   "metadata": {},
   "source": [
    "#### First Run [epochs=10 and batch size=64]"
   ]
  },
  {
   "cell_type": "code",
   "execution_count": 29,
   "metadata": {
    "colab": {
     "base_uri": "https://localhost:8080/"
    },
    "id": "JXG7MoLhq_Dy",
    "outputId": "f7173c25-632f-4f71-8b14-931a55043232"
   },
   "outputs": [
    {
     "name": "stdout",
     "output_type": "stream",
     "text": [
      "Epoch 1/10\n",
      "760/760 [==============================] - 270s 344ms/step - loss: 0.3315 - accuracy: 0.8628 - val_loss: 0.2272 - val_accuracy: 0.9058\n",
      "Epoch 2/10\n",
      "760/760 [==============================] - 195s 256ms/step - loss: 0.2185 - accuracy: 0.9101 - val_loss: 0.2465 - val_accuracy: 0.8976\n",
      "Epoch 3/10\n",
      "760/760 [==============================] - 174s 229ms/step - loss: 0.1750 - accuracy: 0.9285 - val_loss: 0.2419 - val_accuracy: 0.9037\n",
      "Epoch 4/10\n",
      "760/760 [==============================] - 165s 217ms/step - loss: 0.2091 - accuracy: 0.9129 - val_loss: 0.2373 - val_accuracy: 0.9040\n",
      "Epoch 5/10\n",
      "760/760 [==============================] - 161s 212ms/step - loss: 0.1601 - accuracy: 0.9354 - val_loss: 0.2454 - val_accuracy: 0.9043\n",
      "Epoch 6/10\n",
      "760/760 [==============================] - 162s 213ms/step - loss: 0.1685 - accuracy: 0.9319 - val_loss: 0.2353 - val_accuracy: 0.9060\n",
      "Epoch 7/10\n",
      "760/760 [==============================] - 158s 207ms/step - loss: 0.1393 - accuracy: 0.9448 - val_loss: 0.2259 - val_accuracy: 0.9131\n",
      "Epoch 8/10\n",
      "760/760 [==============================] - 148s 194ms/step - loss: 0.2305 - accuracy: 0.9016 - val_loss: 0.3106 - val_accuracy: 0.8685\n",
      "Epoch 9/10\n",
      "760/760 [==============================] - 157s 206ms/step - loss: 0.1801 - accuracy: 0.9245 - val_loss: 0.2600 - val_accuracy: 0.9001\n",
      "Epoch 10/10\n",
      "760/760 [==============================] - 156s 205ms/step - loss: 0.1335 - accuracy: 0.9469 - val_loss: 0.2467 - val_accuracy: 0.9057\n"
     ]
    },
    {
     "data": {
      "text/plain": [
       "<keras.callbacks.History at 0x7f882da375e0>"
      ]
     },
     "execution_count": 29,
     "metadata": {},
     "output_type": "execute_result"
    }
   ],
   "source": [
    "# Splitting the final data into X_train, X_test, y_train and y_test for model fitting\n",
    "X_train, X_test, y_train, y_test = train_test_split(X_final, y_final, test_size=0.20, random_state=42)\n",
    "\n",
    "# Fitting with 10 epochs and 64 batch size\n",
    "model.fit(X_train,y_train,validation_data=(X_test,y_test),epochs=10,batch_size=64)"
   ]
  },
  {
   "cell_type": "code",
   "execution_count": 34,
   "metadata": {
    "colab": {
     "base_uri": "https://localhost:8080/"
    },
    "id": "6bAyzLdzzdcg",
    "outputId": "44e23415-e080-4731-e639-83cd31386ab3"
   },
   "outputs": [
    {
     "name": "stdout",
     "output_type": "stream",
     "text": [
      "380/380 [==============================] - 26s 68ms/step\n"
     ]
    }
   ],
   "source": [
    "from sklearn.metrics import confusion_matrix, ConfusionMatrixDisplay\n",
    "\n",
    "# Predicting from test data\n",
    "y_pred=model.predict(X_test)"
   ]
  },
  {
   "cell_type": "code",
   "execution_count": 45,
   "metadata": {
    "colab": {
     "base_uri": "https://localhost:8080/",
     "height": 483
    },
    "id": "-03adhOV0iiR",
    "outputId": "3040c109-dc2c-420a-9fb3-a4c308c28275"
   },
   "outputs": [
    {
     "data": {
      "text/plain": [
       "<Figure size 1500x1500 with 0 Axes>"
      ]
     },
     "metadata": {},
     "output_type": "display_data"
    },
    {
     "data": {
      "image/png": "[encoded data removed]",
      "text/plain": [
       "<Figure size 640x480 with 2 Axes>"
      ]
     },
     "metadata": {},
     "output_type": "display_data"
    }
   ],
   "source": [
    "from sklearn.metrics import confusion_matrix, ConfusionMatrixDisplay\n",
    "\n",
    "# Round the predicted probabilities to get predicted classes (0 or 1)\n",
    "y_pred = (y_pred > 0.5).astype(int)\n",
    "\n",
    "# Confusion matrix\n",
    "cm = confusion_matrix(y_test, y_pred)\n",
    "# Display labels\n",
    "display_labels = ['Fake', 'True']\n",
    "disp = ConfusionMatrixDisplay(confusion_matrix=cm, display_labels=display_labels)\n",
    "plt.gcf().set_size_inches(15, 15)\n",
    "disp.plot()\n",
    "\n",
    "plt.title('Confusion Matrix')\n",
    "plt.xlabel('Predicted Labels')\n",
    "plt.ylabel('True Labels')\n",
    "\n",
    "plt.show()"
   ]
  },
  {
   "cell_type": "code",
   "execution_count": 42,
   "metadata": {
    "colab": {
     "base_uri": "https://localhost:8080/"
    },
    "id": "ay28FtF62MIJ",
    "outputId": "c0db5762-f359-4d34-edf5-fd6e3521cd02"
   },
   "outputs": [
    {
     "data": {
      "text/plain": [
       "0.9057458017780705"
      ]
     },
     "execution_count": 42,
     "metadata": {},
     "output_type": "execute_result"
    }
   ],
   "source": [
    "from sklearn.metrics import accuracy_score\n",
    "accuracy_score(y_test,y_pred)"
   ]
  },
  {
   "cell_type": "code",
   "execution_count": 41,
   "metadata": {
    "colab": {
     "base_uri": "https://localhost:8080/"
    },
    "id": "NcqE3I_713iN",
    "outputId": "80aa5ef5-b727-424d-90dd-634aa5f2531a"
   },
   "outputs": [
    {
     "name": "stdout",
     "output_type": "stream",
     "text": [
      "Classification Report:\n",
      "               precision    recall  f1-score   support\n",
      "\n",
      "           0       0.89      0.86      0.87      4611\n",
      "           1       0.92      0.93      0.92      7537\n",
      "\n",
      "    accuracy                           0.91     12148\n",
      "   macro avg       0.90      0.90      0.90     12148\n",
      "weighted avg       0.91      0.91      0.91     12148\n",
      "\n"
     ]
    }
   ],
   "source": [
    "from sklearn.metrics import classification_report\n",
    "\n",
    "print(\"Classification Report:\\n\",classification_report(y_test, y_pred))\n",
    "\n"
   ]
  },
  {
   "cell_type": "code",
   "execution_count": 25,
   "metadata": {},
   "outputs": [
    {
     "name": "stdout",
     "output_type": "stream",
     "text": [
      "Epoch 1/15\n"
     ]
    },
    {
     "name": "stderr",
     "output_type": "stream",
     "text": [
      "2023-08-12 10:16:00.163206: I tensorflow/core/grappler/optimizers/custom_graph_optimizer_registry.cc:114] Plugin optimizer for device_type GPU is enabled.\n",
      "2023-08-12 10:16:00.781642: I tensorflow/core/grappler/optimizers/custom_graph_optimizer_registry.cc:114] Plugin optimizer for device_type GPU is enabled.\n",
      "2023-08-12 10:16:02.437924: I tensorflow/core/grappler/optimizers/custom_graph_optimizer_registry.cc:114] Plugin optimizer for device_type GPU is enabled.\n"
     ]
    },
    {
     "name": "stdout",
     "output_type": "stream",
     "text": [
      "760/760 [==============================] - ETA: 0s - loss: 0.2909 - accuracy: 0.8781"
     ]
    },
    {
     "name": "stderr",
     "output_type": "stream",
     "text": [
      "2023-08-12 10:25:05.784348: I tensorflow/core/grappler/optimizers/custom_graph_optimizer_registry.cc:114] Plugin optimizer for device_type GPU is enabled.\n",
      "2023-08-12 10:25:05.868147: I tensorflow/core/grappler/optimizers/custom_graph_optimizer_registry.cc:114] Plugin optimizer for device_type GPU is enabled.\n"
     ]
    },
    {
     "name": "stdout",
     "output_type": "stream",
     "text": [
      "760/760 [==============================] - 574s 751ms/step - loss: 0.2909 - accuracy: 0.8781 - val_loss: 0.2175 - val_accuracy: 0.9127\n",
      "Epoch 2/15\n",
      "760/760 [==============================] - 2041s 3s/step - loss: 0.2159 - accuracy: 0.9111 - val_loss: 0.2223 - val_accuracy: 0.9089\n",
      "Epoch 3/15\n",
      "760/760 [==============================] - 554s 728ms/step - loss: 0.2439 - accuracy: 0.9058 - val_loss: 0.2445 - val_accuracy: 0.9024\n",
      "Epoch 4/15\n",
      "760/760 [==============================] - 553s 727ms/step - loss: 0.1906 - accuracy: 0.9223 - val_loss: 0.2224 - val_accuracy: 0.9133\n",
      "Epoch 5/15\n",
      "760/760 [==============================] - 563s 740ms/step - loss: 0.2678 - accuracy: 0.8899 - val_loss: 0.3109 - val_accuracy: 0.8676\n",
      "Epoch 6/15\n",
      "760/760 [==============================] - 559s 736ms/step - loss: 0.2402 - accuracy: 0.9035 - val_loss: 0.2394 - val_accuracy: 0.9002\n",
      "Epoch 7/15\n",
      "760/760 [==============================] - 554s 729ms/step - loss: 0.1828 - accuracy: 0.9273 - val_loss: 0.2459 - val_accuracy: 0.9015\n",
      "Epoch 8/15\n",
      "760/760 [==============================] - 555s 730ms/step - loss: 0.1839 - accuracy: 0.9276 - val_loss: 0.2468 - val_accuracy: 0.9041\n",
      "Epoch 9/15\n",
      "760/760 [==============================] - 560s 736ms/step - loss: 0.1723 - accuracy: 0.9327 - val_loss: 0.2334 - val_accuracy: 0.9085\n",
      "Epoch 10/15\n",
      "760/760 [==============================] - 569s 749ms/step - loss: 0.2086 - accuracy: 0.9139 - val_loss: 0.2572 - val_accuracy: 0.8898\n",
      "Epoch 11/15\n",
      "760/760 [==============================] - 570s 750ms/step - loss: 0.1850 - accuracy: 0.9230 - val_loss: 0.2512 - val_accuracy: 0.9042\n",
      "Epoch 12/15\n",
      "760/760 [==============================] - 556s 731ms/step - loss: 0.1498 - accuracy: 0.9407 - val_loss: 0.2936 - val_accuracy: 0.8771\n",
      "Epoch 13/15\n",
      "760/760 [==============================] - 567s 747ms/step - loss: 0.1474 - accuracy: 0.9442 - val_loss: 0.2383 - val_accuracy: 0.9077\n",
      "Epoch 14/15\n",
      "760/760 [==============================] - 567s 746ms/step - loss: 0.1582 - accuracy: 0.9396 - val_loss: 0.2700 - val_accuracy: 0.8848\n",
      "Epoch 15/15\n",
      "760/760 [==============================] - 561s 738ms/step - loss: 0.1419 - accuracy: 0.9446 - val_loss: 0.2596 - val_accuracy: 0.9024\n"
     ]
    },
    {
     "data": {
      "text/plain": [
       "<keras.src.callbacks.History at 0x290258760>"
      ]
     },
     "execution_count": 25,
     "metadata": {},
     "output_type": "execute_result"
    }
   ],
   "source": [
    "# Splitting the final data into X_train, X_test, y_train and y_test for model fitting\n",
    "X_train, X_test, y_train, y_test = train_test_split(X_final, y_final, test_size=0.20, random_state=42)\n",
    "\n",
    "# Fitting with 10 epochs and 64 batch size\n",
    "model.fit(X_train,y_train,validation_data=(X_test,y_test),epochs=15,batch_size=64)"
   ]
  },
  {
   "cell_type": "code",
   "execution_count": 26,
   "metadata": {},
   "outputs": [
    {
     "name": "stderr",
     "output_type": "stream",
     "text": [
      "2023-08-12 13:02:07.746390: I tensorflow/core/grappler/optimizers/custom_graph_optimizer_registry.cc:114] Plugin optimizer for device_type GPU is enabled.\n",
      "2023-08-12 13:02:07.944695: I tensorflow/core/grappler/optimizers/custom_graph_optimizer_registry.cc:114] Plugin optimizer for device_type GPU is enabled.\n"
     ]
    },
    {
     "name": "stdout",
     "output_type": "stream",
     "text": [
      "380/380 [==============================] - 47s 123ms/step\n"
     ]
    }
   ],
   "source": [
    "from sklearn.metrics import confusion_matrix, ConfusionMatrixDisplay\n",
    "\n",
    "# Predicting from test data\n",
    "y_pred=model.predict(X_test)"
   ]
  },
  {
   "cell_type": "code",
   "execution_count": 27,
   "metadata": {},
   "outputs": [
    {
     "data": {
      "text/plain": [
       "<Figure size 1500x1500 with 0 Axes>"
      ]
     },
     "metadata": {},
     "output_type": "display_data"
    },
    {
     "data": {
      "image/png": "[encoded data removed]",
      "text/plain": [
       "<Figure size 640x480 with 2 Axes>"
      ]
     },
     "metadata": {},
     "output_type": "display_data"
    }
   ],
   "source": [
    "from sklearn.metrics import confusion_matrix, ConfusionMatrixDisplay\n",
    "\n",
    "# Round the predicted probabilities to get predicted classes (0 or 1)\n",
    "y_pred = (y_pred > 0.5).astype(int)\n",
    "\n",
    "# Confusion matrix\n",
    "cm = confusion_matrix(y_test, y_pred)\n",
    "# Display labels\n",
    "display_labels = ['Fake', 'True']\n",
    "disp = ConfusionMatrixDisplay(confusion_matrix=cm, display_labels=display_labels)\n",
    "plt.gcf().set_size_inches(15, 15)\n",
    "disp.plot()\n",
    "\n",
    "plt.title('Confusion Matrix')\n",
    "plt.xlabel('Predicted Labels')\n",
    "plt.ylabel('True Labels')\n",
    "\n",
    "plt.show()"
   ]
  },
  {
   "cell_type": "code",
   "execution_count": 28,
   "metadata": {},
   "outputs": [
    {
     "data": {
      "text/plain": [
       "0.902370760619032"
      ]
     },
     "execution_count": 28,
     "metadata": {},
     "output_type": "execute_result"
    }
   ],
   "source": [
    "from sklearn.metrics import accuracy_score\n",
    "accuracy_score(y_test,y_pred)"
   ]
  },
  {
   "cell_type": "code",
   "execution_count": 29,
   "metadata": {},
   "outputs": [
    {
     "name": "stdout",
     "output_type": "stream",
     "text": [
      "Classification Report:\n",
      "               precision    recall  f1-score   support\n",
      "\n",
      "           0       0.89      0.84      0.87      4609\n",
      "           1       0.91      0.94      0.92      7539\n",
      "\n",
      "    accuracy                           0.90     12148\n",
      "   macro avg       0.90      0.89      0.90     12148\n",
      "weighted avg       0.90      0.90      0.90     12148\n",
      "\n"
     ]
    }
   ],
   "source": [
    "from sklearn.metrics import classification_report\n",
    "\n",
    "print(\"Classification Report:\\n\",classification_report(y_test, y_pred))\n",
    "\n"
   ]
  },
  {
   "cell_type": "code",
   "execution_count": 15,
   "metadata": {},
   "outputs": [
    {
     "name": "stdout",
     "output_type": "stream",
     "text": [
      "Epoch 1/10\n"
     ]
    },
    {
     "name": "stderr",
     "output_type": "stream",
     "text": [
      "2023-08-12 20:01:53.113590: I tensorflow/core/grappler/optimizers/custom_graph_optimizer_registry.cc:114] Plugin optimizer for device_type GPU is enabled.\n",
      "2023-08-12 20:01:53.336692: I tensorflow/core/grappler/optimizers/custom_graph_optimizer_registry.cc:114] Plugin optimizer for device_type GPU is enabled.\n",
      "2023-08-12 20:01:53.786126: I tensorflow/core/grappler/optimizers/custom_graph_optimizer_registry.cc:114] Plugin optimizer for device_type GPU is enabled.\n"
     ]
    },
    {
     "name": "stdout",
     "output_type": "stream",
     "text": [
      " 269/1519 [====>.........................] - ETA: 11:08 - loss: 0.3925 - accuracy: 0.8275"
     ]
    }
   ],
   "source": [
    "# Fitting with 10 epochs and 32 batch size\n",
    "model.fit(X_train,y_train,validation_data=(X_test,y_test),epochs=10,batch_size=32)"
   ]
  },
  {
   "cell_type": "code",
   "execution_count": 2,
   "metadata": {},
   "outputs": [
    {
     "ename": "NameError",
     "evalue": "name 'model' is not defined",
     "output_type": "error",
     "traceback": [
      "\u001b[0;31m---------------------------------------------------------------------------\u001b[0m",
      "\u001b[0;31mNameError\u001b[0m                                 Traceback (most recent call last)",
      "Cell \u001b[0;32mIn[2], line 2\u001b[0m\n\u001b[1;32m      1\u001b[0m \u001b[39m#save the tensorflow model\u001b[39;00m\n\u001b[0;32m----> 2\u001b[0m model\u001b[39m.\u001b[39msave(\u001b[39m'\u001b[39m\u001b[39mmodel.h5\u001b[39m\u001b[39m'\u001b[39m)\n",
      "\u001b[0;31mNameError\u001b[0m: name 'model' is not defined"
     ]
    }
   ],
   "source": [
    "#save the tensorflow model\n",
    "model.save('LSTM_model.h5')"
   ]
  },
  {
   "cell_type": "code",
   "execution_count": null,
   "metadata": {},
   "outputs": [],
   "source": [
    "# Predicting from test data\n",
    "y_pred=model.predict(X_test)"
   ]
  },
  {
   "cell_type": "code",
   "execution_count": null,
   "metadata": {},
   "outputs": [],
   "source": [
    "#Checking the accuracy of the model on the test set\n",
    "accuracy_score(y_test,y_pred)"
   ]
  },
  {
   "cell_type": "code",
   "execution_count": null,
   "metadata": {},
   "outputs": [],
   "source": [
    "print(\"Classification Report:\\n\",classification_report(y_test, y_pred))"
   ]
  },
  {
   "cell_type": "markdown",
   "metadata": {
    "id": "mH-QL-wJX5ji"
   },
   "source": [
    "**Conclusion :** We can clearly notice that probabilies are quite low by our model. This might be because `bloomz-1b1` might not have been trained on classification task espcially fake news. `ZeroShotClassifier` and `FewShotClassifer` heavily relies on the pre trained data quality, therefore, there is possibility that it might not run on low level distiction between different categories."
   ]
  },
  {
   "cell_type": "markdown",
   "metadata": {
    "id": "qUElA8iRp_9J"
   },
   "source": [
    "We can cross validation by the above outcome by using Skorch builtin method `error_low_prob`."
   ]
  },
  {
   "cell_type": "markdown",
   "metadata": {
    "id": "pfPkJZMfps0J"
   },
   "source": [
    "**Next Step :** It is now confirmed that the `bloomz-1b1` is not the right model for classification task especially for `real` and `fake`. Though, `ZeroShotClassifier` and `FewShotClassifer` have its own benefits such as:\n",
    "\n",
    "*   It can work on the unseen data based using pre trained models.\n",
    "*   Reduced the need for re training or fine tunining with respect to relationship between different classes or categories\n",
    "*   Easy to scale as it can handle wide range of inputs.\n",
    "\n",
    "However, It only depends on the model you are usuing. We have clearly confirmed from our analysis that `bloomz-1b1` is not the right model even though it is trained over 1 billion parameters. One possible solution is to try other low paramters models using `ZeroShotClassifier` and `FewShotClassifer` with the help of `GridCVSearch`. However, this will be resource hungry task and we might not get the desired results. Therefore, Next step in my journey of identifying best working model for fake news classification is as follows:\n",
    "\n",
    "1.   FineTune LLM for classification task and select the model that perfromed well for fake news classification task. Best performing model could be easily identifed from research papers already analysed.\n",
    "2.   Develop fake news classifier using using Long Short Term Memory (LSTM).\n",
    "3.   Develop Standard machine learning solution using classical supervised machine learning approach (Baseline Approaches).\n",
    "\n",
    "\n",
    "\n",
    "\n",
    "\n"
   ]
  }
 ],
 "metadata": {
  "accelerator": "GPU",
  "colab": {
   "gpuType": "T4",
   "provenance": []
  },
  "kernelspec": {
   "display_name": "Python 3 (ipykernel)",
   "language": "python",
   "name": "python3"
  },
  "language_info": {
   "codemirror_mode": {
    "name": "ipython",
    "version": 3
   },
   "file_extension": ".py",
   "mimetype": "text/x-python",
   "name": "python",
   "nbconvert_exporter": "python",
   "pygments_lexer": "ipython3",
   "version": "3.10.9"
  }
 },
 "nbformat": 4,
 "nbformat_minor": 1
}
