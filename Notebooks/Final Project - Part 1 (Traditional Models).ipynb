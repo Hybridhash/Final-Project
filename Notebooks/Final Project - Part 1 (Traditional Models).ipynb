{
 "cells": [
  {
   "cell_type": "code",
   "execution_count": 49,
   "metadata": {},
   "outputs": [
    {
     "name": "stdout",
     "output_type": "stream",
     "text": [
      "Collecting en-core-web-sm==3.6.0\n",
      "  Downloading https://github.com/explosion/spacy-models/releases/download/en_core_web_sm-3.6.0/en_core_web_sm-3.6.0-py3-none-any.whl (12.8 MB)\n",
      "\u001b[2K     \u001b[90m━━━━━━━━━━━━━━━━━━━━━━━━━━━━━━━━━━━━━━━━\u001b[0m \u001b[32m12.8/12.8 MB\u001b[0m \u001b[31m14.4 MB/s\u001b[0m eta \u001b[36m0:00:00\u001b[0m00:01\u001b[0m00:01\u001b[0m\n",
      "\u001b[?25hRequirement already satisfied: spacy<3.7.0,>=3.6.0 in /Users/ahmad/Desktop/Coding/Final Project/Final-Project/.venv/lib/python3.11/site-packages (from en-core-web-sm==3.6.0) (3.6.1)\n",
      "Requirement already satisfied: spacy-legacy<3.1.0,>=3.0.11 in /Users/ahmad/Desktop/Coding/Final Project/Final-Project/.venv/lib/python3.11/site-packages (from spacy<3.7.0,>=3.6.0->en-core-web-sm==3.6.0) (3.0.12)\n",
      "Requirement already satisfied: spacy-loggers<2.0.0,>=1.0.0 in /Users/ahmad/Desktop/Coding/Final Project/Final-Project/.venv/lib/python3.11/site-packages (from spacy<3.7.0,>=3.6.0->en-core-web-sm==3.6.0) (1.0.4)\n",
      "Requirement already satisfied: murmurhash<1.1.0,>=0.28.0 in /Users/ahmad/Desktop/Coding/Final Project/Final-Project/.venv/lib/python3.11/site-packages (from spacy<3.7.0,>=3.6.0->en-core-web-sm==3.6.0) (1.0.9)\n",
      "Requirement already satisfied: cymem<2.1.0,>=2.0.2 in /Users/ahmad/Desktop/Coding/Final Project/Final-Project/.venv/lib/python3.11/site-packages (from spacy<3.7.0,>=3.6.0->en-core-web-sm==3.6.0) (2.0.7)\n",
      "Requirement already satisfied: preshed<3.1.0,>=3.0.2 in /Users/ahmad/Desktop/Coding/Final Project/Final-Project/.venv/lib/python3.11/site-packages (from spacy<3.7.0,>=3.6.0->en-core-web-sm==3.6.0) (3.0.8)\n",
      "Requirement already satisfied: thinc<8.2.0,>=8.1.8 in /Users/ahmad/Desktop/Coding/Final Project/Final-Project/.venv/lib/python3.11/site-packages (from spacy<3.7.0,>=3.6.0->en-core-web-sm==3.6.0) (8.1.12)\n",
      "Requirement already satisfied: wasabi<1.2.0,>=0.9.1 in /Users/ahmad/Desktop/Coding/Final Project/Final-Project/.venv/lib/python3.11/site-packages (from spacy<3.7.0,>=3.6.0->en-core-web-sm==3.6.0) (1.1.2)\n",
      "Requirement already satisfied: srsly<3.0.0,>=2.4.3 in /Users/ahmad/Desktop/Coding/Final Project/Final-Project/.venv/lib/python3.11/site-packages (from spacy<3.7.0,>=3.6.0->en-core-web-sm==3.6.0) (2.4.7)\n",
      "Requirement already satisfied: catalogue<2.1.0,>=2.0.6 in /Users/ahmad/Desktop/Coding/Final Project/Final-Project/.venv/lib/python3.11/site-packages (from spacy<3.7.0,>=3.6.0->en-core-web-sm==3.6.0) (2.0.9)\n",
      "Requirement already satisfied: typer<0.10.0,>=0.3.0 in /Users/ahmad/Desktop/Coding/Final Project/Final-Project/.venv/lib/python3.11/site-packages (from spacy<3.7.0,>=3.6.0->en-core-web-sm==3.6.0) (0.9.0)\n",
      "Requirement already satisfied: pathy>=0.10.0 in /Users/ahmad/Desktop/Coding/Final Project/Final-Project/.venv/lib/python3.11/site-packages (from spacy<3.7.0,>=3.6.0->en-core-web-sm==3.6.0) (0.10.2)\n",
      "Requirement already satisfied: smart-open<7.0.0,>=5.2.1 in /Users/ahmad/Desktop/Coding/Final Project/Final-Project/.venv/lib/python3.11/site-packages (from spacy<3.7.0,>=3.6.0->en-core-web-sm==3.6.0) (6.3.0)\n",
      "Requirement already satisfied: tqdm<5.0.0,>=4.38.0 in /Users/ahmad/Desktop/Coding/Final Project/Final-Project/.venv/lib/python3.11/site-packages (from spacy<3.7.0,>=3.6.0->en-core-web-sm==3.6.0) (4.66.1)\n",
      "Requirement already satisfied: numpy>=1.15.0 in /Users/ahmad/Desktop/Coding/Final Project/Final-Project/.venv/lib/python3.11/site-packages (from spacy<3.7.0,>=3.6.0->en-core-web-sm==3.6.0) (1.25.2)\n",
      "Requirement already satisfied: requests<3.0.0,>=2.13.0 in /Users/ahmad/Desktop/Coding/Final Project/Final-Project/.venv/lib/python3.11/site-packages (from spacy<3.7.0,>=3.6.0->en-core-web-sm==3.6.0) (2.31.0)\n",
      "Requirement already satisfied: pydantic!=1.8,!=1.8.1,<3.0.0,>=1.7.4 in /Users/ahmad/Desktop/Coding/Final Project/Final-Project/.venv/lib/python3.11/site-packages (from spacy<3.7.0,>=3.6.0->en-core-web-sm==3.6.0) (2.3.0)\n",
      "Requirement already satisfied: jinja2 in /Users/ahmad/Desktop/Coding/Final Project/Final-Project/.venv/lib/python3.11/site-packages (from spacy<3.7.0,>=3.6.0->en-core-web-sm==3.6.0) (3.1.2)\n",
      "Requirement already satisfied: setuptools in /Users/ahmad/Desktop/Coding/Final Project/Final-Project/.venv/lib/python3.11/site-packages (from spacy<3.7.0,>=3.6.0->en-core-web-sm==3.6.0) (68.1.2)\n",
      "Requirement already satisfied: packaging>=20.0 in /Users/ahmad/Desktop/Coding/Final Project/Final-Project/.venv/lib/python3.11/site-packages (from spacy<3.7.0,>=3.6.0->en-core-web-sm==3.6.0) (23.1)\n",
      "Requirement already satisfied: langcodes<4.0.0,>=3.2.0 in /Users/ahmad/Desktop/Coding/Final Project/Final-Project/.venv/lib/python3.11/site-packages (from spacy<3.7.0,>=3.6.0->en-core-web-sm==3.6.0) (3.3.0)\n",
      "Requirement already satisfied: annotated-types>=0.4.0 in /Users/ahmad/Desktop/Coding/Final Project/Final-Project/.venv/lib/python3.11/site-packages (from pydantic!=1.8,!=1.8.1,<3.0.0,>=1.7.4->spacy<3.7.0,>=3.6.0->en-core-web-sm==3.6.0) (0.5.0)\n",
      "Requirement already satisfied: pydantic-core==2.6.3 in /Users/ahmad/Desktop/Coding/Final Project/Final-Project/.venv/lib/python3.11/site-packages (from pydantic!=1.8,!=1.8.1,<3.0.0,>=1.7.4->spacy<3.7.0,>=3.6.0->en-core-web-sm==3.6.0) (2.6.3)\n",
      "Requirement already satisfied: typing-extensions>=4.6.1 in /Users/ahmad/Desktop/Coding/Final Project/Final-Project/.venv/lib/python3.11/site-packages (from pydantic!=1.8,!=1.8.1,<3.0.0,>=1.7.4->spacy<3.7.0,>=3.6.0->en-core-web-sm==3.6.0) (4.7.1)\n",
      "Requirement already satisfied: charset-normalizer<4,>=2 in /Users/ahmad/Desktop/Coding/Final Project/Final-Project/.venv/lib/python3.11/site-packages (from requests<3.0.0,>=2.13.0->spacy<3.7.0,>=3.6.0->en-core-web-sm==3.6.0) (3.2.0)\n",
      "Requirement already satisfied: idna<4,>=2.5 in /Users/ahmad/Desktop/Coding/Final Project/Final-Project/.venv/lib/python3.11/site-packages (from requests<3.0.0,>=2.13.0->spacy<3.7.0,>=3.6.0->en-core-web-sm==3.6.0) (3.4)\n",
      "Requirement already satisfied: urllib3<3,>=1.21.1 in /Users/ahmad/Desktop/Coding/Final Project/Final-Project/.venv/lib/python3.11/site-packages (from requests<3.0.0,>=2.13.0->spacy<3.7.0,>=3.6.0->en-core-web-sm==3.6.0) (2.0.4)\n",
      "Requirement already satisfied: certifi>=2017.4.17 in /Users/ahmad/Desktop/Coding/Final Project/Final-Project/.venv/lib/python3.11/site-packages (from requests<3.0.0,>=2.13.0->spacy<3.7.0,>=3.6.0->en-core-web-sm==3.6.0) (2023.7.22)\n",
      "Requirement already satisfied: blis<0.8.0,>=0.7.8 in /Users/ahmad/Desktop/Coding/Final Project/Final-Project/.venv/lib/python3.11/site-packages (from thinc<8.2.0,>=8.1.8->spacy<3.7.0,>=3.6.0->en-core-web-sm==3.6.0) (0.7.10)\n",
      "Requirement already satisfied: confection<1.0.0,>=0.0.1 in /Users/ahmad/Desktop/Coding/Final Project/Final-Project/.venv/lib/python3.11/site-packages (from thinc<8.2.0,>=8.1.8->spacy<3.7.0,>=3.6.0->en-core-web-sm==3.6.0) (0.1.1)\n",
      "Requirement already satisfied: click<9.0.0,>=7.1.1 in /Users/ahmad/Desktop/Coding/Final Project/Final-Project/.venv/lib/python3.11/site-packages (from typer<0.10.0,>=0.3.0->spacy<3.7.0,>=3.6.0->en-core-web-sm==3.6.0) (8.1.7)\n",
      "Requirement already satisfied: MarkupSafe>=2.0 in /Users/ahmad/Desktop/Coding/Final Project/Final-Project/.venv/lib/python3.11/site-packages (from jinja2->spacy<3.7.0,>=3.6.0->en-core-web-sm==3.6.0) (2.1.3)\n",
      "\u001b[38;5;2m✔ Download and installation successful\u001b[0m\n",
      "You can now load the package via spacy.load('en_core_web_sm')\n"
     ]
    }
   ],
   "source": [
    "# Data Manipulation and Analysis\n",
    "import pandas as pd\n",
    "import numpy as np\n",
    "import itertools\n",
    "\n",
    "# Natural Language Processing (NLP) Libraries\n",
    "import nltk as nltk\n",
    "from nltk.corpus import stopwords\n",
    "from nltk.tokenize import word_tokenize\n",
    "from nltk.stem import PorterStemmer\n",
    "from nltk.stem import WordNetLemmatizer\n",
    "from nltk.stem import SnowballStemmer\n",
    "from nltk.probability import FreqDist\n",
    "import regex as re\n",
    "\n",
    "# Data Visualization\n",
    "import matplotlib.pyplot as plt\n",
    "import seaborn as sns\n",
    "from sklearn.metrics import confusion_matrix, ConfusionMatrixDisplay\n",
    "\n",
    "# Machine Learning and Data Science Libraries\n",
    "import sklearn\n",
    "from sklearn.metrics import accuracy_score, log_loss\n",
    "from sklearn.linear_model import LogisticRegression\n",
    "from sklearn.pipeline import make_pipeline\n",
    "from sklearn.preprocessing import StandardScaler\n",
    "from sklearn.neighbors import KNeighborsClassifier\n",
    "from sklearn.metrics import classification_report\n",
    "from sklearn import metrics\n",
    "\n",
    "# Text Processing and Analysis\n",
    "import spacy\n",
    "from spacy.cli import download\n",
    "download('en_core_web_sm')\n",
    "from textblob import TextBlob\n",
    "import swifter\n",
    "\n",
    "# Word Cloud Generation\n",
    "from wordcloud import WordCloud\n"
   ]
  },
  {
   "attachments": {},
   "cell_type": "markdown",
   "metadata": {},
   "source": [
    "<h3 style=\"color:#7a5138\">Stage 1 -  Loading Datasets</h3>"
   ]
  },
  {
   "cell_type": "markdown",
   "metadata": {},
   "source": [
    "| Dataset     | Size    | Source | URL |\n",
    "| -----------| ----------- | ----------- |----------- |\n",
    "| FakeNewsNet      | 44.1 MB     | GitHub |https://github.com/KaiDMML/FakeNewsNet |\n",
    "| ISOT Dataset      | 116.4 MB |University of Victoria|https://onlineacademiccommunity.uvic.ca/isot/2022/11/27/fake-news-detection-datasets/ |"
   ]
  },
  {
   "cell_type": "code",
   "execution_count": 50,
   "metadata": {},
   "outputs": [],
   "source": [
    "# Loading Datasets from the CSV's using pandas built function\n",
    "# Data is collected from two different sources for Training, Validation and Testing Purposes\n",
    "\n",
    "#FakeNewsNet Datasets\n",
    "FakeNewsNet_Politifact_True = pd.read_csv(\"../Datasets/FakeNewsNet/politifact_real.csv\")\n",
    "FakeNewsNet_Politifact_Fake = pd.read_csv(\"../Datasets/FakeNewsNet/politifact_fake.csv\")\n",
    "FakeNewsNet_Gossipcorp_True = pd.read_csv(\"../Datasets/FakeNewsNet/gossipcop_real.csv\")\n",
    "FakeNewsNet_Gossipcorp_Fake = pd.read_csv(\"../Datasets/FakeNewsNet/gossipcop_fake.csv\")\n",
    "\n",
    "#ISOT Datasets\n",
    "ISOT_Dataset_True = pd.read_csv(\"../Datasets/ISOT-dataset/True.csv\")\n",
    "ISOT_Dataset_Fake= pd.read_csv(\"../Datasets/ISOT-dataset/Fake.csv\")"
   ]
  },
  {
   "cell_type": "markdown",
   "metadata": {},
   "source": [
    "<p style=color:#38629C><b style=color:#467200>Dataset  1 - FakeNewsNet Dataset: </b>This dataset includes News classified as fake or true by specialized organizations such as Gossipcop and Politifact. Datasets are divided into four different files:</p>\n",
    "<ul style=color:#38629C>\n",
    "<li>Politifact Real – Real news collected from Politifact</li>\n",
    "<li>Politifact Fake – Fake news collected from Politifact</li>\n",
    "<li>Gossipcop Real – Real news collected from Gossipcop</li>\n",
    "<li>Gossipcop Fake  – Fake news collected from Gossipcop</li>\n",
    "</ul>\n",
    "<p style=color:#38629C>There are 23,196 records in total, with the distribution under each file as follows:</p>\n",
    "<ul style=color:#38629C>\n",
    "<li>Politifact Real – 624 Records</li>\n",
    "<li>Politifact Fake – 432 Records</li>\n",
    "<li>Gossipcop Real – 16,817 Records</li>\n",
    "<li>Gossipcop Fake  – 5,323 Records</li>\n",
    "</ul>\n",
    "\n",
    "<p style=color:#467200> There are more real news collected in comparison to the fake news. This may be because fact-checking organizations prioritize verifying claims in popular stories which tend to be real news stories.</p>\n",
    "\n",
    "<p style=color:#38629C>The columns and its nature are as follow: </p>\n",
    "\n",
    "<ul style=color:#38629C>\n",
    "<li>id – Identifier for the row in the dataset.</li>\n",
    "<li>url – URL of the website published the article.</li>\n",
    "<li>title – Title of the news article.</li>\n",
    "<li>tweet_ids –  Twitter ids involved in sharing the news.</li>\n",
    "</ul>\n",
    "\n"
   ]
  },
  {
   "cell_type": "code",
   "execution_count": 51,
   "metadata": {},
   "outputs": [
    {
     "data": {
      "text/html": [
       "<div>\n",
       "<style scoped>\n",
       "    .dataframe tbody tr th:only-of-type {\n",
       "        vertical-align: middle;\n",
       "    }\n",
       "\n",
       "    .dataframe tbody tr th {\n",
       "        vertical-align: top;\n",
       "    }\n",
       "\n",
       "    .dataframe thead th {\n",
       "        text-align: right;\n",
       "    }\n",
       "</style>\n",
       "<table border=\"1\" class=\"dataframe\">\n",
       "  <thead>\n",
       "    <tr style=\"text-align: right;\">\n",
       "      <th></th>\n",
       "      <th>id</th>\n",
       "      <th>news_url</th>\n",
       "      <th>title</th>\n",
       "      <th>tweet_ids</th>\n",
       "    </tr>\n",
       "  </thead>\n",
       "  <tbody>\n",
       "    <tr>\n",
       "      <th>0</th>\n",
       "      <td>politifact14984</td>\n",
       "      <td>http://www.nfib-sbet.org/</td>\n",
       "      <td>National Federation of Independent Business</td>\n",
       "      <td>967132259869487105\\t967164368768196609\\t967215...</td>\n",
       "    </tr>\n",
       "    <tr>\n",
       "      <th>1</th>\n",
       "      <td>politifact12944</td>\n",
       "      <td>http://www.cq.com/doc/newsmakertranscripts-494...</td>\n",
       "      <td>comments in Fayetteville NC</td>\n",
       "      <td>942953459\\t8980098198\\t16253717352\\t1668513250...</td>\n",
       "    </tr>\n",
       "    <tr>\n",
       "      <th>2</th>\n",
       "      <td>politifact333</td>\n",
       "      <td>https://web.archive.org/web/20080204072132/htt...</td>\n",
       "      <td>Romney makes pitch, hoping to close deal : Ele...</td>\n",
       "      <td>NaN</td>\n",
       "    </tr>\n",
       "    <tr>\n",
       "      <th>3</th>\n",
       "      <td>politifact4358</td>\n",
       "      <td>https://web.archive.org/web/20110811143753/htt...</td>\n",
       "      <td>Democratic Leaders Say House Democrats Are Uni...</td>\n",
       "      <td>NaN</td>\n",
       "    </tr>\n",
       "    <tr>\n",
       "      <th>4</th>\n",
       "      <td>politifact779</td>\n",
       "      <td>https://web.archive.org/web/20070820164107/htt...</td>\n",
       "      <td>Budget of the United States Government, FY 2008</td>\n",
       "      <td>89804710374154240\\t91270460595109888\\t96039619...</td>\n",
       "    </tr>\n",
       "    <tr>\n",
       "      <th>...</th>\n",
       "      <td>...</td>\n",
       "      <td>...</td>\n",
       "      <td>...</td>\n",
       "      <td>...</td>\n",
       "    </tr>\n",
       "    <tr>\n",
       "      <th>619</th>\n",
       "      <td>politifact14731</td>\n",
       "      <td>https://www.flake.senate.gov/public/index.cfm/...</td>\n",
       "      <td>Flake: “Religious tests should have no place i...</td>\n",
       "      <td>NaN</td>\n",
       "    </tr>\n",
       "    <tr>\n",
       "      <th>620</th>\n",
       "      <td>politifact329</td>\n",
       "      <td>https://web.archive.org/web/20080131000131/htt...</td>\n",
       "      <td>Change We Can Believe In</td>\n",
       "      <td>634287923135909888\\t946743411100536832\\t946816...</td>\n",
       "    </tr>\n",
       "    <tr>\n",
       "      <th>621</th>\n",
       "      <td>politifact1576</td>\n",
       "      <td>http://www.youtube.com/watch?v=4O8CxZ1OD58</td>\n",
       "      <td>deputy director of national health statistics ...</td>\n",
       "      <td>NaN</td>\n",
       "    </tr>\n",
       "    <tr>\n",
       "      <th>622</th>\n",
       "      <td>politifact4720</td>\n",
       "      <td>http://www.youtube.com/watch?v=EhyMplwY6HY</td>\n",
       "      <td>Romneys ProLife Conversion Myth or Reality Jun...</td>\n",
       "      <td>188871706637647874</td>\n",
       "    </tr>\n",
       "    <tr>\n",
       "      <th>623</th>\n",
       "      <td>politifact52</td>\n",
       "      <td>https://web.archive.org/web/20071102131244/htt...</td>\n",
       "      <td>Interest Group Ratings</td>\n",
       "      <td>1002208963239337984\\t1024651239697666048</td>\n",
       "    </tr>\n",
       "  </tbody>\n",
       "</table>\n",
       "<p>624 rows × 4 columns</p>\n",
       "</div>"
      ],
      "text/plain": [
       "                  id                                           news_url  \\\n",
       "0    politifact14984                          http://www.nfib-sbet.org/   \n",
       "1    politifact12944  http://www.cq.com/doc/newsmakertranscripts-494...   \n",
       "2      politifact333  https://web.archive.org/web/20080204072132/htt...   \n",
       "3     politifact4358  https://web.archive.org/web/20110811143753/htt...   \n",
       "4      politifact779  https://web.archive.org/web/20070820164107/htt...   \n",
       "..               ...                                                ...   \n",
       "619  politifact14731  https://www.flake.senate.gov/public/index.cfm/...   \n",
       "620    politifact329  https://web.archive.org/web/20080131000131/htt...   \n",
       "621   politifact1576         http://www.youtube.com/watch?v=4O8CxZ1OD58   \n",
       "622   politifact4720         http://www.youtube.com/watch?v=EhyMplwY6HY   \n",
       "623     politifact52  https://web.archive.org/web/20071102131244/htt...   \n",
       "\n",
       "                                                 title  \\\n",
       "0          National Federation of Independent Business   \n",
       "1                          comments in Fayetteville NC   \n",
       "2    Romney makes pitch, hoping to close deal : Ele...   \n",
       "3    Democratic Leaders Say House Democrats Are Uni...   \n",
       "4      Budget of the United States Government, FY 2008   \n",
       "..                                                 ...   \n",
       "619  Flake: “Religious tests should have no place i...   \n",
       "620                           Change We Can Believe In   \n",
       "621  deputy director of national health statistics ...   \n",
       "622  Romneys ProLife Conversion Myth or Reality Jun...   \n",
       "623                             Interest Group Ratings   \n",
       "\n",
       "                                             tweet_ids  \n",
       "0    967132259869487105\\t967164368768196609\\t967215...  \n",
       "1    942953459\\t8980098198\\t16253717352\\t1668513250...  \n",
       "2                                                  NaN  \n",
       "3                                                  NaN  \n",
       "4    89804710374154240\\t91270460595109888\\t96039619...  \n",
       "..                                                 ...  \n",
       "619                                                NaN  \n",
       "620  634287923135909888\\t946743411100536832\\t946816...  \n",
       "621                                                NaN  \n",
       "622                                 188871706637647874  \n",
       "623           1002208963239337984\\t1024651239697666048  \n",
       "\n",
       "[624 rows x 4 columns]"
      ]
     },
     "execution_count": 51,
     "metadata": {},
     "output_type": "execute_result"
    }
   ],
   "source": [
    "FakeNewsNet_Politifact_True"
   ]
  },
  {
   "cell_type": "code",
   "execution_count": 52,
   "metadata": {},
   "outputs": [
    {
     "data": {
      "text/html": [
       "<div>\n",
       "<style scoped>\n",
       "    .dataframe tbody tr th:only-of-type {\n",
       "        vertical-align: middle;\n",
       "    }\n",
       "\n",
       "    .dataframe tbody tr th {\n",
       "        vertical-align: top;\n",
       "    }\n",
       "\n",
       "    .dataframe thead th {\n",
       "        text-align: right;\n",
       "    }\n",
       "</style>\n",
       "<table border=\"1\" class=\"dataframe\">\n",
       "  <thead>\n",
       "    <tr style=\"text-align: right;\">\n",
       "      <th></th>\n",
       "      <th>id</th>\n",
       "      <th>news_url</th>\n",
       "      <th>title</th>\n",
       "      <th>tweet_ids</th>\n",
       "    </tr>\n",
       "  </thead>\n",
       "  <tbody>\n",
       "    <tr>\n",
       "      <th>0</th>\n",
       "      <td>gossipcop-882573</td>\n",
       "      <td>https://www.brides.com/story/teen-mom-jenelle-...</td>\n",
       "      <td>Teen Mom Star Jenelle Evans' Wedding Dress Is ...</td>\n",
       "      <td>912371411146149888\\t912371528343408641\\t912372...</td>\n",
       "    </tr>\n",
       "    <tr>\n",
       "      <th>1</th>\n",
       "      <td>gossipcop-875924</td>\n",
       "      <td>https://www.dailymail.co.uk/tvshowbiz/article-...</td>\n",
       "      <td>Kylie Jenner refusing to discuss Tyga on Life ...</td>\n",
       "      <td>901989917546426369\\t901989992074969089\\t901990...</td>\n",
       "    </tr>\n",
       "    <tr>\n",
       "      <th>2</th>\n",
       "      <td>gossipcop-894416</td>\n",
       "      <td>https://en.wikipedia.org/wiki/Quinn_Perkins</td>\n",
       "      <td>Quinn Perkins</td>\n",
       "      <td>931263637246881792\\t931265332022579201\\t931265...</td>\n",
       "    </tr>\n",
       "    <tr>\n",
       "      <th>3</th>\n",
       "      <td>gossipcop-857248</td>\n",
       "      <td>https://www.refinery29.com/en-us/2018/03/19192...</td>\n",
       "      <td>I Tried Kim Kardashian's Butt Workout &amp; Am For...</td>\n",
       "      <td>868114761723936769\\t868122567910936576\\t868128...</td>\n",
       "    </tr>\n",
       "    <tr>\n",
       "      <th>4</th>\n",
       "      <td>gossipcop-884684</td>\n",
       "      <td>https://www.cnn.com/2017/10/04/entertainment/c...</td>\n",
       "      <td>Celine Dion donates concert proceeds to Vegas ...</td>\n",
       "      <td>915528047004209152\\t915529285171122176\\t915530...</td>\n",
       "    </tr>\n",
       "    <tr>\n",
       "      <th>...</th>\n",
       "      <td>...</td>\n",
       "      <td>...</td>\n",
       "      <td>...</td>\n",
       "      <td>...</td>\n",
       "    </tr>\n",
       "    <tr>\n",
       "      <th>16812</th>\n",
       "      <td>gossipcop-891749</td>\n",
       "      <td>https://omgcheckitout.com/2017-hollywood-film-...</td>\n",
       "      <td>2017 Hollywood Film Awards: The Complete List ...</td>\n",
       "      <td>927385466357260288\\t927386601034010625\\t927387...</td>\n",
       "    </tr>\n",
       "    <tr>\n",
       "      <th>16813</th>\n",
       "      <td>gossipcop-941486</td>\n",
       "      <td>https://pagesix.com/2018/06/04/jada-pinkett-sm...</td>\n",
       "      <td>Jada Pinkett Smith explains why son Jaden move...</td>\n",
       "      <td>1004044947006386178\\t1004045964401889285\\t1004...</td>\n",
       "    </tr>\n",
       "    <tr>\n",
       "      <th>16814</th>\n",
       "      <td>gossipcop-953143</td>\n",
       "      <td>https://www.etonline.com/tinsley-mortimer-reac...</td>\n",
       "      <td>Tinsley Mortimer Reacts to Luann de Lesseps' R...</td>\n",
       "      <td>1019924845889572864\\t1019925702676709377\\t1019...</td>\n",
       "    </tr>\n",
       "    <tr>\n",
       "      <th>16815</th>\n",
       "      <td>gossipcop-954366</td>\n",
       "      <td>https://www.healthbreakingnews.net/2018/07/pri...</td>\n",
       "      <td>Prince Harry Carries on Princess Diana’s Legac...</td>\n",
       "      <td>1021766291139584000\\t1021772054599802880\\t1021...</td>\n",
       "    </tr>\n",
       "    <tr>\n",
       "      <th>16816</th>\n",
       "      <td>gossipcop-877062</td>\n",
       "      <td>https://www.cosmopolitan.com/uk/entertainment/...</td>\n",
       "      <td>Kylie Jenner is actually terrified of butterflies</td>\n",
       "      <td>NaN</td>\n",
       "    </tr>\n",
       "  </tbody>\n",
       "</table>\n",
       "<p>16817 rows × 4 columns</p>\n",
       "</div>"
      ],
      "text/plain": [
       "                     id                                           news_url  \\\n",
       "0      gossipcop-882573  https://www.brides.com/story/teen-mom-jenelle-...   \n",
       "1      gossipcop-875924  https://www.dailymail.co.uk/tvshowbiz/article-...   \n",
       "2      gossipcop-894416        https://en.wikipedia.org/wiki/Quinn_Perkins   \n",
       "3      gossipcop-857248  https://www.refinery29.com/en-us/2018/03/19192...   \n",
       "4      gossipcop-884684  https://www.cnn.com/2017/10/04/entertainment/c...   \n",
       "...                 ...                                                ...   \n",
       "16812  gossipcop-891749  https://omgcheckitout.com/2017-hollywood-film-...   \n",
       "16813  gossipcop-941486  https://pagesix.com/2018/06/04/jada-pinkett-sm...   \n",
       "16814  gossipcop-953143  https://www.etonline.com/tinsley-mortimer-reac...   \n",
       "16815  gossipcop-954366  https://www.healthbreakingnews.net/2018/07/pri...   \n",
       "16816  gossipcop-877062  https://www.cosmopolitan.com/uk/entertainment/...   \n",
       "\n",
       "                                                   title  \\\n",
       "0      Teen Mom Star Jenelle Evans' Wedding Dress Is ...   \n",
       "1      Kylie Jenner refusing to discuss Tyga on Life ...   \n",
       "2                                          Quinn Perkins   \n",
       "3      I Tried Kim Kardashian's Butt Workout & Am For...   \n",
       "4      Celine Dion donates concert proceeds to Vegas ...   \n",
       "...                                                  ...   \n",
       "16812  2017 Hollywood Film Awards: The Complete List ...   \n",
       "16813  Jada Pinkett Smith explains why son Jaden move...   \n",
       "16814  Tinsley Mortimer Reacts to Luann de Lesseps' R...   \n",
       "16815  Prince Harry Carries on Princess Diana’s Legac...   \n",
       "16816  Kylie Jenner is actually terrified of butterflies   \n",
       "\n",
       "                                               tweet_ids  \n",
       "0      912371411146149888\\t912371528343408641\\t912372...  \n",
       "1      901989917546426369\\t901989992074969089\\t901990...  \n",
       "2      931263637246881792\\t931265332022579201\\t931265...  \n",
       "3      868114761723936769\\t868122567910936576\\t868128...  \n",
       "4      915528047004209152\\t915529285171122176\\t915530...  \n",
       "...                                                  ...  \n",
       "16812  927385466357260288\\t927386601034010625\\t927387...  \n",
       "16813  1004044947006386178\\t1004045964401889285\\t1004...  \n",
       "16814  1019924845889572864\\t1019925702676709377\\t1019...  \n",
       "16815  1021766291139584000\\t1021772054599802880\\t1021...  \n",
       "16816                                                NaN  \n",
       "\n",
       "[16817 rows x 4 columns]"
      ]
     },
     "execution_count": 52,
     "metadata": {},
     "output_type": "execute_result"
    }
   ],
   "source": [
    "FakeNewsNet_Gossipcorp_True"
   ]
  },
  {
   "cell_type": "code",
   "execution_count": 53,
   "metadata": {},
   "outputs": [
    {
     "data": {
      "text/html": [
       "<div>\n",
       "<style scoped>\n",
       "    .dataframe tbody tr th:only-of-type {\n",
       "        vertical-align: middle;\n",
       "    }\n",
       "\n",
       "    .dataframe tbody tr th {\n",
       "        vertical-align: top;\n",
       "    }\n",
       "\n",
       "    .dataframe thead th {\n",
       "        text-align: right;\n",
       "    }\n",
       "</style>\n",
       "<table border=\"1\" class=\"dataframe\">\n",
       "  <thead>\n",
       "    <tr style=\"text-align: right;\">\n",
       "      <th></th>\n",
       "      <th>id</th>\n",
       "      <th>news_url</th>\n",
       "      <th>title</th>\n",
       "      <th>tweet_ids</th>\n",
       "    </tr>\n",
       "  </thead>\n",
       "  <tbody>\n",
       "    <tr>\n",
       "      <th>0</th>\n",
       "      <td>politifact15014</td>\n",
       "      <td>speedtalk.com/forum/viewtopic.php?t=51650</td>\n",
       "      <td>BREAKING: First NFL Team Declares Bankruptcy O...</td>\n",
       "      <td>937349434668498944\\t937379378006282240\\t937380...</td>\n",
       "    </tr>\n",
       "    <tr>\n",
       "      <th>1</th>\n",
       "      <td>politifact15156</td>\n",
       "      <td>politics2020.info/index.php/2018/03/13/court-o...</td>\n",
       "      <td>Court Orders Obama To Pay $400 Million In Rest...</td>\n",
       "      <td>972666281441878016\\t972678396575559680\\t972827...</td>\n",
       "    </tr>\n",
       "    <tr>\n",
       "      <th>2</th>\n",
       "      <td>politifact14745</td>\n",
       "      <td>www.nscdscamps.org/blog/category/parenting/467...</td>\n",
       "      <td>UPDATE: Second Roy Moore Accuser Works For Mic...</td>\n",
       "      <td>929405740732870656\\t929439450400264192\\t929439...</td>\n",
       "    </tr>\n",
       "    <tr>\n",
       "      <th>3</th>\n",
       "      <td>politifact14355</td>\n",
       "      <td>https://howafrica.com/oscar-pistorius-attempts...</td>\n",
       "      <td>Oscar Pistorius Attempts To Commit Suicide</td>\n",
       "      <td>886941526458347521\\t887011300278194176\\t887023...</td>\n",
       "    </tr>\n",
       "    <tr>\n",
       "      <th>4</th>\n",
       "      <td>politifact15371</td>\n",
       "      <td>http://washingtonsources.org/trump-votes-for-d...</td>\n",
       "      <td>Trump Votes For Death Penalty For Being Gay</td>\n",
       "      <td>915205698212040704\\t915242076681506816\\t915249...</td>\n",
       "    </tr>\n",
       "    <tr>\n",
       "      <th>...</th>\n",
       "      <td>...</td>\n",
       "      <td>...</td>\n",
       "      <td>...</td>\n",
       "      <td>...</td>\n",
       "    </tr>\n",
       "    <tr>\n",
       "      <th>427</th>\n",
       "      <td>politifact14944</td>\n",
       "      <td>http://thehill.com/homenews/senate/369928-who-...</td>\n",
       "      <td>Who is affected by the government shutdown?</td>\n",
       "      <td>954602090462146560\\t954602093171609600\\t954650...</td>\n",
       "    </tr>\n",
       "    <tr>\n",
       "      <th>428</th>\n",
       "      <td>politifact14071</td>\n",
       "      <td>https://web.archive.org/web/20170322070001/htt...</td>\n",
       "      <td>Lindsey Graham Threatens To Convert To Democra...</td>\n",
       "      <td>740351669834244096\\t740391312277573632\\t740474...</td>\n",
       "    </tr>\n",
       "    <tr>\n",
       "      <th>429</th>\n",
       "      <td>politifact13577</td>\n",
       "      <td>http://archive.is/DQqCx</td>\n",
       "      <td>ELECTORAL COLLEGE ELECTOR COMMITS SUICIDE TO A...</td>\n",
       "      <td>810939651900907520\\t814738996706164737\\t814917...</td>\n",
       "    </tr>\n",
       "    <tr>\n",
       "      <th>430</th>\n",
       "      <td>politifact13560</td>\n",
       "      <td>politicono.com/palin-calls-boycott-mall-americ...</td>\n",
       "      <td>Sarah Palin Calls To Boycott Mall Of America B...</td>\n",
       "      <td>805216591424212993\\t805222830023540736\\t805223...</td>\n",
       "    </tr>\n",
       "    <tr>\n",
       "      <th>431</th>\n",
       "      <td>politifact15030</td>\n",
       "      <td>https://theglobalheadlines.net/breaking-intel-...</td>\n",
       "      <td>Account Suspended</td>\n",
       "      <td>934217740692443136\\t934217839816445952\\t934217...</td>\n",
       "    </tr>\n",
       "  </tbody>\n",
       "</table>\n",
       "<p>432 rows × 4 columns</p>\n",
       "</div>"
      ],
      "text/plain": [
       "                  id                                           news_url  \\\n",
       "0    politifact15014          speedtalk.com/forum/viewtopic.php?t=51650   \n",
       "1    politifact15156  politics2020.info/index.php/2018/03/13/court-o...   \n",
       "2    politifact14745  www.nscdscamps.org/blog/category/parenting/467...   \n",
       "3    politifact14355  https://howafrica.com/oscar-pistorius-attempts...   \n",
       "4    politifact15371  http://washingtonsources.org/trump-votes-for-d...   \n",
       "..               ...                                                ...   \n",
       "427  politifact14944  http://thehill.com/homenews/senate/369928-who-...   \n",
       "428  politifact14071  https://web.archive.org/web/20170322070001/htt...   \n",
       "429  politifact13577                            http://archive.is/DQqCx   \n",
       "430  politifact13560  politicono.com/palin-calls-boycott-mall-americ...   \n",
       "431  politifact15030  https://theglobalheadlines.net/breaking-intel-...   \n",
       "\n",
       "                                                 title  \\\n",
       "0    BREAKING: First NFL Team Declares Bankruptcy O...   \n",
       "1    Court Orders Obama To Pay $400 Million In Rest...   \n",
       "2    UPDATE: Second Roy Moore Accuser Works For Mic...   \n",
       "3           Oscar Pistorius Attempts To Commit Suicide   \n",
       "4          Trump Votes For Death Penalty For Being Gay   \n",
       "..                                                 ...   \n",
       "427        Who is affected by the government shutdown?   \n",
       "428  Lindsey Graham Threatens To Convert To Democra...   \n",
       "429  ELECTORAL COLLEGE ELECTOR COMMITS SUICIDE TO A...   \n",
       "430  Sarah Palin Calls To Boycott Mall Of America B...   \n",
       "431                                  Account Suspended   \n",
       "\n",
       "                                             tweet_ids  \n",
       "0    937349434668498944\\t937379378006282240\\t937380...  \n",
       "1    972666281441878016\\t972678396575559680\\t972827...  \n",
       "2    929405740732870656\\t929439450400264192\\t929439...  \n",
       "3    886941526458347521\\t887011300278194176\\t887023...  \n",
       "4    915205698212040704\\t915242076681506816\\t915249...  \n",
       "..                                                 ...  \n",
       "427  954602090462146560\\t954602093171609600\\t954650...  \n",
       "428  740351669834244096\\t740391312277573632\\t740474...  \n",
       "429  810939651900907520\\t814738996706164737\\t814917...  \n",
       "430  805216591424212993\\t805222830023540736\\t805223...  \n",
       "431  934217740692443136\\t934217839816445952\\t934217...  \n",
       "\n",
       "[432 rows x 4 columns]"
      ]
     },
     "execution_count": 53,
     "metadata": {},
     "output_type": "execute_result"
    }
   ],
   "source": [
    "FakeNewsNet_Politifact_Fake"
   ]
  },
  {
   "cell_type": "code",
   "execution_count": 54,
   "metadata": {},
   "outputs": [
    {
     "data": {
      "text/html": [
       "<div>\n",
       "<style scoped>\n",
       "    .dataframe tbody tr th:only-of-type {\n",
       "        vertical-align: middle;\n",
       "    }\n",
       "\n",
       "    .dataframe tbody tr th {\n",
       "        vertical-align: top;\n",
       "    }\n",
       "\n",
       "    .dataframe thead th {\n",
       "        text-align: right;\n",
       "    }\n",
       "</style>\n",
       "<table border=\"1\" class=\"dataframe\">\n",
       "  <thead>\n",
       "    <tr style=\"text-align: right;\">\n",
       "      <th></th>\n",
       "      <th>id</th>\n",
       "      <th>news_url</th>\n",
       "      <th>title</th>\n",
       "      <th>tweet_ids</th>\n",
       "    </tr>\n",
       "  </thead>\n",
       "  <tbody>\n",
       "    <tr>\n",
       "      <th>0</th>\n",
       "      <td>gossipcop-2493749932</td>\n",
       "      <td>www.dailymail.co.uk/tvshowbiz/article-5874213/...</td>\n",
       "      <td>Did Miley Cyrus and Liam Hemsworth secretly ge...</td>\n",
       "      <td>284329075902926848\\t284332744559968256\\t284335...</td>\n",
       "    </tr>\n",
       "    <tr>\n",
       "      <th>1</th>\n",
       "      <td>gossipcop-4580247171</td>\n",
       "      <td>hollywoodlife.com/2018/05/05/paris-jackson-car...</td>\n",
       "      <td>Paris Jackson &amp; Cara Delevingne Enjoy Night Ou...</td>\n",
       "      <td>992895508267130880\\t992897935418503169\\t992899...</td>\n",
       "    </tr>\n",
       "    <tr>\n",
       "      <th>2</th>\n",
       "      <td>gossipcop-941805037</td>\n",
       "      <td>variety.com/2017/biz/news/tax-march-donald-tru...</td>\n",
       "      <td>Celebrities Join Tax March in Protest of Donal...</td>\n",
       "      <td>853359353532829696\\t853359576543920128\\t853359...</td>\n",
       "    </tr>\n",
       "    <tr>\n",
       "      <th>3</th>\n",
       "      <td>gossipcop-2547891536</td>\n",
       "      <td>www.dailymail.co.uk/femail/article-3499192/Do-...</td>\n",
       "      <td>Cindy Crawford's daughter Kaia Gerber wears a ...</td>\n",
       "      <td>988821905196158981\\t988824206556172288\\t988825...</td>\n",
       "    </tr>\n",
       "    <tr>\n",
       "      <th>4</th>\n",
       "      <td>gossipcop-5476631226</td>\n",
       "      <td>variety.com/2018/film/news/list-2018-oscar-nom...</td>\n",
       "      <td>Full List of 2018 Oscar Nominations – Variety</td>\n",
       "      <td>955792793632432131\\t955795063925301249\\t955798...</td>\n",
       "    </tr>\n",
       "    <tr>\n",
       "      <th>...</th>\n",
       "      <td>...</td>\n",
       "      <td>...</td>\n",
       "      <td>...</td>\n",
       "      <td>...</td>\n",
       "    </tr>\n",
       "    <tr>\n",
       "      <th>5318</th>\n",
       "      <td>gossipcop-6702260693</td>\n",
       "      <td>www.huffingtonpost.com/2012/09/11/september-11...</td>\n",
       "      <td>September 11: Celebrities Remember 9/11 (TWEETS)</td>\n",
       "      <td>245643768638894080</td>\n",
       "    </tr>\n",
       "    <tr>\n",
       "      <th>5319</th>\n",
       "      <td>gossipcop-6051845337</td>\n",
       "      <td>www.dailymail.co.uk/news/article-4915674/NASCA...</td>\n",
       "      <td>NASCAR owners threaten to fire drivers who pro...</td>\n",
       "      <td>912048333413330944\\t912048571482087424\\t912049...</td>\n",
       "    </tr>\n",
       "    <tr>\n",
       "      <th>5320</th>\n",
       "      <td>gossipcop-2435526162</td>\n",
       "      <td>www.telegraph.co.uk/men/the-filter/7-signs-dav...</td>\n",
       "      <td>The 7 signs that David Beckham is definitely h...</td>\n",
       "      <td>897794716447539200\\t897804460830928896\\t897842...</td>\n",
       "    </tr>\n",
       "    <tr>\n",
       "      <th>5321</th>\n",
       "      <td>gossipcop-4576152851</td>\n",
       "      <td>www.vanityfair.com/style/2016/09/ryan-gosling-...</td>\n",
       "      <td>Ryan Gosling and Eva Mendes Did Not Get Marrie...</td>\n",
       "      <td>778678901572710400\\t778681718714740736\\t778683...</td>\n",
       "    </tr>\n",
       "    <tr>\n",
       "      <th>5322</th>\n",
       "      <td>gossipcop-919334865</td>\n",
       "      <td>www.lifeandstylemag.com/posts/jamie-foxx-katie...</td>\n",
       "      <td>Jamie Foxx Spends the Day With Katie Holmes an...</td>\n",
       "      <td>913137595424608258\\t913139996059717632\\t913146...</td>\n",
       "    </tr>\n",
       "  </tbody>\n",
       "</table>\n",
       "<p>5323 rows × 4 columns</p>\n",
       "</div>"
      ],
      "text/plain": [
       "                        id                                           news_url  \\\n",
       "0     gossipcop-2493749932  www.dailymail.co.uk/tvshowbiz/article-5874213/...   \n",
       "1     gossipcop-4580247171  hollywoodlife.com/2018/05/05/paris-jackson-car...   \n",
       "2      gossipcop-941805037  variety.com/2017/biz/news/tax-march-donald-tru...   \n",
       "3     gossipcop-2547891536  www.dailymail.co.uk/femail/article-3499192/Do-...   \n",
       "4     gossipcop-5476631226  variety.com/2018/film/news/list-2018-oscar-nom...   \n",
       "...                    ...                                                ...   \n",
       "5318  gossipcop-6702260693  www.huffingtonpost.com/2012/09/11/september-11...   \n",
       "5319  gossipcop-6051845337  www.dailymail.co.uk/news/article-4915674/NASCA...   \n",
       "5320  gossipcop-2435526162  www.telegraph.co.uk/men/the-filter/7-signs-dav...   \n",
       "5321  gossipcop-4576152851  www.vanityfair.com/style/2016/09/ryan-gosling-...   \n",
       "5322   gossipcop-919334865  www.lifeandstylemag.com/posts/jamie-foxx-katie...   \n",
       "\n",
       "                                                  title  \\\n",
       "0     Did Miley Cyrus and Liam Hemsworth secretly ge...   \n",
       "1     Paris Jackson & Cara Delevingne Enjoy Night Ou...   \n",
       "2     Celebrities Join Tax March in Protest of Donal...   \n",
       "3     Cindy Crawford's daughter Kaia Gerber wears a ...   \n",
       "4         Full List of 2018 Oscar Nominations – Variety   \n",
       "...                                                 ...   \n",
       "5318   September 11: Celebrities Remember 9/11 (TWEETS)   \n",
       "5319  NASCAR owners threaten to fire drivers who pro...   \n",
       "5320  The 7 signs that David Beckham is definitely h...   \n",
       "5321  Ryan Gosling and Eva Mendes Did Not Get Marrie...   \n",
       "5322  Jamie Foxx Spends the Day With Katie Holmes an...   \n",
       "\n",
       "                                              tweet_ids  \n",
       "0     284329075902926848\\t284332744559968256\\t284335...  \n",
       "1     992895508267130880\\t992897935418503169\\t992899...  \n",
       "2     853359353532829696\\t853359576543920128\\t853359...  \n",
       "3     988821905196158981\\t988824206556172288\\t988825...  \n",
       "4     955792793632432131\\t955795063925301249\\t955798...  \n",
       "...                                                 ...  \n",
       "5318                                 245643768638894080  \n",
       "5319  912048333413330944\\t912048571482087424\\t912049...  \n",
       "5320  897794716447539200\\t897804460830928896\\t897842...  \n",
       "5321  778678901572710400\\t778681718714740736\\t778683...  \n",
       "5322  913137595424608258\\t913139996059717632\\t913146...  \n",
       "\n",
       "[5323 rows x 4 columns]"
      ]
     },
     "execution_count": 54,
     "metadata": {},
     "output_type": "execute_result"
    }
   ],
   "source": [
    "FakeNewsNet_Gossipcorp_Fake"
   ]
  },
  {
   "cell_type": "markdown",
   "metadata": {},
   "source": [
    "<p style=color:#38629C>All four files discussed above will be combined together, therefore, there is need to add label based on the type of data presented in the files</p>"
   ]
  },
  {
   "cell_type": "code",
   "execution_count": 55,
   "metadata": {},
   "outputs": [],
   "source": [
    "# Adding label \"true\" to both FakeNewsNet_Politifact_True and FakeNewsNet_Gossipcorp_True\n",
    "\n",
    "FakeNewsNet_Politifact_True[\"label\"] = str(\"true\")\n",
    "FakeNewsNet_Gossipcorp_True[\"label\"] = str(\"true\")"
   ]
  },
  {
   "cell_type": "code",
   "execution_count": 56,
   "metadata": {},
   "outputs": [],
   "source": [
    "# Adding label \"fake\" to both FakeNewsNet_Politifact_True and FakeNewsNet_Gossipcorp_True\n",
    "FakeNewsNet_Gossipcorp_Fake[\"label\"] = str(\"fake\")\n",
    "FakeNewsNet_Politifact_Fake[\"label\"] = str(\"fake\")\n"
   ]
  },
  {
   "cell_type": "markdown",
   "metadata": {},
   "source": [
    "<p style=color:#38629C>Now Labels are added to each datasets, therefore, these will be combined together for preprocessing and cleaning.</p>"
   ]
  },
  {
   "cell_type": "code",
   "execution_count": 57,
   "metadata": {},
   "outputs": [],
   "source": [
    "# Concatenating the FakeNewsNet_Politifact_True, FakeNewsNet_Gossipcorp_True, FakeNewsNet_Politifact_Fake and FakeNewsNet_Gossipcorp_Fake\n",
    "FakeNewsNet_Combined = pd.concat([FakeNewsNet_Politifact_True, FakeNewsNet_Gossipcorp_True, FakeNewsNet_Politifact_Fake, FakeNewsNet_Gossipcorp_Fake])"
   ]
  },
  {
   "cell_type": "code",
   "execution_count": 58,
   "metadata": {},
   "outputs": [
    {
     "data": {
      "text/html": [
       "<div>\n",
       "<style scoped>\n",
       "    .dataframe tbody tr th:only-of-type {\n",
       "        vertical-align: middle;\n",
       "    }\n",
       "\n",
       "    .dataframe tbody tr th {\n",
       "        vertical-align: top;\n",
       "    }\n",
       "\n",
       "    .dataframe thead th {\n",
       "        text-align: right;\n",
       "    }\n",
       "</style>\n",
       "<table border=\"1\" class=\"dataframe\">\n",
       "  <thead>\n",
       "    <tr style=\"text-align: right;\">\n",
       "      <th></th>\n",
       "      <th>id</th>\n",
       "      <th>news_url</th>\n",
       "      <th>title</th>\n",
       "      <th>tweet_ids</th>\n",
       "      <th>label</th>\n",
       "    </tr>\n",
       "  </thead>\n",
       "  <tbody>\n",
       "    <tr>\n",
       "      <th>0</th>\n",
       "      <td>politifact14984</td>\n",
       "      <td>http://www.nfib-sbet.org/</td>\n",
       "      <td>National Federation of Independent Business</td>\n",
       "      <td>967132259869487105\\t967164368768196609\\t967215...</td>\n",
       "      <td>true</td>\n",
       "    </tr>\n",
       "    <tr>\n",
       "      <th>1</th>\n",
       "      <td>politifact12944</td>\n",
       "      <td>http://www.cq.com/doc/newsmakertranscripts-494...</td>\n",
       "      <td>comments in Fayetteville NC</td>\n",
       "      <td>942953459\\t8980098198\\t16253717352\\t1668513250...</td>\n",
       "      <td>true</td>\n",
       "    </tr>\n",
       "    <tr>\n",
       "      <th>2</th>\n",
       "      <td>politifact333</td>\n",
       "      <td>https://web.archive.org/web/20080204072132/htt...</td>\n",
       "      <td>Romney makes pitch, hoping to close deal : Ele...</td>\n",
       "      <td>NaN</td>\n",
       "      <td>true</td>\n",
       "    </tr>\n",
       "    <tr>\n",
       "      <th>3</th>\n",
       "      <td>politifact4358</td>\n",
       "      <td>https://web.archive.org/web/20110811143753/htt...</td>\n",
       "      <td>Democratic Leaders Say House Democrats Are Uni...</td>\n",
       "      <td>NaN</td>\n",
       "      <td>true</td>\n",
       "    </tr>\n",
       "    <tr>\n",
       "      <th>4</th>\n",
       "      <td>politifact779</td>\n",
       "      <td>https://web.archive.org/web/20070820164107/htt...</td>\n",
       "      <td>Budget of the United States Government, FY 2008</td>\n",
       "      <td>89804710374154240\\t91270460595109888\\t96039619...</td>\n",
       "      <td>true</td>\n",
       "    </tr>\n",
       "    <tr>\n",
       "      <th>...</th>\n",
       "      <td>...</td>\n",
       "      <td>...</td>\n",
       "      <td>...</td>\n",
       "      <td>...</td>\n",
       "      <td>...</td>\n",
       "    </tr>\n",
       "    <tr>\n",
       "      <th>5318</th>\n",
       "      <td>gossipcop-6702260693</td>\n",
       "      <td>www.huffingtonpost.com/2012/09/11/september-11...</td>\n",
       "      <td>September 11: Celebrities Remember 9/11 (TWEETS)</td>\n",
       "      <td>245643768638894080</td>\n",
       "      <td>fake</td>\n",
       "    </tr>\n",
       "    <tr>\n",
       "      <th>5319</th>\n",
       "      <td>gossipcop-6051845337</td>\n",
       "      <td>www.dailymail.co.uk/news/article-4915674/NASCA...</td>\n",
       "      <td>NASCAR owners threaten to fire drivers who pro...</td>\n",
       "      <td>912048333413330944\\t912048571482087424\\t912049...</td>\n",
       "      <td>fake</td>\n",
       "    </tr>\n",
       "    <tr>\n",
       "      <th>5320</th>\n",
       "      <td>gossipcop-2435526162</td>\n",
       "      <td>www.telegraph.co.uk/men/the-filter/7-signs-dav...</td>\n",
       "      <td>The 7 signs that David Beckham is definitely h...</td>\n",
       "      <td>897794716447539200\\t897804460830928896\\t897842...</td>\n",
       "      <td>fake</td>\n",
       "    </tr>\n",
       "    <tr>\n",
       "      <th>5321</th>\n",
       "      <td>gossipcop-4576152851</td>\n",
       "      <td>www.vanityfair.com/style/2016/09/ryan-gosling-...</td>\n",
       "      <td>Ryan Gosling and Eva Mendes Did Not Get Marrie...</td>\n",
       "      <td>778678901572710400\\t778681718714740736\\t778683...</td>\n",
       "      <td>fake</td>\n",
       "    </tr>\n",
       "    <tr>\n",
       "      <th>5322</th>\n",
       "      <td>gossipcop-919334865</td>\n",
       "      <td>www.lifeandstylemag.com/posts/jamie-foxx-katie...</td>\n",
       "      <td>Jamie Foxx Spends the Day With Katie Holmes an...</td>\n",
       "      <td>913137595424608258\\t913139996059717632\\t913146...</td>\n",
       "      <td>fake</td>\n",
       "    </tr>\n",
       "  </tbody>\n",
       "</table>\n",
       "<p>23196 rows × 5 columns</p>\n",
       "</div>"
      ],
      "text/plain": [
       "                        id                                           news_url  \\\n",
       "0          politifact14984                          http://www.nfib-sbet.org/   \n",
       "1          politifact12944  http://www.cq.com/doc/newsmakertranscripts-494...   \n",
       "2            politifact333  https://web.archive.org/web/20080204072132/htt...   \n",
       "3           politifact4358  https://web.archive.org/web/20110811143753/htt...   \n",
       "4            politifact779  https://web.archive.org/web/20070820164107/htt...   \n",
       "...                    ...                                                ...   \n",
       "5318  gossipcop-6702260693  www.huffingtonpost.com/2012/09/11/september-11...   \n",
       "5319  gossipcop-6051845337  www.dailymail.co.uk/news/article-4915674/NASCA...   \n",
       "5320  gossipcop-2435526162  www.telegraph.co.uk/men/the-filter/7-signs-dav...   \n",
       "5321  gossipcop-4576152851  www.vanityfair.com/style/2016/09/ryan-gosling-...   \n",
       "5322   gossipcop-919334865  www.lifeandstylemag.com/posts/jamie-foxx-katie...   \n",
       "\n",
       "                                                  title  \\\n",
       "0           National Federation of Independent Business   \n",
       "1                           comments in Fayetteville NC   \n",
       "2     Romney makes pitch, hoping to close deal : Ele...   \n",
       "3     Democratic Leaders Say House Democrats Are Uni...   \n",
       "4       Budget of the United States Government, FY 2008   \n",
       "...                                                 ...   \n",
       "5318   September 11: Celebrities Remember 9/11 (TWEETS)   \n",
       "5319  NASCAR owners threaten to fire drivers who pro...   \n",
       "5320  The 7 signs that David Beckham is definitely h...   \n",
       "5321  Ryan Gosling and Eva Mendes Did Not Get Marrie...   \n",
       "5322  Jamie Foxx Spends the Day With Katie Holmes an...   \n",
       "\n",
       "                                              tweet_ids label  \n",
       "0     967132259869487105\\t967164368768196609\\t967215...  true  \n",
       "1     942953459\\t8980098198\\t16253717352\\t1668513250...  true  \n",
       "2                                                   NaN  true  \n",
       "3                                                   NaN  true  \n",
       "4     89804710374154240\\t91270460595109888\\t96039619...  true  \n",
       "...                                                 ...   ...  \n",
       "5318                                 245643768638894080  fake  \n",
       "5319  912048333413330944\\t912048571482087424\\t912049...  fake  \n",
       "5320  897794716447539200\\t897804460830928896\\t897842...  fake  \n",
       "5321  778678901572710400\\t778681718714740736\\t778683...  fake  \n",
       "5322  913137595424608258\\t913139996059717632\\t913146...  fake  \n",
       "\n",
       "[23196 rows x 5 columns]"
      ]
     },
     "execution_count": 58,
     "metadata": {},
     "output_type": "execute_result"
    }
   ],
   "source": [
    "FakeNewsNet_Combined"
   ]
  },
  {
   "cell_type": "markdown",
   "metadata": {},
   "source": [
    "<p style=color:#38629C> We can validate that the combined record is exactly matching with the individual dataset\n",
    "</p>\n",
    "\n",
    "<ul style=color:#38629C>\n",
    "    <li> FakeNewsNet_Politifact_True  : 624 rows × 5 columns</li>\n",
    "    <li> FakeNewsNet_Politifact_Fake  : 432 rows × 5 columns</li>\n",
    "    <li> FakeNewsNet_Gossipcorp_True  : 16,817 rows × 5 columns</li>\n",
    "    <li> FakeNewsNet_Gossipcorp_Fake  : 5,323 rows × 5 columns</li>\n",
    "    <li style=color:#467200 > FakeNewsNet_Combined  : 23,196 rows × 5 columns</li>\n",
    "</ul>"
   ]
  },
  {
   "cell_type": "markdown",
   "metadata": {},
   "source": [
    "<p style=color:#38629C><b style=color:#467200 >Dataset  2 - ISOT Fake Dataset : </b> This dataset contains two kinds of data (i.e. Fake and Real) similar to FakeNewsNet. Real news articles in this dataset are collected from Reuters.com using website crawlers and Fake news articles are collected from PilitiFact and Wikipedia. The dataset is divided into two different files:</p>\n",
    "\n",
    "<ul style=color:#38629C>\n",
    "<li>True – Real news collected from Reuters.com</li>\n",
    "<li>Fake – Fake news collected from Politifact and Wikipedia</li>\n",
    "</ul>\n",
    "\n",
    "<p style=color:#38629C>Article is related to the period from 2016 till 2017 and there are 44,898 records in total with almost equal distribution among fake and real news:\n",
    "<ul style=color:#38629C>\n",
    "<li>True – 21,417 Records</li>\n",
    "<li>Fake – 23,418 Records</li>\n",
    "</ul>\n",
    "\n",
    "<p style=color:#467200>This will help us in avoiding overfitting because of balanced distribution of fake and real news.</p>\n",
    "\n",
    "\n",
    "\n",
    "<p style=color:#38629C>The columns and its nature is as follow: </p>\n",
    "\n",
    "<ul style=color:#38629C>\n",
    "<li>title – Title of the news article</li>\n",
    "<li>text – Text of the news articles published</li>\n",
    "<li>subject – It’s tagging for the type of article (Political News, News etc)</li>\n",
    "<li>date –  Date on which news article was published</li>\n",
    "</ul>\n",
    "\n",
    "\n",
    "\n",
    "<p style=color:#467200> This Datasets is more inclined towards actual news instead short text tweets posted by the users.Since, both datasets will be combined, therefore, there is need to tag the news either as \"Fake\" and \"True\"</p>"
   ]
  },
  {
   "cell_type": "code",
   "execution_count": 59,
   "metadata": {},
   "outputs": [
    {
     "data": {
      "text/html": [
       "<div>\n",
       "<style scoped>\n",
       "    .dataframe tbody tr th:only-of-type {\n",
       "        vertical-align: middle;\n",
       "    }\n",
       "\n",
       "    .dataframe tbody tr th {\n",
       "        vertical-align: top;\n",
       "    }\n",
       "\n",
       "    .dataframe thead th {\n",
       "        text-align: right;\n",
       "    }\n",
       "</style>\n",
       "<table border=\"1\" class=\"dataframe\">\n",
       "  <thead>\n",
       "    <tr style=\"text-align: right;\">\n",
       "      <th></th>\n",
       "      <th>title</th>\n",
       "      <th>text</th>\n",
       "      <th>subject</th>\n",
       "      <th>date</th>\n",
       "    </tr>\n",
       "  </thead>\n",
       "  <tbody>\n",
       "    <tr>\n",
       "      <th>0</th>\n",
       "      <td>As U.S. budget fight looms, Republicans flip t...</td>\n",
       "      <td>WASHINGTON (Reuters) - The head of a conservat...</td>\n",
       "      <td>politicsNews</td>\n",
       "      <td>December 31, 2017</td>\n",
       "    </tr>\n",
       "    <tr>\n",
       "      <th>1</th>\n",
       "      <td>U.S. military to accept transgender recruits o...</td>\n",
       "      <td>WASHINGTON (Reuters) - Transgender people will...</td>\n",
       "      <td>politicsNews</td>\n",
       "      <td>December 29, 2017</td>\n",
       "    </tr>\n",
       "    <tr>\n",
       "      <th>2</th>\n",
       "      <td>Senior U.S. Republican senator: 'Let Mr. Muell...</td>\n",
       "      <td>WASHINGTON (Reuters) - The special counsel inv...</td>\n",
       "      <td>politicsNews</td>\n",
       "      <td>December 31, 2017</td>\n",
       "    </tr>\n",
       "    <tr>\n",
       "      <th>3</th>\n",
       "      <td>FBI Russia probe helped by Australian diplomat...</td>\n",
       "      <td>WASHINGTON (Reuters) - Trump campaign adviser ...</td>\n",
       "      <td>politicsNews</td>\n",
       "      <td>December 30, 2017</td>\n",
       "    </tr>\n",
       "    <tr>\n",
       "      <th>4</th>\n",
       "      <td>Trump wants Postal Service to charge 'much mor...</td>\n",
       "      <td>SEATTLE/WASHINGTON (Reuters) - President Donal...</td>\n",
       "      <td>politicsNews</td>\n",
       "      <td>December 29, 2017</td>\n",
       "    </tr>\n",
       "    <tr>\n",
       "      <th>...</th>\n",
       "      <td>...</td>\n",
       "      <td>...</td>\n",
       "      <td>...</td>\n",
       "      <td>...</td>\n",
       "    </tr>\n",
       "    <tr>\n",
       "      <th>21412</th>\n",
       "      <td>'Fully committed' NATO backs new U.S. approach...</td>\n",
       "      <td>BRUSSELS (Reuters) - NATO allies on Tuesday we...</td>\n",
       "      <td>worldnews</td>\n",
       "      <td>August 22, 2017</td>\n",
       "    </tr>\n",
       "    <tr>\n",
       "      <th>21413</th>\n",
       "      <td>LexisNexis withdrew two products from Chinese ...</td>\n",
       "      <td>LONDON (Reuters) - LexisNexis, a provider of l...</td>\n",
       "      <td>worldnews</td>\n",
       "      <td>August 22, 2017</td>\n",
       "    </tr>\n",
       "    <tr>\n",
       "      <th>21414</th>\n",
       "      <td>Minsk cultural hub becomes haven from authorities</td>\n",
       "      <td>MINSK (Reuters) - In the shadow of disused Sov...</td>\n",
       "      <td>worldnews</td>\n",
       "      <td>August 22, 2017</td>\n",
       "    </tr>\n",
       "    <tr>\n",
       "      <th>21415</th>\n",
       "      <td>Vatican upbeat on possibility of Pope Francis ...</td>\n",
       "      <td>MOSCOW (Reuters) - Vatican Secretary of State ...</td>\n",
       "      <td>worldnews</td>\n",
       "      <td>August 22, 2017</td>\n",
       "    </tr>\n",
       "    <tr>\n",
       "      <th>21416</th>\n",
       "      <td>Indonesia to buy $1.14 billion worth of Russia...</td>\n",
       "      <td>JAKARTA (Reuters) - Indonesia will buy 11 Sukh...</td>\n",
       "      <td>worldnews</td>\n",
       "      <td>August 22, 2017</td>\n",
       "    </tr>\n",
       "  </tbody>\n",
       "</table>\n",
       "<p>21417 rows × 4 columns</p>\n",
       "</div>"
      ],
      "text/plain": [
       "                                                   title  \\\n",
       "0      As U.S. budget fight looms, Republicans flip t...   \n",
       "1      U.S. military to accept transgender recruits o...   \n",
       "2      Senior U.S. Republican senator: 'Let Mr. Muell...   \n",
       "3      FBI Russia probe helped by Australian diplomat...   \n",
       "4      Trump wants Postal Service to charge 'much mor...   \n",
       "...                                                  ...   \n",
       "21412  'Fully committed' NATO backs new U.S. approach...   \n",
       "21413  LexisNexis withdrew two products from Chinese ...   \n",
       "21414  Minsk cultural hub becomes haven from authorities   \n",
       "21415  Vatican upbeat on possibility of Pope Francis ...   \n",
       "21416  Indonesia to buy $1.14 billion worth of Russia...   \n",
       "\n",
       "                                                    text       subject  \\\n",
       "0      WASHINGTON (Reuters) - The head of a conservat...  politicsNews   \n",
       "1      WASHINGTON (Reuters) - Transgender people will...  politicsNews   \n",
       "2      WASHINGTON (Reuters) - The special counsel inv...  politicsNews   \n",
       "3      WASHINGTON (Reuters) - Trump campaign adviser ...  politicsNews   \n",
       "4      SEATTLE/WASHINGTON (Reuters) - President Donal...  politicsNews   \n",
       "...                                                  ...           ...   \n",
       "21412  BRUSSELS (Reuters) - NATO allies on Tuesday we...     worldnews   \n",
       "21413  LONDON (Reuters) - LexisNexis, a provider of l...     worldnews   \n",
       "21414  MINSK (Reuters) - In the shadow of disused Sov...     worldnews   \n",
       "21415  MOSCOW (Reuters) - Vatican Secretary of State ...     worldnews   \n",
       "21416  JAKARTA (Reuters) - Indonesia will buy 11 Sukh...     worldnews   \n",
       "\n",
       "                     date  \n",
       "0      December 31, 2017   \n",
       "1      December 29, 2017   \n",
       "2      December 31, 2017   \n",
       "3      December 30, 2017   \n",
       "4      December 29, 2017   \n",
       "...                   ...  \n",
       "21412    August 22, 2017   \n",
       "21413    August 22, 2017   \n",
       "21414    August 22, 2017   \n",
       "21415    August 22, 2017   \n",
       "21416    August 22, 2017   \n",
       "\n",
       "[21417 rows x 4 columns]"
      ]
     },
     "execution_count": 59,
     "metadata": {},
     "output_type": "execute_result"
    }
   ],
   "source": [
    "ISOT_Dataset_True"
   ]
  },
  {
   "cell_type": "code",
   "execution_count": 60,
   "metadata": {},
   "outputs": [
    {
     "data": {
      "text/html": [
       "<div>\n",
       "<style scoped>\n",
       "    .dataframe tbody tr th:only-of-type {\n",
       "        vertical-align: middle;\n",
       "    }\n",
       "\n",
       "    .dataframe tbody tr th {\n",
       "        vertical-align: top;\n",
       "    }\n",
       "\n",
       "    .dataframe thead th {\n",
       "        text-align: right;\n",
       "    }\n",
       "</style>\n",
       "<table border=\"1\" class=\"dataframe\">\n",
       "  <thead>\n",
       "    <tr style=\"text-align: right;\">\n",
       "      <th></th>\n",
       "      <th>title</th>\n",
       "      <th>text</th>\n",
       "      <th>subject</th>\n",
       "      <th>date</th>\n",
       "    </tr>\n",
       "  </thead>\n",
       "  <tbody>\n",
       "    <tr>\n",
       "      <th>0</th>\n",
       "      <td>Donald Trump Sends Out Embarrassing New Year’...</td>\n",
       "      <td>Donald Trump just couldn t wish all Americans ...</td>\n",
       "      <td>News</td>\n",
       "      <td>December 31, 2017</td>\n",
       "    </tr>\n",
       "    <tr>\n",
       "      <th>1</th>\n",
       "      <td>Drunk Bragging Trump Staffer Started Russian ...</td>\n",
       "      <td>House Intelligence Committee Chairman Devin Nu...</td>\n",
       "      <td>News</td>\n",
       "      <td>December 31, 2017</td>\n",
       "    </tr>\n",
       "    <tr>\n",
       "      <th>2</th>\n",
       "      <td>Sheriff David Clarke Becomes An Internet Joke...</td>\n",
       "      <td>On Friday, it was revealed that former Milwauk...</td>\n",
       "      <td>News</td>\n",
       "      <td>December 30, 2017</td>\n",
       "    </tr>\n",
       "    <tr>\n",
       "      <th>3</th>\n",
       "      <td>Trump Is So Obsessed He Even Has Obama’s Name...</td>\n",
       "      <td>On Christmas day, Donald Trump announced that ...</td>\n",
       "      <td>News</td>\n",
       "      <td>December 29, 2017</td>\n",
       "    </tr>\n",
       "    <tr>\n",
       "      <th>4</th>\n",
       "      <td>Pope Francis Just Called Out Donald Trump Dur...</td>\n",
       "      <td>Pope Francis used his annual Christmas Day mes...</td>\n",
       "      <td>News</td>\n",
       "      <td>December 25, 2017</td>\n",
       "    </tr>\n",
       "    <tr>\n",
       "      <th>...</th>\n",
       "      <td>...</td>\n",
       "      <td>...</td>\n",
       "      <td>...</td>\n",
       "      <td>...</td>\n",
       "    </tr>\n",
       "    <tr>\n",
       "      <th>23476</th>\n",
       "      <td>McPain: John McCain Furious That Iran Treated ...</td>\n",
       "      <td>21st Century Wire says As 21WIRE reported earl...</td>\n",
       "      <td>Middle-east</td>\n",
       "      <td>January 16, 2016</td>\n",
       "    </tr>\n",
       "    <tr>\n",
       "      <th>23477</th>\n",
       "      <td>JUSTICE? Yahoo Settles E-mail Privacy Class-ac...</td>\n",
       "      <td>21st Century Wire says It s a familiar theme. ...</td>\n",
       "      <td>Middle-east</td>\n",
       "      <td>January 16, 2016</td>\n",
       "    </tr>\n",
       "    <tr>\n",
       "      <th>23478</th>\n",
       "      <td>Sunnistan: US and Allied ‘Safe Zone’ Plan to T...</td>\n",
       "      <td>Patrick Henningsen  21st Century WireRemember ...</td>\n",
       "      <td>Middle-east</td>\n",
       "      <td>January 15, 2016</td>\n",
       "    </tr>\n",
       "    <tr>\n",
       "      <th>23479</th>\n",
       "      <td>How to Blow $700 Million: Al Jazeera America F...</td>\n",
       "      <td>21st Century Wire says Al Jazeera America will...</td>\n",
       "      <td>Middle-east</td>\n",
       "      <td>January 14, 2016</td>\n",
       "    </tr>\n",
       "    <tr>\n",
       "      <th>23480</th>\n",
       "      <td>10 U.S. Navy Sailors Held by Iranian Military ...</td>\n",
       "      <td>21st Century Wire says As 21WIRE predicted in ...</td>\n",
       "      <td>Middle-east</td>\n",
       "      <td>January 12, 2016</td>\n",
       "    </tr>\n",
       "  </tbody>\n",
       "</table>\n",
       "<p>23481 rows × 4 columns</p>\n",
       "</div>"
      ],
      "text/plain": [
       "                                                   title  \\\n",
       "0       Donald Trump Sends Out Embarrassing New Year’...   \n",
       "1       Drunk Bragging Trump Staffer Started Russian ...   \n",
       "2       Sheriff David Clarke Becomes An Internet Joke...   \n",
       "3       Trump Is So Obsessed He Even Has Obama’s Name...   \n",
       "4       Pope Francis Just Called Out Donald Trump Dur...   \n",
       "...                                                  ...   \n",
       "23476  McPain: John McCain Furious That Iran Treated ...   \n",
       "23477  JUSTICE? Yahoo Settles E-mail Privacy Class-ac...   \n",
       "23478  Sunnistan: US and Allied ‘Safe Zone’ Plan to T...   \n",
       "23479  How to Blow $700 Million: Al Jazeera America F...   \n",
       "23480  10 U.S. Navy Sailors Held by Iranian Military ...   \n",
       "\n",
       "                                                    text      subject  \\\n",
       "0      Donald Trump just couldn t wish all Americans ...         News   \n",
       "1      House Intelligence Committee Chairman Devin Nu...         News   \n",
       "2      On Friday, it was revealed that former Milwauk...         News   \n",
       "3      On Christmas day, Donald Trump announced that ...         News   \n",
       "4      Pope Francis used his annual Christmas Day mes...         News   \n",
       "...                                                  ...          ...   \n",
       "23476  21st Century Wire says As 21WIRE reported earl...  Middle-east   \n",
       "23477  21st Century Wire says It s a familiar theme. ...  Middle-east   \n",
       "23478  Patrick Henningsen  21st Century WireRemember ...  Middle-east   \n",
       "23479  21st Century Wire says Al Jazeera America will...  Middle-east   \n",
       "23480  21st Century Wire says As 21WIRE predicted in ...  Middle-east   \n",
       "\n",
       "                    date  \n",
       "0      December 31, 2017  \n",
       "1      December 31, 2017  \n",
       "2      December 30, 2017  \n",
       "3      December 29, 2017  \n",
       "4      December 25, 2017  \n",
       "...                  ...  \n",
       "23476   January 16, 2016  \n",
       "23477   January 16, 2016  \n",
       "23478   January 15, 2016  \n",
       "23479   January 14, 2016  \n",
       "23480   January 12, 2016  \n",
       "\n",
       "[23481 rows x 4 columns]"
      ]
     },
     "execution_count": 60,
     "metadata": {},
     "output_type": "execute_result"
    }
   ],
   "source": [
    "ISOT_Dataset_Fake"
   ]
  },
  {
   "cell_type": "markdown",
   "metadata": {},
   "source": [
    "<p style=color:#38629C> Adding label fake and true to the datasets and combining both datasets together</p>"
   ]
  },
  {
   "cell_type": "code",
   "execution_count": 61,
   "metadata": {},
   "outputs": [],
   "source": [
    "#Adding label to the datasets for better identification\n",
    "ISOT_Dataset_True[\"label\"] = str(\"true\")\n",
    "ISOT_Dataset_Fake[\"label\"] = str(\"fake\")"
   ]
  },
  {
   "cell_type": "code",
   "execution_count": 62,
   "metadata": {},
   "outputs": [],
   "source": [
    "# Combing both datasets together to before preprocessing and cleaning both datasets [ISOT and FakeNewsNet]\n",
    "ISOT_Dataset_Combined = pd.concat([ISOT_Dataset_True, ISOT_Dataset_Fake])\n"
   ]
  },
  {
   "cell_type": "code",
   "execution_count": 63,
   "metadata": {},
   "outputs": [
    {
     "data": {
      "text/html": [
       "<div>\n",
       "<style scoped>\n",
       "    .dataframe tbody tr th:only-of-type {\n",
       "        vertical-align: middle;\n",
       "    }\n",
       "\n",
       "    .dataframe tbody tr th {\n",
       "        vertical-align: top;\n",
       "    }\n",
       "\n",
       "    .dataframe thead th {\n",
       "        text-align: right;\n",
       "    }\n",
       "</style>\n",
       "<table border=\"1\" class=\"dataframe\">\n",
       "  <thead>\n",
       "    <tr style=\"text-align: right;\">\n",
       "      <th></th>\n",
       "      <th>title</th>\n",
       "      <th>text</th>\n",
       "      <th>subject</th>\n",
       "      <th>date</th>\n",
       "      <th>label</th>\n",
       "    </tr>\n",
       "  </thead>\n",
       "  <tbody>\n",
       "    <tr>\n",
       "      <th>0</th>\n",
       "      <td>As U.S. budget fight looms, Republicans flip t...</td>\n",
       "      <td>WASHINGTON (Reuters) - The head of a conservat...</td>\n",
       "      <td>politicsNews</td>\n",
       "      <td>December 31, 2017</td>\n",
       "      <td>true</td>\n",
       "    </tr>\n",
       "    <tr>\n",
       "      <th>1</th>\n",
       "      <td>U.S. military to accept transgender recruits o...</td>\n",
       "      <td>WASHINGTON (Reuters) - Transgender people will...</td>\n",
       "      <td>politicsNews</td>\n",
       "      <td>December 29, 2017</td>\n",
       "      <td>true</td>\n",
       "    </tr>\n",
       "    <tr>\n",
       "      <th>2</th>\n",
       "      <td>Senior U.S. Republican senator: 'Let Mr. Muell...</td>\n",
       "      <td>WASHINGTON (Reuters) - The special counsel inv...</td>\n",
       "      <td>politicsNews</td>\n",
       "      <td>December 31, 2017</td>\n",
       "      <td>true</td>\n",
       "    </tr>\n",
       "    <tr>\n",
       "      <th>3</th>\n",
       "      <td>FBI Russia probe helped by Australian diplomat...</td>\n",
       "      <td>WASHINGTON (Reuters) - Trump campaign adviser ...</td>\n",
       "      <td>politicsNews</td>\n",
       "      <td>December 30, 2017</td>\n",
       "      <td>true</td>\n",
       "    </tr>\n",
       "    <tr>\n",
       "      <th>4</th>\n",
       "      <td>Trump wants Postal Service to charge 'much mor...</td>\n",
       "      <td>SEATTLE/WASHINGTON (Reuters) - President Donal...</td>\n",
       "      <td>politicsNews</td>\n",
       "      <td>December 29, 2017</td>\n",
       "      <td>true</td>\n",
       "    </tr>\n",
       "    <tr>\n",
       "      <th>...</th>\n",
       "      <td>...</td>\n",
       "      <td>...</td>\n",
       "      <td>...</td>\n",
       "      <td>...</td>\n",
       "      <td>...</td>\n",
       "    </tr>\n",
       "    <tr>\n",
       "      <th>23476</th>\n",
       "      <td>McPain: John McCain Furious That Iran Treated ...</td>\n",
       "      <td>21st Century Wire says As 21WIRE reported earl...</td>\n",
       "      <td>Middle-east</td>\n",
       "      <td>January 16, 2016</td>\n",
       "      <td>fake</td>\n",
       "    </tr>\n",
       "    <tr>\n",
       "      <th>23477</th>\n",
       "      <td>JUSTICE? Yahoo Settles E-mail Privacy Class-ac...</td>\n",
       "      <td>21st Century Wire says It s a familiar theme. ...</td>\n",
       "      <td>Middle-east</td>\n",
       "      <td>January 16, 2016</td>\n",
       "      <td>fake</td>\n",
       "    </tr>\n",
       "    <tr>\n",
       "      <th>23478</th>\n",
       "      <td>Sunnistan: US and Allied ‘Safe Zone’ Plan to T...</td>\n",
       "      <td>Patrick Henningsen  21st Century WireRemember ...</td>\n",
       "      <td>Middle-east</td>\n",
       "      <td>January 15, 2016</td>\n",
       "      <td>fake</td>\n",
       "    </tr>\n",
       "    <tr>\n",
       "      <th>23479</th>\n",
       "      <td>How to Blow $700 Million: Al Jazeera America F...</td>\n",
       "      <td>21st Century Wire says Al Jazeera America will...</td>\n",
       "      <td>Middle-east</td>\n",
       "      <td>January 14, 2016</td>\n",
       "      <td>fake</td>\n",
       "    </tr>\n",
       "    <tr>\n",
       "      <th>23480</th>\n",
       "      <td>10 U.S. Navy Sailors Held by Iranian Military ...</td>\n",
       "      <td>21st Century Wire says As 21WIRE predicted in ...</td>\n",
       "      <td>Middle-east</td>\n",
       "      <td>January 12, 2016</td>\n",
       "      <td>fake</td>\n",
       "    </tr>\n",
       "  </tbody>\n",
       "</table>\n",
       "<p>44898 rows × 5 columns</p>\n",
       "</div>"
      ],
      "text/plain": [
       "                                                   title  \\\n",
       "0      As U.S. budget fight looms, Republicans flip t...   \n",
       "1      U.S. military to accept transgender recruits o...   \n",
       "2      Senior U.S. Republican senator: 'Let Mr. Muell...   \n",
       "3      FBI Russia probe helped by Australian diplomat...   \n",
       "4      Trump wants Postal Service to charge 'much mor...   \n",
       "...                                                  ...   \n",
       "23476  McPain: John McCain Furious That Iran Treated ...   \n",
       "23477  JUSTICE? Yahoo Settles E-mail Privacy Class-ac...   \n",
       "23478  Sunnistan: US and Allied ‘Safe Zone’ Plan to T...   \n",
       "23479  How to Blow $700 Million: Al Jazeera America F...   \n",
       "23480  10 U.S. Navy Sailors Held by Iranian Military ...   \n",
       "\n",
       "                                                    text       subject  \\\n",
       "0      WASHINGTON (Reuters) - The head of a conservat...  politicsNews   \n",
       "1      WASHINGTON (Reuters) - Transgender people will...  politicsNews   \n",
       "2      WASHINGTON (Reuters) - The special counsel inv...  politicsNews   \n",
       "3      WASHINGTON (Reuters) - Trump campaign adviser ...  politicsNews   \n",
       "4      SEATTLE/WASHINGTON (Reuters) - President Donal...  politicsNews   \n",
       "...                                                  ...           ...   \n",
       "23476  21st Century Wire says As 21WIRE reported earl...   Middle-east   \n",
       "23477  21st Century Wire says It s a familiar theme. ...   Middle-east   \n",
       "23478  Patrick Henningsen  21st Century WireRemember ...   Middle-east   \n",
       "23479  21st Century Wire says Al Jazeera America will...   Middle-east   \n",
       "23480  21st Century Wire says As 21WIRE predicted in ...   Middle-east   \n",
       "\n",
       "                     date label  \n",
       "0      December 31, 2017   true  \n",
       "1      December 29, 2017   true  \n",
       "2      December 31, 2017   true  \n",
       "3      December 30, 2017   true  \n",
       "4      December 29, 2017   true  \n",
       "...                   ...   ...  \n",
       "23476    January 16, 2016  fake  \n",
       "23477    January 16, 2016  fake  \n",
       "23478    January 15, 2016  fake  \n",
       "23479    January 14, 2016  fake  \n",
       "23480    January 12, 2016  fake  \n",
       "\n",
       "[44898 rows x 5 columns]"
      ]
     },
     "execution_count": 63,
     "metadata": {},
     "output_type": "execute_result"
    }
   ],
   "source": [
    "ISOT_Dataset_Combined"
   ]
  },
  {
   "cell_type": "markdown",
   "metadata": {},
   "source": [
    "<p style=color:#38629C> We can Validate that the combined record is exactly matching with the individual dataset (i.e. ISOT_Datatset_True and ISOT_Dataset_Fake)\n",
    "</p>\n",
    "\n",
    "<ul style=color:#38629C>\n",
    "    <li> ISOT_Datatset_True  : 21,417 rows × 4 columns</li>\n",
    "    <li> ISOT_Datatset_Fake  : 23,481 rows × 4 columns</li>\n",
    "    <li style=color:#467200 > ISOT_Dataset_Combined  : 44,898 rows × 5 columns</li>\n",
    "</ul>"
   ]
  },
  {
   "cell_type": "markdown",
   "metadata": {},
   "source": [
    "<h3 style=\"color:#7a5138\">Stage 2 -  Data Cleaning and Preprocessing</h3>"
   ]
  },
  {
   "cell_type": "markdown",
   "metadata": {},
   "source": [
    "<p style=color:#38629C><b style=color:#467200>1. Combining Datasets :</b> First of All, we have too combine both datasets together before performing any preprocessing. The Columns in both Datasets and its representation are as follows:</p>\n",
    "\n",
    "<ul style=color:#38629C>\n",
    "    <li> Title</li> \n",
    "    <li> Text</li> \n",
    "    <li> Label</li>\n",
    "</ul>\n",
    "\n",
    "<p style=color:#38629C>There is no Text field in FakeNewsNet, therefore, both Tile and Text will be combined once both FakeNewsNet and ISOT datasets merged together. Title and Text are also combined together as both are interrelated and it is not available in FakeNewsNet dataset.</p>"
   ]
  },
  {
   "cell_type": "code",
   "execution_count": 64,
   "metadata": {},
   "outputs": [],
   "source": [
    "#Concatenating the FakeNewsNet_Combined and ISOT_Dataset_Combined to new dataset named as \"Combined_Dataset\" before preprocessing and cleaning both datasets. \n",
    "#Columns combined into a single dataset are title, text and label.\n",
    "Combined_Dataset = pd.concat([FakeNewsNet_Combined[['title', 'label']], ISOT_Dataset_Combined[['title','label','text']]], ignore_index=True)\n",
    "\n"
   ]
  },
  {
   "cell_type": "code",
   "execution_count": 65,
   "metadata": {},
   "outputs": [
    {
     "data": {
      "text/html": [
       "<div>\n",
       "<style scoped>\n",
       "    .dataframe tbody tr th:only-of-type {\n",
       "        vertical-align: middle;\n",
       "    }\n",
       "\n",
       "    .dataframe tbody tr th {\n",
       "        vertical-align: top;\n",
       "    }\n",
       "\n",
       "    .dataframe thead th {\n",
       "        text-align: right;\n",
       "    }\n",
       "</style>\n",
       "<table border=\"1\" class=\"dataframe\">\n",
       "  <thead>\n",
       "    <tr style=\"text-align: right;\">\n",
       "      <th></th>\n",
       "      <th>title</th>\n",
       "      <th>label</th>\n",
       "      <th>text</th>\n",
       "    </tr>\n",
       "  </thead>\n",
       "  <tbody>\n",
       "    <tr>\n",
       "      <th>0</th>\n",
       "      <td>National Federation of Independent Business</td>\n",
       "      <td>true</td>\n",
       "      <td></td>\n",
       "    </tr>\n",
       "    <tr>\n",
       "      <th>1</th>\n",
       "      <td>comments in Fayetteville NC</td>\n",
       "      <td>true</td>\n",
       "      <td></td>\n",
       "    </tr>\n",
       "    <tr>\n",
       "      <th>2</th>\n",
       "      <td>Romney makes pitch, hoping to close deal : Ele...</td>\n",
       "      <td>true</td>\n",
       "      <td></td>\n",
       "    </tr>\n",
       "    <tr>\n",
       "      <th>3</th>\n",
       "      <td>Democratic Leaders Say House Democrats Are Uni...</td>\n",
       "      <td>true</td>\n",
       "      <td></td>\n",
       "    </tr>\n",
       "    <tr>\n",
       "      <th>4</th>\n",
       "      <td>Budget of the United States Government, FY 2008</td>\n",
       "      <td>true</td>\n",
       "      <td></td>\n",
       "    </tr>\n",
       "    <tr>\n",
       "      <th>...</th>\n",
       "      <td>...</td>\n",
       "      <td>...</td>\n",
       "      <td>...</td>\n",
       "    </tr>\n",
       "    <tr>\n",
       "      <th>68089</th>\n",
       "      <td>McPain: John McCain Furious That Iran Treated ...</td>\n",
       "      <td>fake</td>\n",
       "      <td>21st Century Wire says As 21WIRE reported earl...</td>\n",
       "    </tr>\n",
       "    <tr>\n",
       "      <th>68090</th>\n",
       "      <td>JUSTICE? Yahoo Settles E-mail Privacy Class-ac...</td>\n",
       "      <td>fake</td>\n",
       "      <td>21st Century Wire says It s a familiar theme. ...</td>\n",
       "    </tr>\n",
       "    <tr>\n",
       "      <th>68091</th>\n",
       "      <td>Sunnistan: US and Allied ‘Safe Zone’ Plan to T...</td>\n",
       "      <td>fake</td>\n",
       "      <td>Patrick Henningsen  21st Century WireRemember ...</td>\n",
       "    </tr>\n",
       "    <tr>\n",
       "      <th>68092</th>\n",
       "      <td>How to Blow $700 Million: Al Jazeera America F...</td>\n",
       "      <td>fake</td>\n",
       "      <td>21st Century Wire says Al Jazeera America will...</td>\n",
       "    </tr>\n",
       "    <tr>\n",
       "      <th>68093</th>\n",
       "      <td>10 U.S. Navy Sailors Held by Iranian Military ...</td>\n",
       "      <td>fake</td>\n",
       "      <td>21st Century Wire says As 21WIRE predicted in ...</td>\n",
       "    </tr>\n",
       "  </tbody>\n",
       "</table>\n",
       "<p>68094 rows × 3 columns</p>\n",
       "</div>"
      ],
      "text/plain": [
       "                                                   title label  \\\n",
       "0            National Federation of Independent Business  true   \n",
       "1                            comments in Fayetteville NC  true   \n",
       "2      Romney makes pitch, hoping to close deal : Ele...  true   \n",
       "3      Democratic Leaders Say House Democrats Are Uni...  true   \n",
       "4        Budget of the United States Government, FY 2008  true   \n",
       "...                                                  ...   ...   \n",
       "68089  McPain: John McCain Furious That Iran Treated ...  fake   \n",
       "68090  JUSTICE? Yahoo Settles E-mail Privacy Class-ac...  fake   \n",
       "68091  Sunnistan: US and Allied ‘Safe Zone’ Plan to T...  fake   \n",
       "68092  How to Blow $700 Million: Al Jazeera America F...  fake   \n",
       "68093  10 U.S. Navy Sailors Held by Iranian Military ...  fake   \n",
       "\n",
       "                                                    text  \n",
       "0                                                         \n",
       "1                                                         \n",
       "2                                                         \n",
       "3                                                         \n",
       "4                                                         \n",
       "...                                                  ...  \n",
       "68089  21st Century Wire says As 21WIRE reported earl...  \n",
       "68090  21st Century Wire says It s a familiar theme. ...  \n",
       "68091  Patrick Henningsen  21st Century WireRemember ...  \n",
       "68092  21st Century Wire says Al Jazeera America will...  \n",
       "68093  21st Century Wire says As 21WIRE predicted in ...  \n",
       "\n",
       "[68094 rows x 3 columns]"
      ]
     },
     "execution_count": 65,
     "metadata": {},
     "output_type": "execute_result"
    }
   ],
   "source": [
    "#Since, Text is only included in the ISOT dataset, therefore, it is kept as blank. \n",
    "Combined_Dataset['text'] = Combined_Dataset['text'].fillna(\"\")\n",
    "\n",
    "#NAN has been eliminated by keeping it as Blank\n",
    "Combined_Dataset"
   ]
  },
  {
   "cell_type": "code",
   "execution_count": 66,
   "metadata": {},
   "outputs": [],
   "source": [
    "#Merging both columns title and text columns with each other for the training purposes because both are interlinked with each other.\n",
    "Combined_Dataset['title_text'] = Combined_Dataset['title'] + ' ' + Combined_Dataset['text']\n",
    "\n",
    "#Since, we have combined title and text, therefore, we can opt to drop these individual columns from datasets as these are not required and it will also make our dataset smaller.\n",
    "Combined_Dataset = Combined_Dataset.drop(['title', 'text'], axis=1)"
   ]
  },
  {
   "cell_type": "code",
   "execution_count": 67,
   "metadata": {},
   "outputs": [
    {
     "data": {
      "text/html": [
       "<div>\n",
       "<style scoped>\n",
       "    .dataframe tbody tr th:only-of-type {\n",
       "        vertical-align: middle;\n",
       "    }\n",
       "\n",
       "    .dataframe tbody tr th {\n",
       "        vertical-align: top;\n",
       "    }\n",
       "\n",
       "    .dataframe thead th {\n",
       "        text-align: right;\n",
       "    }\n",
       "</style>\n",
       "<table border=\"1\" class=\"dataframe\">\n",
       "  <thead>\n",
       "    <tr style=\"text-align: right;\">\n",
       "      <th></th>\n",
       "      <th>label</th>\n",
       "      <th>title_text</th>\n",
       "    </tr>\n",
       "  </thead>\n",
       "  <tbody>\n",
       "    <tr>\n",
       "      <th>0</th>\n",
       "      <td>true</td>\n",
       "      <td>National Federation of Independent Business</td>\n",
       "    </tr>\n",
       "    <tr>\n",
       "      <th>1</th>\n",
       "      <td>true</td>\n",
       "      <td>comments in Fayetteville NC</td>\n",
       "    </tr>\n",
       "    <tr>\n",
       "      <th>2</th>\n",
       "      <td>true</td>\n",
       "      <td>Romney makes pitch, hoping to close deal : Ele...</td>\n",
       "    </tr>\n",
       "    <tr>\n",
       "      <th>3</th>\n",
       "      <td>true</td>\n",
       "      <td>Democratic Leaders Say House Democrats Are Uni...</td>\n",
       "    </tr>\n",
       "    <tr>\n",
       "      <th>4</th>\n",
       "      <td>true</td>\n",
       "      <td>Budget of the United States Government, FY 2008</td>\n",
       "    </tr>\n",
       "    <tr>\n",
       "      <th>...</th>\n",
       "      <td>...</td>\n",
       "      <td>...</td>\n",
       "    </tr>\n",
       "    <tr>\n",
       "      <th>68089</th>\n",
       "      <td>fake</td>\n",
       "      <td>McPain: John McCain Furious That Iran Treated ...</td>\n",
       "    </tr>\n",
       "    <tr>\n",
       "      <th>68090</th>\n",
       "      <td>fake</td>\n",
       "      <td>JUSTICE? Yahoo Settles E-mail Privacy Class-ac...</td>\n",
       "    </tr>\n",
       "    <tr>\n",
       "      <th>68091</th>\n",
       "      <td>fake</td>\n",
       "      <td>Sunnistan: US and Allied ‘Safe Zone’ Plan to T...</td>\n",
       "    </tr>\n",
       "    <tr>\n",
       "      <th>68092</th>\n",
       "      <td>fake</td>\n",
       "      <td>How to Blow $700 Million: Al Jazeera America F...</td>\n",
       "    </tr>\n",
       "    <tr>\n",
       "      <th>68093</th>\n",
       "      <td>fake</td>\n",
       "      <td>10 U.S. Navy Sailors Held by Iranian Military ...</td>\n",
       "    </tr>\n",
       "  </tbody>\n",
       "</table>\n",
       "<p>68094 rows × 2 columns</p>\n",
       "</div>"
      ],
      "text/plain": [
       "      label                                         title_text\n",
       "0      true       National Federation of Independent Business \n",
       "1      true                       comments in Fayetteville NC \n",
       "2      true  Romney makes pitch, hoping to close deal : Ele...\n",
       "3      true  Democratic Leaders Say House Democrats Are Uni...\n",
       "4      true   Budget of the United States Government, FY 2008 \n",
       "...     ...                                                ...\n",
       "68089  fake  McPain: John McCain Furious That Iran Treated ...\n",
       "68090  fake  JUSTICE? Yahoo Settles E-mail Privacy Class-ac...\n",
       "68091  fake  Sunnistan: US and Allied ‘Safe Zone’ Plan to T...\n",
       "68092  fake  How to Blow $700 Million: Al Jazeera America F...\n",
       "68093  fake  10 U.S. Navy Sailors Held by Iranian Military ...\n",
       "\n",
       "[68094 rows x 2 columns]"
      ]
     },
     "execution_count": 67,
     "metadata": {},
     "output_type": "execute_result"
    }
   ],
   "source": [
    "Combined_Dataset"
   ]
  },
  {
   "cell_type": "code",
   "execution_count": 68,
   "metadata": {},
   "outputs": [
    {
     "data": {
      "text/plain": [
       "label         0\n",
       "title_text    0\n",
       "dtype: int64"
      ]
     },
     "execution_count": 68,
     "metadata": {},
     "output_type": "execute_result"
    }
   ],
   "source": [
    "Combined_Dataset.isnull().sum()"
   ]
  },
  {
   "cell_type": "code",
   "execution_count": 69,
   "metadata": {},
   "outputs": [
    {
     "data": {
      "text/plain": [
       "label         68094\n",
       "title_text    68094\n",
       "dtype: int64"
      ]
     },
     "execution_count": 69,
     "metadata": {},
     "output_type": "execute_result"
    }
   ],
   "source": [
    "Combined_Dataset.count()"
   ]
  },
  {
   "cell_type": "markdown",
   "metadata": {},
   "source": [
    "<p style=color:#38629C>There is no null value or missing record in the final dataset. However, unwanted columns are dropped for clarity and to make the dataset smaller.</p>"
   ]
  },
  {
   "cell_type": "markdown",
   "metadata": {},
   "source": [
    "<p style=color:#38629C><b style=color:#38629C>2. Checking Duplicate Records :</b> This step involve checking the duplicate records to ensure the followings:</p>\n",
    "\n",
    "<ul style=color:#38629C>\n",
    "    <li> Since, two datasets are combined with each other so there are chances of having a duplicate records.</li> \n",
    "    <li> There are also chances of having duplicated records in same dataset.</li> \n",
    "</ul>"
   ]
  },
  {
   "cell_type": "code",
   "execution_count": 70,
   "metadata": {},
   "outputs": [
    {
     "name": "stdout",
     "output_type": "stream",
     "text": [
      "Duplicate record count:\n",
      "False    60829\n",
      "True      7265\n",
      "dtype: int64\n"
     ]
    }
   ],
   "source": [
    "#Identifying the number of the duplicates records from the data frame\n",
    "Duplicate_Records = Combined_Dataset.duplicated(subset=['title_text'], keep='first')\n",
    "print(\"Duplicate record count:\")\n",
    "print(Duplicate_Records.groupby(Duplicate_Records).count())"
   ]
  },
  {
   "cell_type": "markdown",
   "metadata": {},
   "source": [
    "<p style=color:#38629C>There are 7,265 records which are duplicated and needs to be removed from the dataset and 60,829 records are unique.</p>\n",
    "<p style=color:#467200 > Original Dataset [68,094 rows] <b>-</b> Duplicate Records [7,265 rows] <b>=</b> Cleaned Dataset [60,829 rows] </p>"
   ]
  },
  {
   "cell_type": "code",
   "execution_count": 71,
   "metadata": {},
   "outputs": [
    {
     "data": {
      "text/html": [
       "<div>\n",
       "<style scoped>\n",
       "    .dataframe tbody tr th:only-of-type {\n",
       "        vertical-align: middle;\n",
       "    }\n",
       "\n",
       "    .dataframe tbody tr th {\n",
       "        vertical-align: top;\n",
       "    }\n",
       "\n",
       "    .dataframe thead th {\n",
       "        text-align: right;\n",
       "    }\n",
       "</style>\n",
       "<table border=\"1\" class=\"dataframe\">\n",
       "  <thead>\n",
       "    <tr style=\"text-align: right;\">\n",
       "      <th></th>\n",
       "      <th>label</th>\n",
       "      <th>title_text</th>\n",
       "    </tr>\n",
       "  </thead>\n",
       "  <tbody>\n",
       "    <tr>\n",
       "      <th>0</th>\n",
       "      <td>true</td>\n",
       "      <td>National Federation of Independent Business</td>\n",
       "    </tr>\n",
       "    <tr>\n",
       "      <th>1</th>\n",
       "      <td>true</td>\n",
       "      <td>comments in Fayetteville NC</td>\n",
       "    </tr>\n",
       "    <tr>\n",
       "      <th>2</th>\n",
       "      <td>true</td>\n",
       "      <td>Romney makes pitch, hoping to close deal : Ele...</td>\n",
       "    </tr>\n",
       "    <tr>\n",
       "      <th>3</th>\n",
       "      <td>true</td>\n",
       "      <td>Democratic Leaders Say House Democrats Are Uni...</td>\n",
       "    </tr>\n",
       "    <tr>\n",
       "      <th>4</th>\n",
       "      <td>true</td>\n",
       "      <td>Budget of the United States Government, FY 2008</td>\n",
       "    </tr>\n",
       "    <tr>\n",
       "      <th>...</th>\n",
       "      <td>...</td>\n",
       "      <td>...</td>\n",
       "    </tr>\n",
       "    <tr>\n",
       "      <th>67311</th>\n",
       "      <td>fake</td>\n",
       "      <td>The White House and The Theatrics of ‘Gun Cont...</td>\n",
       "    </tr>\n",
       "    <tr>\n",
       "      <th>67312</th>\n",
       "      <td>fake</td>\n",
       "      <td>Activists or Terrorists? How Media Controls an...</td>\n",
       "    </tr>\n",
       "    <tr>\n",
       "      <th>67313</th>\n",
       "      <td>fake</td>\n",
       "      <td>BOILER ROOM – No Surrender, No Retreat, Heads ...</td>\n",
       "    </tr>\n",
       "    <tr>\n",
       "      <th>67314</th>\n",
       "      <td>fake</td>\n",
       "      <td>Federal Showdown Looms in Oregon After BLM Abu...</td>\n",
       "    </tr>\n",
       "    <tr>\n",
       "      <th>67315</th>\n",
       "      <td>fake</td>\n",
       "      <td>A Troubled King: Chicago’s Rahm Emanuel Desper...</td>\n",
       "    </tr>\n",
       "  </tbody>\n",
       "</table>\n",
       "<p>60829 rows × 2 columns</p>\n",
       "</div>"
      ],
      "text/plain": [
       "      label                                         title_text\n",
       "0      true       National Federation of Independent Business \n",
       "1      true                       comments in Fayetteville NC \n",
       "2      true  Romney makes pitch, hoping to close deal : Ele...\n",
       "3      true  Democratic Leaders Say House Democrats Are Uni...\n",
       "4      true   Budget of the United States Government, FY 2008 \n",
       "...     ...                                                ...\n",
       "67311  fake  The White House and The Theatrics of ‘Gun Cont...\n",
       "67312  fake  Activists or Terrorists? How Media Controls an...\n",
       "67313  fake  BOILER ROOM – No Surrender, No Retreat, Heads ...\n",
       "67314  fake  Federal Showdown Looms in Oregon After BLM Abu...\n",
       "67315  fake  A Troubled King: Chicago’s Rahm Emanuel Desper...\n",
       "\n",
       "[60829 rows x 2 columns]"
      ]
     },
     "execution_count": 71,
     "metadata": {},
     "output_type": "execute_result"
    }
   ],
   "source": [
    "#Removing the duplicate records from the data frame.\n",
    "Combined_Dataset = Combined_Dataset[~Duplicate_Records]\n",
    "Combined_Dataset"
   ]
  },
  {
   "cell_type": "markdown",
   "metadata": {},
   "source": [
    "<p style=color:#38629C><b style=color:#467200>2. Converting text to String :</b> Currently datatype of text_title column is object. This should be converted into string for further text related cleaning activities.</p>"
   ]
  },
  {
   "cell_type": "code",
   "execution_count": 72,
   "metadata": {},
   "outputs": [],
   "source": [
    "#Dataframe is copied to avoid the issue of \"SettingWithCopyWarning\"\n",
    "Combined_Dataset = Combined_Dataset.copy()\n",
    "#text_title is changes to string from object\n",
    "Combined_Dataset['title_text'] = Combined_Dataset['title_text'].astype(\"string\")"
   ]
  },
  {
   "cell_type": "code",
   "execution_count": 73,
   "metadata": {},
   "outputs": [
    {
     "data": {
      "text/plain": [
       "label                 object\n",
       "title_text    string[python]\n",
       "dtype: object"
      ]
     },
     "execution_count": 73,
     "metadata": {},
     "output_type": "execute_result"
    }
   ],
   "source": [
    "Combined_Dataset.dtypes"
   ]
  },
  {
   "cell_type": "code",
   "execution_count": 74,
   "metadata": {},
   "outputs": [],
   "source": [
    "#Function to Print the dataset rows as text to observe the data\n",
    "from typing import Union\n",
    "\n",
    "def print_dataset(ds: Union[pd.DataFrame, pd.Series], counts: int, txt: str, tail: bool = False):\n",
    "    j = 0\n",
    "    if tail:\n",
    "        data_subset = ds.tail(counts)\n",
    "    else:\n",
    "        data_subset = ds.head(counts)\n",
    "    \n",
    "    for i in data_subset[txt]:\n",
    "        j += 1\n",
    "        print(j, \"=>\", i)\n",
    "        print()"
   ]
  },
  {
   "cell_type": "code",
   "execution_count": 75,
   "metadata": {},
   "outputs": [
    {
     "name": "stdout",
     "output_type": "stream",
     "text": [
      "1 => McPain: John McCain Furious That Iran Treated US Sailors Well 21st Century Wire says As 21WIRE reported earlier this week, the unlikely  mishap  of two US Naval vessels straying into Iranian waters   just hours before the President s State of the Union speech, followed by the usual parade of arch-neocons coming on TV in real time to declare the incident as  an act of aggression  by Iran against the United States   is no mere coincidence.24 hours after the incident, the Iranians returned all 11 US sailors, unharmed and in good spirits. The only remaining casualty from this event was an incident of a common condition in Washington known as  Pre-Traumatic Stress Disorder    suffered by a certain US Senator was mortified by the uneventful outcome which followed Daniel McAdams Ron Paul Institute  The two US Navy riverine command boats intercepted in Iranian territorial waters yesterday were sent on their way along with the crew of 10 US sailors after brief detention on Iranian soil.According to news reports, the well-armed warships either suffered mechanical or navigational difficulties which caused them to enter Iranian territory (although it may well have been a game of cat-and-mouse to test the Iranian response). The US sailors were apparently treated well, enjoyed what appeared a decent meal in relaxed surroundings, and in the end apologized for the mistake and praised their treatment by the Iranians. Thanks to President Obama s policy shift on Iran toward engagement and away from isolationism, Secretary of State John Kerry was able to telephone his Iranian counterpart Mohammad Zarif and quickly defuse what just months ago would have been a far more serious situation.This should be a good-news story about the value of diplomacy and reducing tensions with adversaries, but Sen. John McCain (R-AZ) was having none of it. That Kerry expressed his appreciation to the Iranians for swiftly releasing the American sailors only showed the Obama Administration s  craven desire to preserve the dangerous Iranian nuclear deal at all costs evidently knows no limit,  said McCain in a press release.McCain was furious that  Obama administration officials seem to be falling over themselves to offer praise for Iran s graciousness  and was outraged that the Iranians dared interfere with the actions of US military vessels operating in Iranian waters.In the world of John McCain, only the United States has the right to national sovereignty. The US military has the right to act anywhere and everywhere and the rest of the world dare not raise a question.According to McCain,  sovereign immune naval vessels are exempt from detention, boarding, or search. Their crews are not subject to detention or arrest. Imagine the tune McCain would have been singing if a well-armed Iranian naval vessel had been spotted in US territorial waters off the coast of New York. Would he have so rigorously condemned any US interference in the actions of Iran s sovereign naval vessels?Leave it to some clever Twitterers to post an example of the difference between US and Iranian detention.Copyright   2016 by RonPaul Institute. Permission to reprint in whole or in part is gladly granted, provided full credit and a live link are given.READ MORE JOHN MCCAIN NEWS AT: 21st Century Wire McPain Files\n",
      "\n",
      "2 => JUSTICE? Yahoo Settles E-mail Privacy Class-action: $4M for Lawyers, $0 for Users 21st Century Wire says It s a familiar theme. Whenever there is a dispute or a change of law, and two tribes go to war, there is normally only one real winner after the tribulation  the lawyers. Ars TechnicaIn late 2013, Yahoo was hit with six lawsuits over its practice of using automated scans of e-mail to produce targeted ads. The cases, which were consolidated in federal court, all argued that the privacy rights of non-Yahoo users, who  did not consent to Yahoo s interception and scanning of their emails,  were being violated by a multi-billion dollar company.Now, lawyers representing the plaintiffs are singing a different tune. Last week, they asked US District Judge Lucy Koh to accept a proposed settlement (PDF). Under the proposal, the massive class of non-Yahoo users won t get any payment, but the class lawyers at Girard Gibbs and Kaplan Fox intend to ask for up to $4 million in fees. (The ultimate amount of fees will be up to the judge, but Yahoo has agreed not to oppose any fee request up to $4 million.)While users won t get any payment, Yahoo will change how it handles user e-mails but it isn t the change that the plaintiffs attorneys were originally asking for. Yahoo won t stop scanning e-mails. Instead, the company has agreed to make a technical change to when it scans e-mails. In the settlement (PDF), Yahoo has agreed that e-mail content will be  only sent to servers for analysis for advertising purposes after a Yahoo Mail user can access the email in his or her inbox. The settlement deal looks pretty similar to what Yahoo had argued it did in the first place Continue this story at Ars TechnicaREAD MORE NSA NEWS AT: 21st Century Wire NSA Files\n",
      "\n",
      "3 => Sunnistan: US and Allied ‘Safe Zone’ Plan to Take Territorial Booty in Northern Syria Patrick Henningsen  21st Century WireRemember when the Obama Administration told the world how it hoped to identify 5,000 reliable non-jihadist  moderate  rebels hanging out in Turkey and Jordan, who might want to fight for Washington in Syria? After all the drama over its infamous  train and equip  program to create their own Arab army in Syria, they want to give it another try.This week, Pentagon officials announced their new plan to train up to 7,000 more  moderate  fighters, but this time the project would take place inside Syria (and to hell with international law).We re told that this was requested by Ankara, and with all NATO allies singing the same hymn   claiming that this new effort will help in securing Turkey s porous border with Syria, or so the story goes. Washington s political cover for this is fashioned from the popular post-Paris theme: to protect civilized Europe from invading hordes and the terrorists who hide among them, as stated in the Wall Street Journal: The program would address part of the tense and long-running dialogue between Washington and Ankara over sealing the border, which Western governments have long complained is an avenue for extremists to leave Syria and travel internationally, The timing of this announcement seemed uncanny against the backdrop of an unlikely ISIS  suicide bomb  terrorist attack, in Turkey, of all places, where the victims just happened to be 14 German tourists, feeding perfectly into Europe s new binary fear set of terrorism and immigration. Shades of GLADIO, undoubtedly (but you won t see western journalists entertaining such conspiracy theories).Our friends at Nation Builders Inc are banking on the global public suffering from Syria fatigue, but now is the time to really pay attention. The west s real agenda for the region is starting to unfold Despite all of US-led Coalition s scandals, lies, epic failures, false flags and official conspiracy theories, the mainstream narrative on Syria persists. It s on our TV screens and in our newspapers constantly   from Los Angeles to London, from Paris to Riyadh, every politician and pundit seems to have an opinion about,  what to do with Syria?  Everyone, except the Syria people  themselves, who like the people of Iraq, Libya, Afghanistan, Yemen and ever other country that s found itself under the cleaver of western interests   are never afforded any say in their own destiny. As is tradition in Washington, London and Paris, the only Syrian voices which count are the ones who have been hand-picked by western technocrats and approved by the Saudi royal family to form their ever-changing  recognized  government-in-exile, the Syrian National Council. Currently, that could be Riad Hijab,  George Sabra or Khaled Khoja. Next week, it could be three others, depending on who has fallen in, or out of favor with Washington or Riyadh.To anyone who was listening close enough early on in the conflict, you would have heard determined members of the western-backed  Syrian Opposition  admitting how they would,  make a deal with the devil if that s what it takes to win power.  Four years later, we now see that is exactly what happened, but whether you believe that this  devil is US-led Coalition, or terrorist armies fighting groups (or both) might be cause for debate. Others will argue over which is the bigger devil   is it the Wahabist-Salafist terrorist brigades like al Nusra Front and Islamic State, or is it the West and its GCC partners?The unfortunate reality is that these two devils are not mutually exclusive. The West and its partners not only created this  terror  crisis, but did so with the intent of unveiling a grand  solution  to the problem.Plans A-ZThe terrorist enclave in Syria is designed for purpose   to implant a hostile metastasis right in the middle of the very territory which neocolonial powers plan to tear away from the barely sovereign nations of Iraq and Syria.Since 2011, the western-led cartel has deployed various levels of international subterfuge in Syria, starting with Plan A: the Arab Spring method   igniting a popular street uprising that might capture the world s attention for 15 minutes   enough to generate some high-quality evocative imagery and a social media storm to carry memes of liberty around the globe, inspiring the people on the streets (and on Twitter) to demand  change . Their cries for freedom would then be backed up by the US State Department, along with its functionaries at Human Rights Watch and Amnesty International America, and other Open Society Institute-funded NGOs and  human rights  organizations. Obviously, this did not work. Next, Plan B: the political opposition suddenly transcended into an armed, paramilitary opposition, followed by brutal violence and killing on both sides. The US and its allies wasted no time, pledging weapons, training, cash and logistical support to the armed opposition. The west set up its own parallel government for Syria abroad, but it failed to gain any traction with the Syria people. Then came Plan C: this  opposition  would be quickly overrun and absorbed into a massive array of mostly foreign jihadi and mercenary soldiers of misfortune and other assorted terrorists. This fed into an already established  War on Terror  western narrative. Now the west had a familiar entry point into the fight. The Washington-London-Paris-Tel-Aviv-Riyadh-Doha-Ankara Axis hoped that these terrorists would do the job of overthrowing the government of Bashar al Assad in Damascus, and collapse the country into a spirally pit of sectarian and tribal chaos. Who could blame them? After all, it worked in Libya in late 2011.Fast forward to 2016, having failed to overthrow Assad and implode the nation-state of Syria, the men and women of Nation Builders Inc and their muscles in Brussels (NATO), are quickly moving to Plan D: take territory. That s not to say plans A through D weren t always in the schematics   they certainly were, and further back than many people would dare to speculate.We now know from Wikileaks cables that this operation goes back to at least 2006, but in reality, it s probably much earlier than that. Taking the long view of history and the audacious building, and rebuilding, of a Euro-centric empire in the Middle East, one could say the process began the day the Sykes-Picot Agreement was signed in 1916. Concealed between those post-colonial lines drawn exactly 100 years ago, was the latent potential for the very conflicts and uncivil wars we are seeing today. If those borders are redrawn once again, you can be certain that they will be drawn by the very same powers involved a century ago. Whatever the arrangement, it will be to weaken, not strengthen the region, and certainly not strengthen any of the present nation states in the region, especially Syria. Proprietary powers will want any new states to be stuck in a perpetual state of neocolonial dependency, with an emphasis on financial and security dependency.Mice and Men21WIRE was one of the first news sources to warn about Washington s initial impulse back in 2014 when it began calling for a  No Fly Zone  in Northern Syria. It was clear that a problem, reaction, solution dialectic was in play, with ISIS being the object of the public s reaction. That plan might have come to fruition in the fall of 2015, but a funny thing happened on the way to the UN General Assembly in New York City. Later that week, Russia announced that it would be inserting itself, and its Air Force, into the Syrian quagmire, and with that, thwarted any master plan for a US-Turkey (NATO) controlled No Fly Zone along the Turkish-Syrian border. Suffice to say, that Russia already knew NATO s next move and acted accordingly, and with purpose.When asked two days ago about the prospect of the Washington DC latest brainchild, Train and Equip 2.0, this time inside Syria, here were my initial thoughts: We now know why, and it has more to do with what s beneath the sand than what s on top.As any good pirate will tell you   if you want to claim your share of the booty, you have to do your share of the killing. The Truth About  Train and Equip The previous  train and equip  program ended with Washington s military brass paraded in front of the Senate Armed Services Committee, before being roundly lambasted for failing to train even a handful of  moderate rebels , this after being awarded $500 million by the US taxpayer to get er done. When originally announced amid much fanfare, the public were told that the US government, in conjunction with the CIA, would be arming and training  moderate  militants in Turkey, Jordan or at a base in Saudi Arabia   before sending them to fight inside Syria. Washington claims that these new trainees were meant to fight ISIS, and not the Syrian government forces, but judging by the unwavering  regime change  rhetoric from the west, it would be highly naive to think that all this was strictly for ISIS.Nine months into the train and equip project, US Army Gen. Lloyd Austin III, acknowledged in Sept. 2015 that they had only managed to get  four or five  on the battlefield by then. Not one member of the media challenged this statement, probably because most were happy with the answer given   one which gave any hawkish critics of the Obama administration the pound of flesh they wanted and served to only intensify more calls before the new year for US  boots on the ground  in Syria. Doves loved it because it seemed to prove that backing proxies doesn t work, and that the best solution was to call it quits. For the sanguine mainstream media, it served-up that all-too familiar government narrative, of a  cock-up, not a cover-up.  This is the media s natural default position. In other words,  Well, it didn t work out, but that s nothing new with our incompetent government. Nothing to see here, move along.  To ask how the money disappeared, or really inquire into how it costs $500 million to train only five men   apparently was way too much work for the media. Not one  journalist  stopped to ask, if only 5 fighters were trained and dispatched, then what happened to the half a billion dollars?The real answer to that question should be self-evident to anyone studying reports on the ground in Syria, and is way too uncomfortable for the US media to stomach   that the US  train and equip  program provided the necessary official cover to allow the prosecution of a dirty war under the table. It wasn t a failure like fall guy Gen. Lloyd Austin will have you believe, it was a success.Judging by the proliferation of heavy weaponry and other lethal arms that have made it into the hands of al Qaeda in Syria (al Nusra Front), ISIS, Jaysh al Islam and others   it s clear that Uncle Sam s generous donation of $500 million has definitely been used to equip, if not train, those  rebels  in Syria.Middle East commentator and analyst Sharmine Narwani explains the West s perennial dilemma when trying to identify who their  moderates  are in Syria: For years, Washington has insisted there are armed  moderate  groups in Syria, but have gone to great lengths to avoid naming these  moderates.  Why? Because if moderates were named and identified, the US would have to be very, very certain that no past, present or future  atrocity video  would surface to prove otherwise. And the US could not guarantee this with any of the groups they have armed, trained or financed in Syria over the past five years. The next  train and equip  round will be more focused, and will be used to secure the following  The map above is from July 2015, but still represents the current military chessboard in Syria.Safe Zone =  Sunnistan Somehow it feels like 1998 all over again, with bad memories of the KLA in Kosovo, imported jihadist fighters in Bosnia, and NATO lording over a newly balkanized region.When you hear US officials like John McCain or clueless Republican presidential candidates like Marco Rubio or Carly Fiorina, all crowing for a  Safe Zone  in northern Syria, this is what they are referring to (see map above). Their  safe zone  just so happens to be in the exact same area where ISIS is currently holding court. It s a  safe zone  alright, but not for refugees and  Syrians fleeing the evil Bashar al Assad    rather, the  safe zone  will be for an array of  rebel  and terrorist fighters, part of a defacto Sunni state-lette in waiting.So the US-led Coalition s  safe zone  is the very Caliphate that Americans are decrying.For anyone requiring proof that such a grand chessboard is in play in Syria, they need look no further than a set of US airstrikes that took place before Christmas. On December 6, 2015,  US fighter bombers struck a Syrian military base located in the village of Ayyash in Deir Ezzor Province, east of Raqqa, which killed 3 Syrian Arab Army (SAA) soldiers and wounded additional others. Naturally, the Pentagon swiftly denied that any such attack took place. What happened after this incident was extremely telling, as explained by global affairs analyst Mike Whitney from Counterpunch Magazine: It s also worth noting, that according to South Front military analysis, the US bombing raid coincided with a  a full-scale ISIS offensive on the villages of Ayyash and Bgelia.  In other words, the US attack provided sufficient air-cover for ISIS terrorists to carry out their ground operations. Was that part of the plan or was it merely a coincidence? So the US air force was coordinating with ISIS boots on the ground, to achieve a common military objective. But it didn t end there. Less than 24 hours after the attack, US warplanes bombed the village of Al-Khan in north-eastern Syria killing 26 Syrian civilians including at least four women and seven children and four women. The message the US military is sending with these lethal attacks is that it wants to control the air-space over east Syria where it plans to remove ISIS and establish a de facto Sunni state consistent with its scheme to break Syria and Iraq into smaller cantons governed by local warlords, Islamic fanatics, and US puppets. Also taking place at the same moment on Dec 6th, was Turkey s quiet little invasion into northern Iraq, sending hundreds of troops and at least 20 tanks into territory north of Mosul, right between the Kurds and ISIS. It should be noted that this illegal incursion by NATO member Turkey was not approved by the Iraqi government in Baghdad, and Iraqi PM Haider al-Abadi called for Turkey to  immediately withdraw its troops.  Judging by Washington s silence on the matter, it s obvious that the US gave Turkey its full blessing. Here, Zero Hedge astutely points out the obvious: Most importantly of all, right on what Al-Araby al-Jadeed claims is the smuggling route for illegal ISIS crude into Turkey from Iraq.  Not surprisingly, Turkey s sudden move also came at the same time that Russia began to publicly expose Turkey s clandestine role in facilitating the ISIS oil trade, as well as launching airstrikes to destroy ISIS oil convoys moving from Syria into Turkey. And then Turkish leader Recep Tayyip Erdo an (photo, left) places his military assets at the very location where stolen ISIS oil makes its way from Iraq into Turkey? Hardly a coincidence.Make no mistake, both ends of NATO s military axle, the United States and Turkey, along with their Saudi-backed boots on the ground in ISIS and al Nusra   have each made critical strategic moves in unison, and with a specific military purpose each time, nudging towards securing territory. Once each key piece is finally in position, all that is required is a new  crisis , either in the region, or in Europe, or in America   to allow the Axis powers to move in quickly and take what is needed to implement the next phase of the game, whether that s creating a Kurdish canton, or a Sunni state-lette. Such moves will rarely be covered by the western international media.To be perfectly clear, the terms  Sunni  and  Shia  are the favored sectarian lexicon used by Nation Builders Inc and its international partners in Riyadh and Tel Aviv. My intention here is not to reduce the Muslim world down to this paradigm, but the architects of instability will use these terms, over and over   in their attempt to both marginalize and dehumanized Muslims for their own selfish ends.What s the  safe zone  for? As the US-led Coalition steps up its 18 month-long Punch  n Judy air operation to supplant ISIS from Raqqa, those western-backed jihadis will later require a safe corridor to flee but still remain connected to their Turkish supply lines. Washington s  safe zone  would also provide a much-needed safe haven for  rebels  who have been sent packing by the Syrian government from towns like Homs and others, as part of a painstaking disarming and reconciliation process between the Assad government and  opposition  rebels who are willing to participate in the program. Once the NATO-GCC Axis has established a mini protectorate inside of Syria, this will provide everything ISIS, al Nusra, Ahrar al-Sham, Turkmens et all will need; a secure launching pad for incursions further inside Syria   which will certainly guarantee a longer, protracted conflict in Syria   and beyond.This little Sunni wedge is also conveniently located next to a large rebel-terrorist contingent in Syria s northwestern Idlib governorate (province). Syria s border with Turkey has been porous from the beginning of the conflict, so the proposed  safe zone  will allow Turkey to maintain this status quo   where it has been continuously allowing the free-flow of weapons, rebels and terrorist fighters alike, along with oil, narcotics and human trafficking   to move freely through its southern border with Syria.If  regime  change  rhetoric is anything to go by, along with turning a blind eye to NATO member Turkey s role in facilitating supply lines and safe passage for al Qaeda and ISIS, then Washington s agenda is fairly transparent here. If they can establish a  internationally recognized  safe zone and a No-Fly Zone on top of it, central planners believe they will have the platform they need to eventually destroy Damascus, install their own western puppet, and then carve up Syria and northern Iraq accordingly. ISIS RAT-LINES: Black market oil has been a key component to carrying on both conflicts in Syria, and Iraq.For the architects of instability in Washington, one crucial benefit of carving out Sunni territory in both northern and eastern Syria is that available oil will help fund all of their paramilitary and terrorist needs   making it sustainable. To guarantee this uninterrupted income stream from black market oil which is presently making its way out of Syria and into Turkey and via Kurdistan, help is required from the Kurdish Regional Government (KRG) and other stakeholders, including the British-Turkish firm Genel Energy, just one firm who is providing the end-run to market for illicit ISIS oil. Ditto for a key mover and shaker in Raqqa s new Rockefeller class, Bilal Erdogan, the son of Turkish president, who according to numerous recent reports has already amassed a small fortune from the lucrative oil-for-terror trade.This is a problem, but one which Washington, London and Paris are not overly concerned with, much less upset about. Iraqi, Kurdish and Turkish opposition officials have accused Turkish governments and the KRG of deliberately allowing some of these smuggling operations to take place.Even as provisional state-lettes and cantons are conjured around it, there is no guarantee that Greater Kurdistan will ever see the light of day if Nation Builders Inc having anything to say bout it. The promise of Greater Kurdistan is as important to neocolonialists, than the reality of a Greater Kurdistan. Turkey also has its own interests and ambitions, and a Greater Kurdistan is not compatible with them. Iraq is not crazy about the idea either, because of obvious financial and energy resource reasons. So they remain in limb indefinitely, even as smaller quasi-Kurdish entities sprout up around the KRG. Turkey has its own ongoing  Kurdish problem  within Turkish borders, so Ankara will naturally view any expressions of Kurdish autonomy around it as a threat and potential inspiration for international Kurdish solidarity. Ruling over the Kurds means keeping them divided, and playing them off against their neighbors.There are those within the Turkish establishment who believe there are old scores still unsettled   in reclaiming Turk territory in both Syria and Iraq.SEE ALSO: SPECIAL REPORT: ISIS Oil? Follow the Money (Back to Europe)Here is where Sunnistan proper can emerge, coming into its own once set pieces are in place in Iraq and across Kurdistan, as Mike Whitney explained: So it looks like an agreement has been struck between Turkey, the KRG and the United States to seize parts of northern Iraq and eastern Syria to create a de facto Sunni state that will be jointly-controlled by Ankara and Washington.  It also looks like Obama has agreed to use dodgy jihadi-proxies (aka Terrorists) to work alongside US Special Forces to carry out future military operations.  So while the effort to remove Assad has been temporarily put on the backburner, the determination to destroy Syria is as strong as ever.  Another dismembered part of old Syria and Iraq which central planners are hoping to hack-off is an area called Rojava (see map above), or  Western Kurdistan . This region in northern Syria, formerly known as Syrian Kurdistan, gained its autonomy in November 2013 as part of the ongoing Rojava Revolution. The Kurdish defense forces here are known as the YPG (People s Defense Units) and are not on friendly footing with neighboring Turkey, for a number of reasons, not least of all because YPG defense forces present resistance to both al Nusra and ISIS encroachments into all three Rojava cantons. For Turkey, this is bad for business. How Rojava will factor into Washington s plans is not clear yet, but it occupies the most strategic squares on the chessboard.Make no mistake, the history s actors are all in for this plan. Do not be fooled by talk of  peace and stability  or humanitarian platitudes from western leaders, the UN, or the fair weather international community.Another indication that these plans have the full backing of the neoconservative illiterati, and Israel too, was PNAC walrus and former US Ambassador to the UN John Bolton s recent article in the establishment s daily journal of political posterity, the New York Times, where he states: Today s reality is that Iraq and Syria as we have known them are gone. The Islamic State has carved out a new entity from the post-Ottoman Empire settlement, mobilizing Sunni opposition to the regime of President Bashar al-Assad and the Iran-dominated government of Iraq. Also emerging, after years of effort, is a de facto independent Kurdistan. Central planners will happily frame this geopolitical scenario within the preferred theme of Sunni vs Shia  sectarian strife  in the region, which just happens to suit the interests and desires of both Saudi Arabia and Israel. Bolton confirms this: If, in this context, defeating the Islamic State means restoring to power Mr. Assad in Syria and Iran s puppets in Iraq, that outcome is neither feasible nor desirable. Rather than striving to recreate the post-World War I map, Washington should recognize the new geopolitics. The best alternative to the Islamic State in northeastern Syria and western Iraq is a new, independent Sunni state. Not so fast Mr. Ambassador. The Islamic State is the Sunni State.So for all intents and purposes, he s calling for the establishment of the Caliphate (funny how this goes right over the heads of  conservatives ). This is just one of many geostrategic moves which will guarantee instability and military conflict in the region for another 100 years, as well as provide a timely entr e through to Azerbaijan and into Iran, and later towards the Eurasian heartland of Dagestan (Russia s emerging energy center and geographic underbelly).In the meantime, expect to be pelted with endless propaganda about starving children in one town or another, changing week to week   with the usual slogans like,  we must act now! , and blaming Bashar al Assad for the suffering of his people. It s already wearing thin.Until the US and its NATO-GCC Axis stops flooding Syria and the region with weapons and terrorist fighters, and continues its policy of toppling secular nation-states   then any attempt at holding peace talks will end up back at square one, and stand as another exercise in futility.If the Syrian conflict has been good for one thing (and that s not to say it has), it s that the scripted western narrative, in all of its variations, has finally hit the wall of truth.***Author Patrick Henningsen is a writer, lecturer and global affairs analyst for international TV and radio. He is also the founder and co-editor of 21stCenturyWire.com.READ MORE SYRIA NEWS AT: 21st Century Wire Syria Files\n",
      "\n",
      "4 => How to Blow $700 Million: Al Jazeera America Finally Calls it Quits 21st Century Wire says Al Jazeera America will go down in history as one of the biggest failures in broadcast media history.Ever since the US and its allies began plotting to overthrow Libya and Syria, Al Jazeera has deteriorated from a promising international news network in 2003   into what it has become in 2016   a full-blown agit prop media shop for the US State Department and the Pentagon. In fact, US Military Central Command (CENTCOM) for the Middle East region is located in Qatar s capital of Doha, conveniently located just down the road from Al Jazeera s headquarters. Nice and cozy.Al Jazeera s role in promoting  regime change  and the destablization of Syria is now recorded history, as are its many shameful exhibitions of media fakery.The Qatari royals tried to expand propaganda operations into North America, but no matter how much money they threw at it (and those royals just love throwing money at things to try and get them to work), no one cared about it, much less watched it. I know this will be a massive disappointment for everyone here who has worked tirelessly for our long-term future. The decision that has been made is in no way because AJAM has done anything but a great job,  reads a company email from CEO Al Anstey, obtained by Politico.Indeed, they tried everything it seems, just short of paying Americans to watch their programs Al Jazeera America to close down https://t.co/EmFjBw9uC1 pic.twitter.com/HDea8ujTPt  Al Jazeera America (@ajam) January 13, 2016In 2012, the Qatari-owned Al Jazeera purchased Current TV from Al Gore for an inflated $500 million. Wait, it gets worse MONEY FOR NOTHING: Gore got fat off the AJAM deal.In addition to the $500 million which Doha blew on buying Gore s lemon, Current TV, the Qataris have spent at least $50 million per year between 2012   2015, along with many millions spent on advertising AJAM on other network slots, online ads, along with billboards and print media promotions. This was the Qataris   easy  ticket on to US cable and satellite networks. Boy, did Gore pull a fast one there.  In total, you would be looking at $700 million for the whole party. At its apex, AJAM would be lucky to pull in 30,000 viewers during prime time   which really amounts to a  nothing  market share.With all that money, and considering the hundreds of staff and  media executives  and producers they employed, it s safe to say that someone(s) did not have a clue what they were doing.What a colossal joke.On the bright side, the Qataris can always blame the collapse in oil prices for their lack of spare cash to fund their propaganda mills.READ MORE MAINSTREAM MEDIA EPIC FAILS AT: 21st Century Wire MSM Watch\n",
      "\n",
      "5 => 10 U.S. Navy Sailors Held by Iranian Military – Signs of a Neocon Political Stunt 21st Century Wire says As 21WIRE predicted in its new year s look ahead, we have a new  hostage  crisis underway.Today, Iranian military forces report that two small riverine U.S. Navy boats were seized in Iranian waters, and are currently being held on Iran s Farsi Island in the Persian Gulf. A total of 10 U.S. Navy personnel, nine men and one woman, have been detained by Iranian authorities. NAVY STRAYED: U.S. Navy patrol boat in the Persian Gulf (Image Source: USNI)According to the Pentagon, the initial narrative is as follows: The sailors were on a training mission around noon ET when their boat experienced mechanical difficulty and drifted into Iranian-claimed waters and were detained by the Iranian Coast Guard, officials added. The story has since been slightly revised by White House spokesman Josh Earnest to follow this narrative:The 2 boats were traveling en route from Kuwait to Bahrain, when they were stopped and detained by the Iranians.According to USNI, search and rescue teams from the Harry S. Truman Strike group were scrambled to aid the crew but stopped short after the crew was taken by the Iranians. We have been in contact with Iran and have received assurances that the crew and the vessels will be returned promptly,  Pentagon spokesman Peter Cook told AP. According to Persian Gulf TV: Farsi Island is one of the Iranian islands in the Persian Gulf, Bushehr province of Iran. There is an IRGC Navy base on this Island. The island has an area of about 0.25 km  and is completely restricted to public, due to top secret governmental activities. According to NBC News, U.S. State Department is in touch with Tehran officials and the Iranians recognize that the U.S. Navy straying off course was a mistake, and that the sailors will be released  within hours.  WAR INC: CNN s Wolf Blitzer wasted no time in ramping-up talk of military tension with Israeli-financed neocon Senator Tom Cotton.Neocon StuntAlready, the U.S. media, including CNN and FOX, are running with the talking point that,  this could not have come at a worse time for President Obama right before tonight s State Of Union speech, when he s trying to prove to the American people that Iran is a country that can be trusted to implement the historic nuclear deal. This latest Naval  controversy  also comes days before the implementation phase of the Iran Nuclear Deal. To say this is a coincidence might be naive.That said, could GOP and Israel-aligned members of the Pentagon or intelligence establishment have helped to engineer today s bizarre  mini-crisis  in order to help weaken U.S.-Iran relations, and by extension, Obama s controversial Iranian Nuclear Deal?This looks likely to be the case, as evidenced by the quick appearance of the Israel Lobby-sponsored, pro-war U.S. Senator Tom Cotton (R), placed by CNN to direct aggressive U.S. military talking points live on air as the story broke today. Cotton (photo, left) immediately called the event  hostile  and blamed Iran for the U.S. boat drifting into Iranian waters, and then blamed the  crisis  on President Obama, who he claims,  has emboldened the Iranian aggression. Cotton then goes on to tell a giant lie, on which his media handler, CNN s Wolf Blitzer, does not even blink, much less challenge Cotton s imaginary statement: The Iranians, who are largely responsible for killing our (American) soldiers in Iraq and Afghanistan. Cotton then went on to threaten Iran, saying that: These sailors and both vessels  need to be immediately released. If they are not released, then the Iran (nuclear) deal should not go forward, and military force will be on the table to retaliate for this act of aggression.  Cotton then proceeded to give a veiled (nuclear?) threat to Iran, saying that,  All (military) options should be on the table.  Would Washington s top operatives go so far as to engineer or exacerbate an international crisis such as this   by dispatching the boats off course, knowing full-well that Iran would not harm U.S. personnel, but using the incident to injure a lame duck? The answer is  yes , and they ve done it before In 1979, 52 American diplomats and citizens were held hostage for 444 days in what became known as the Iranian Hostage Crisis, which just happened to take place during a US presidential election cycle, with then president Jimmy Carter (D) running for reelection against challenger Ronald Reagan (R). The crisis, including a horrific failed rescue attempt, was used against Carter in the media. According to reports at the time Reagan campaign operatives had managed to do a backdoor deal with the elements of the new Iranian regime to  hold-off  releasing the hostages until after the election. In the end, Reagan won and took credit for that  victory .Not surprisingly, at the end of his prearranged CNN segment, Cotton invoked the  feckless foreign policy  of Jimmy Carter which  caused  the 1979 Iran Hostage Crisis, and compared that to President Obama s current policy.Of all the U.S. Officials CNN could have brought in on  short notice , they chose Senator Tom Cotton, the most hawkish and closest aligned to Israel. Clearly, this looks like a neocon stunt.Stay tuned for more updates.READ MORE IRAN NEWS AT: 21st Century Wire Iran Files\n",
      "\n",
      "6 => The White House and The Theatrics of ‘Gun Control’ 21st Century Wire says All the world s a stage, and all the men and women merely players: they have their exits and their entrances; and one man in his time plays many parts, his acts being seven ages.    William Shakespeare Theatrics in politics is nothing new, but this latest TV drama was just a little over-the-top, even for this entertainer-and-chief. HIGH DRAMA: Obama s epic tears during his gun control rally on Tuesday.During President Barack Obama s landmark New Year s TV address on  gun control  he grew visibly emotional when invoking  Newtown,  with bountiful tears arriving in good measure.While right-wing commentators were incensed, left-wing media pundits were understandably blown away by his performance, and commented on it like it was a performance. In media terms, it was a very weird moment, to say the least.Of course, no one would dare accuse the President of producing tears on demand, after all   that would be impossible to fake   unless of course you re an extremely talented and trained actor   and who would believe that our President would have received that sort of special coaching which is reserved for professional TV and film actors.The thought of it is simply preposterous, right? After all, this President is surely not an actor  Nonetheless, it was high drama for sure, but there was something about what seemed incredibly staged that morning in the White House s East Room. Anyone who watched it on TV could see how the crowd clapped on cue, and laughed on cue. It was almost like a Democratic Party pep rally   which is not what the East Room is for, but there you go.Watch the scene on Tuesday here: Still, after the usual vitriolic calls to  save lives , Obama called for  Smart Guns  with high-tech biometric, personalized triggers. This seemed to be a bizarre over-simplification, as he compared firearms to iPhones, as was his strange comparison of a bottle of aspirin with a gun. If a child can t open a bottle of aspirin, we should make sure they can t pull a trigger on a gun,  said Obama.Such dumbed-down rhetoric hardly inspires confidence in the President s grasp of the firearms issue and the 2nd Amendment.The only problem with the President s much anticipated Executive Action plan for gun control in America   is that it will not be effective. In fact, nothing he is proposing would have stopped any of the supposed gun deaths constantly being bandied about by the establishment s and media s macabre list of high-profile  mass shootings . So why do it then? Answer: this is an election year, and the Democratic Party is attempting to push the issue of  Guns in America  on to the list of institutionalized, classic American political wedge issues   along with the usual balloons like abortion, immigration and gay marriage.Aside from all this, the President s executive action  is illegal. In the US system of checks and balances, the President cannot write laws   only Congress can. You d think the President, who claims to have taught  constitutional law  at Harvard, would know about checks and balances.The only real tangible result of the Administration s rhetoric on  gun control  and the politicization of  mass shootings  is that gun sales in America are skyrocketing. Shares of gun manufacturers like Smith & Wesson and Sturm Ruger were up on Tuesday morning after Obama s speech.One could easily argue here   that this President has done more to help firearms sales and profits than any other person in history, more than Duck Dynasty, and even more than Charleton Heston.The White House s campaign has less to do with actually reducing gun crime, as it does increasing federal control over the lives of law-abiding Americans. Some critics believe that this new Executive Action on guns is part of a federal nudging strategy that s using federal  mental health  directives and changes in the state HIPAA laws   to deny certain persons, including US veterans, of their 2nd Amendment rights. Make no mistake about it, there is an overall strategy at play here, only it s not being revealed to the public.So, once again, it s all theatre.The government-media complex is going fult-tilt again. Later today, together with its media partner CNN, the White House is co-producing a  Town Hall  TV special live from Virginia, entitled,  GUNS IN AMERICA . The agenda for this program is self explanatory and will be hosted by CNN s top mocking jay, news actor and  former  CIA operative, Anderson Cooper, who a key operative in the mass media brainwashing that TV networks like CNN do on a daily basis   promoting fear at home, and selling illegal wars abroad. OPERATION MOCKINGBIRD: Political-media operative Anderson Cooper.No doubt this political campaign program will feature all of the usual suspects from America s highest rated, high-profile  mass shootings  events including Sandy Hook, Roanoke, Isla Vista, Aurora, Lafayette, and San Bernardino   to name only a few.In the days before the fall of Rome, as historians have often remarked, the  Crisis of the Republic  was not so much a crisis of the people of Rome, but rather, it was a Crisis of the Ruling Class, and of Rome s Elite Ruling Families. The Republic eventually lost its way and crumbled because of their misrule and institutional corruption. Like Shakespeare, they eventually lost the plot. In the end, of course, the Republic fell because as a system of government, it could not be separated from the individuals who wielded the most power within it. In 1995, Obama s Attorney General, then US Attorney for District of Columbia , Eric Holder, revealed the progressive agenda to subvert the Second Amendment and achieve gun control in America   an agenda which is actually being played out right before our eyes today: . Create Your Own Crisis Barack Obama s former chief of staff and top Democratic Party insider, Rahm Emanuel, coined the mantra for our new government by crisis, saying crassly,  You never let a serious crisis go to waste. And what I mean by that it s an opportunity to do things you think you could not do before.  Today, Thursday January 7th, is a very strange day, with a number of unsavory narratives aligned and assembled by the Mockingbird media. Aside from CNN s big budget political campaign stunt, there are a few other worrying events taking place today:Early this morning, CNN started running is programming for the  one year anniversary  of the infamous GLADIO-style, staged false flag Charlie Hebdo event in Paris. CNN also dispatched many of their top staff to Paris to remind us about the dangers of terrorism, and that we should remain afraid.Also happening today, members of the Bundy family, assorted Militia and public lands activists are presently holed-up at a federal wildlife refuge center outside of Burns, Oregon. There are many people in Washington and throughout the mainstream media establishment, who would like nothing more than to see government forces sweep in and  deal with those people . What that entails is anyone s guess.Certainly, some high-profile  mass shooting , or gun-related incident scheduled for today   would dovetail perfectly with CNN and the White House s joint media messaging and socio-political narrative being rolled out today. Let s hope that does not happen, not today, and not ever READ MORE GUN CONTROL NEWS AT: 21st Century Wire 2nd Amendment Files\n",
      "\n",
      "7 => Activists or Terrorists? How Media Controls and Dictates ‘The Narrative’ in Burns, Oregon   Randy Johnson 21st Century WireThe majority of mainstream media reporting surrounding the Burns, Oregon, and Wildlife Refuge occupy protest has ranged from overly simplistic, to outright partisan. This story is a microcosm of media at its most divisive. At its core, the narrative has become reduced to the government versus the militia or the government versus the people depending on one s vantage point. On average, the mainstream media s most neutral narrative is as follows: Father-son duo of the Hammond ranching family started fires, were found guilty, went to jail, and a bunch of  militant  and  anti-government  militia men don t like what the federal government are doing and used the event to take over a federal building in the Malhuer Wildlife refuge. Further to the left, the narrative looks more like: Armed Anti-government gang takes over federal building   Oregon community in crisis  (exact words from one mainstream media news anchor)For most of the American media, that s a good enough explanation. If it fits your political template, then that is all good. Case closed ? Arizona rancher LaVoy Finicum sits watch overnight with media looking on (Image Credit: Capital Blue/AP Photo/Rebecca Boone)News media have become brand shopping. Do you want quality, fun, style, and value? Are you loyal to the name? Pick your poison. Reporting a story often times becomes the selling of a larger agenda, each agenda point with its own out-of-the-box marketing campaign and the corresponding planning that goes with it.The entire development, for major news networks, is much easier to navigate and is less confusing than constantly revising varying degrees of moderation and extremism between allegiance-switching groups in the Middle East.For a  case closed  perspective of the events from the Department of Justice, District of Oregon, after court rulings on the Hammonds in October of 2015, read here and stop.The first line of defense is to know that these events rarely, if ever, spawn up overnight and happen in isolation. For a review and thorough sequence of events, detailing how the situation has escalated to what it is now, read the following from 21WIRE, here.So is the media reporting events or peddling agendas? If they do both, maybe no one can tell the difference.Things are not that easy and navigating through mainstream news media sludge takes work. Certainly, the White House s gun-control marketing campaign this week has cast a convenient shadow over events in Oregon, and in order to force-in outside and unrelated issues, the matter at hand must be reduced to a quick and easy account by the media.One could maintain that Oregon s Malhuer Wildlife Refuge, the Hammonds, and militias have all become components for a guided tour on how to think. The reason for this is because any number of agendas and unrelated topics have been heaped upon the issue ranging from the Presidential race posturing, race itself, Islam, terrorism, gun control, and a host of distractive latch-on issues.Simplify MattersThe contrasting sides are often set-up, or at least alluded to, immediately. This is what public relations operatives and political consultants refer to as  framing . There are plenty of them working in media now, so don t be surprised to see the exact same tactic deployed in politics as is commonplace in today s  media  industry.In today s media barrage, the title alone might suffice. A quick internet search of various article titles on the subject frame everything at a glance:FBI Monitoring Armed Stand Off in Oregon National Wildlife RefugeArmed Group Takes Over Federal Building Following Protest In OregonOregon Armed Protest Leader Says Group Will Defend Occupied BuildingThe narrative is further presented as two sides with contrasting positions. Choose your position, and make your case. Most Americans will have been pre-conditioned to know where they are supposed to stand, and will quickly align accordingly. The framing here is usually a binary dialectic, or two sides only, with no grey area or middle ground. A or B, Republican or Democrat, liberal or conservative, pro-government or anti-government, Jedi or Sith? We all know the drill. Here they are mainstream media style:The Hammonds: Victims of over-reach by a federal government, or rogue ranchers who are above the law with a fondness for starting fires?The Bundy s and outside militias: Lending a hand to fellow ranchers who are too over-matched to fight for themselves, or unwanted instigators on a personal anti-government crusade?The Bureau of Land Management: Caretakers and stewards of land and resources, or the very embodiment of big government imposing its will through a vantage point of official power and authority?Over-simplified, binary arguments almost never present real events. In reality, there are two or more sides to a story or event. This is what most media outlets do not want you to understand, and this is where the  art of the delivery  comes in, by steering the audience to the  right  choice.When reporting on the events in question in Oregon, the mainstream media imply, or outright allege, that protesters and the militia members who converged on the Malhuer Wildlife Refuge intend to draw first contact and start a shootout (as seen later in a CNN clip below). The analysis about a trigger-happy militia is pondered endlessly by mainstream news personalities, despite repeated statements to the contrary by organizers of the militias in question. This is followed by an endless string of pundits and experts expressing their righteous indignation that  the federal government can t let these militants get away with this! , and so on.Activists or Terrorists?Part of the process of  owning  the narrative and shaping public opinion is to define the problem and the people involved with quick and easily identifiable labels. Among other things, this allows the media to avoid doing any real investigation into the core issues, and simply surf the partisan waves.In Burns, Oregon, this never happened. Instead the media have labeled the Hammonds as  arsonists  and the Bundys as  terrorists .The mainstream media have worked diligently to characterize the protest s leader, Ammon Bundy (photo, left), son of now iconic Nevada rancher, Cliven Bundy, as an armed insurgent and a domestic terrorist. This is likely do to the fact that  journalists  are unfamiliar with the fact that Ammon Bundy has stepped into a political role as a public and state lands advocate since 2014   bringing attention to the thousands of ranchers and farmers in the southwestern states facing federal vs state land management issues, and has spoken publicly many times since the Bundy stand-off in 2014. Viewed through this prism, the Hammond protest and occupation of the Malhuer Wildlife Refuge is quite obviously a political event. But that s not how the media are treating this.Today saw one of the lowest points in partisan media. In one of the worst displays of mainstream gutter journalism, led by  Carli Brosseau from Oregon LIVE, who has attempted to senselessly slander the Bundys by digging through all the personal records and finances of the Bundy sons and other protesters, including their businesses loans, personal property records and even traffic violations   in a clear effort to try and slander them in public for matters not related at all to the public lands issue. If only the Oregon LIVE and CNN would apply that same level of effort to investigating the government s role in Hammond case, or for the thousands of other farmers who have been forcibly bankrupted and put out of business over the last two decades.What  guilt-by-association  words better fit today s on edge atmospherics than  terrorists and terrorism ? These are precisely the terms which media began saturating the internet with moments after this event hit the headlines. Various left-wing hashtag campaigns like #YallQaeda and #VanillaISIS were strewn all over Twitter and have been trending ever since. This has provided a soft cushion on which larger media  journalists  and organizations can comfortably bounce around pejorative terms without receiving too much criticism. Here s one choice example: See tweet here.Amazingly, even long-established news organizations, such as the Washington Post, have published articles which question why the militia are not called  terrorists , while Fox Radio ponders whether or not they are  patriots  or  terrorists .The drive for the pejorative label is in full effect. This comes as no surprise, as the mainstream media have been swimming in confusion the last few years, with ever-fluctuating moderation levels of jihadists based upon what group is being backed by the West or its allies at any given moment. However, calling an American citizen or group  terrorist  immediately defines where you stand with regards to protesters or members of the militia.CNN gets right after it, throws down the gauntlet, and calls the militias in question terrorists without hesitation. The video below is a typical example of agenda driven  news reporting  that brings in unrelated issues of race, the Muslim religion, and loosely slapping a terrorist label over what might best be described as breaking and entering. Through their presentation, the event itself slightly matters and the story becomes everything but the event. Instead of an analysis into how the situation evolved, time is spent on painting a good versus bad narrative, which is done simply by applying the terrorist label to the militias. Watch: In reality, the happy mediums between demands, law, authority, and obedience are more calculus, than single digit addition. In other words, it s complicated, and no one hates complications more than media and partisan politicians. Through polarizing the issue, drawing sides, and picking a righteous winner, CNN sides with its apparent partner in Washington and presents the story in such a manner. You can even hear the sadness in the voices as they discuss the possibility that the government might  wait out  the militia instead of coming in with aggressive force and establishing  who is boss.  It might behoove any good journalist or pundit to pause and ask: are the various militias in question really terrorists, and do their acts constitute terrorism?Here is the definition of  domestic terrorism  and the  federal crime of terrorism  as delineated by the Federal Bureau of Investigation (FBI):  Domestic terrorism  means activities with the following three characteristics:  Involve acts dangerous to human life that violate federal or state law;  Appear intended (i) to intimidate or coerce a civilian population; (ii) to influence the policy of a government by intimidation or coercion; or (iii) to affect the conduct of a government by mass destruction, assassination. or kidnapping; and  Occur primarily within the territorial jurisdiction of the U.S.18 U.S.C. Sec 2332b defines the term  federal crime of terrorism  as an offense that:  Is calculated to influence or affect the conduct of government by intimidation or coercion, or to retaliate against government conduct; and  Is a violation of one of several listed statutes, including Sec 930(c) (relating to killing or attempted killing during an attack on a federal facility with a dangerous weapon); and Sec 1114 (relating to killing or attempted killing of officers and employees of the U.S.).Granted, America seems to be expanding this definition every year, as evidenced by the above inclusion of  retaliate against government conduct  on the list. This seems to indicate that any protest can be characterized as  terrorism  should the government chose to press there. Those calling these militias  terrorists , seem to be taking only  (ii)  from the above definition of Domestic Terrorism and are  running with it. Again, the FBI states in their own words above that the three characteristics are required. Nowhere does the FBI say, one of the above is terrorism, or some of the above is terrorism. As champions of the law and enforcing it, and assuming  care was taken to review the definitions by many, one would believe that they meant what they wrote and wrote what they meant. The militia is a citizen s right clearly stated in the US Constitution, but perhaps breaking and entering or  unlawfully  occupying is not legal . but terrorism?What about committing the  federal crime of terrorism  from 18 U.S.C. (United States Code) Sec 2332b above? Clearly, the militias are there, openly, with guns and stating they will defend themselves if necessary. Or, are they simply there and carrying fire arms within the law (yes, it is legal to carry a gun in the US)? The definition might appear to be in the eye of the beholder, but from the government s perspective, the definition seems highly elastic.CNN and the Washington Post are telling you whom to side with through their narrative and  terrorist  labels for the militias in question.Depending on how one views the world with regards to the issue, along with their ability to process information presented to them, determines what side they are on, or if they are even on a side. Who has the bigger agenda and the bigger stake, the government, or the militias and ranchers? Is it really about Land Management and/or People Management, or are both inter-related?Let s start with the land itself. As noted in the Congressional Research Service s 2014 document Federal Land Ownership, the United States governs, oversees, owns, or otherwise has authority and jurisdiction over land primarily through the following 5 agencies:The Bureau of Land Management (BLM) The Forestry Service (FS) The Fish and Wild Life Service (FWS) The National Park Service (NPS) The Department of Defense (DoD)Here is what Oregon looked like with regard to the above agencies and some of their sub-departments in 1996, now twenty years ago: Oregon Public Lands 1996. (Image: Wiki Commons)The Federal Land Ownership document, cited above, also notes that the overall public land managed by the BLM has dropped nearly 25 million acres from 1990 to 2013. However, this comes mostly from almost 22 million acres within Alaska alone. Within Oregon, the state in question, the BLM alone has gained almost 550,000 acres to manage from the already color-dense map above, and is set to takeover another 2.5 million acres with the their proposed Owyhee Canyonlands  National Monument    an area larger than Yellowstone National Park   set to be shut-off to the state and placed under BLM control.Part of the larger Department of the Interior (DOI), the Bureau of Land Management s (BLM) Mission Statement is:  To sustain the health, diversity, and productivity of America s public lands for the use and enjoyment of present and future generations.  According to the BLM website, they oversee more than 245 million acres and over 700 million mineral and  sub surface  acres, with a multi-billion dollar budget and about 10,000 employees. The BLM also claims to be one of the few federal agencies that generate revenue, based largely on 4.3 billion dollars of onshore oil and gas development and numerous other  land deals  brokered by the BLM.Hundreds of millions of acres is vast. Most people probably see the need for a diligent and upstanding management of it, to include the natural resources and wildlife found on the land, as well as the resources beneath it. Understanding that a  free for all  of destroying resources combined with a full bore resource grab would be adverse, many would likely contribute to the oversight of it. Being entrusted with such a job could be seen as an honorable undertaking   by citizens  for citizens. But when does stewardship and land management turn into  territorial control  by Washington DC, which invariably leads to an institutional vendetta, or  sending a message , or becomes a means to define boundaries between authorities and their subjects? Undoubtedly, this is what seems to be happening all over the western states, and with small farms being victims, picked off, one by one by a superior force   the federal government.So the federal government in Washington DC is treating State public land as its  territory , when, according to the US Constitution, it is not.Watch as Oregon Congressman Greg Walden (R) delivers an incredibly detailed and impassioned speech on the Capitol floor yesterday, outlining the scale of this problem in his state: Many Constitutional purists and opponents of federal government  over reach  and abuse of power argue that the government doesn t really own the land. By both the letter, and spirit of the law, there is a real Constitutional case to be made there. Unfortunately, it all quickly turns into a debate on power, control, and authority between the federal government and the states, further complicated by who happens to be in positions of authority for each.They point to Article I, Section 8, of the United States Constitution which authorizes Congress to  exercise like Authority over all Places purchased by the Consent of the Legislature of the State in which the Same shall be, for the Erection of Forts, Magazines, Arsenals, dock-yards, and other needful Buildings,  and they throw out the very premise of government land ownership outside of those parameters. The larger issue, beyond the Hammond family in particular, is also centered around jurisdiction   literally. Jurisdiction over land and resources inevitably stem from arrangements involving ownership and control. Who is in charge of what, and to what degree? Whose goals are ultimately being achieved and who is affected are things all citizens would be wise to ask themselves.Are the Hammonds being crushed from above in accordance to what they did and were found guilty of and does the punishment fit?The Oregonian reports: There s nobody in history who has gone to federal prison for burning a few acres of public property,  said Melodi Molt, a Harney County rancher and former president of Oregon CattleWomen.  It s not right.  The Oregon Farm Bureau said the second prison term is  gross government overreach and the public should be outraged.  And then there is what some locals see as a government land grab. The Hammonds in late 2014 agreed to pay the federal government $400,000 to settle a lawsuit seeking to force them to pay more than a $1 million in costs for fighting fires they set. The Hammonds paid $200,000 right away and paid the rest Thursday.  The settlement also required the Hammonds to give the land bureau first chance at buying a particular ranch parcel adjacent to public land if they intended to sell. For some, this was evidence that the government all along was after the Hammond ground to add to its Steens Mountain holdings. The Oregonian continues, stating that the Hammonds originally served jail time starting in 2012 under the Antiterrorism and Effective Death Penalty Act of 1996 (AEDPA). The father, Dwight Hammond, aged 73, was sentenced to three months and the son, Steve, to one year. A possible 5 year sentence, according to U.S. District Judge Michael Hogan at the Hammonds  original 2012 sentencing, would be unconstitutional and  a sentence which would shock the conscience.  After serving their time, both father and son were dragged back in front of a federal bench and re-sentenced to a full 5 year term   in what many believe was just the latest chapter in a federal vendetta against the family, waged in part by then U.S Attorney for the State of Oregon, Amanda Marshall.A New Yorker article unabashedly calls the AEDPA law,   one of the worst statutes ever passed by Congress [headed by Bob Dole] and signed into law by a President [President Clinton]. The heart of the law is a provision saying that, even when a state court misapplies the Constitution, a defendant cannot necessarily have his day in federal court. So is this the new image of a terrorist breeding ground and rallying point?  (Image: Oregon Live/The Oregonian)  Wild Cards and Other SubterfugeTo be fair, not everyone is happy about the outsiders. Caught in the midst of it all are citizens such as a local resident, Candy Tiller, quoted by Oregon Public Broadcasting, saying,  I m worried that there s a trigger-happy idiot out there  And maybe a law enforcement officer or somebody else makes a move that makes him think they re pulling a gun and he s going to shoot  I don t want that. I don t want that for anybody  This is crazy. This does not fit. These people need to go away.  Locals will always feel the tension best, and no scenario would play to the establishment and mainstream media narrative better than an Waco-style gunfight and siege, also playing out on LIVE television. Based on the current situation report, the federal government would be the one escalating tension by pouring hundreds of assets into the small town and turning the area into a quasi-military occupation, as Washington clearly did with Bundy Ranch in 2014.Whether it s a Greenpeace protest, Occupy Wall Street, or Bundy Ranch, federal agencies have tried and tested methods besides overt force, in order to weaken and ultimately bring down any protest. The first method is disinformation   a  protest leak  about a  split  within the group, or  rumors  about a member of the group wanting to leave. This type of manuever might look something like this: See the tweet here.Next is the  Dirty Tricks  phase, where a third party leaks personal information of the protesters to the mainstream media, in order discredit the protesters and help to break up the group.The other method of disinformation is a  government insider leak  designed to scare off other activists from coming to the event, but also to jar those inside of the protest and their families and as loved ones look on. Whether it is true or not is beside the point. This type of sensational storyline is designed make its way on to the internet and quickly go viral, and might look something like this: FBI preparing for Waco-style raid in Oregon Similarly, during the Bundy Ranch standoff in 2014, a slightly more outlandish story was planted in the alternative media about Eric Holder authorizing a drone strike on Bundy Ranch. Not surprisingly, the story was complete fiction. As wildly unbelievable as that story was, it worked incredibly well for the federal government because the bulk of the militia camped out at the ranch, a group known as Oathkeepers, immediately became frightened, packed up and left.Oathkeepers appear to have released another similar  insider leak  story last week for the Oregon Standoff, about the Pentagon deploying  Delta Force  to take back the Wildlife Refuge, which can be found here.Another example could be found in a Tweet released at the height of the Bundy Ranch stand-off in 2014, claiming that the government had shut down cell phone towers in a  communications black-out  (presumably  preparing to attack ). Though this never actually happened, one could easily view this as an attempt to scare away members of the public from going to the ranch to support the cause:Bundy family reports cell towers near ranch have been shut down, preventing communication & video uploads. #BundyRanch  Paul Joseph Watson (@PrisonPlanet) April 11, 2014If the disinformation fails, the next level of federal subterfuge is usually to embed or  plant  a federal informant(s) or agent provocateur (s) inside of the protest. Typically, this is done very early on in the process, but also becomes much easier once more people pour into the area. With a  patriots unite  call to stand with the militias, as seen in the below video, it s almost impossible for organizers to ever know who could be on-site, or what off-centered  rebel  or individual would simply  just show up , either to make a name for themselves through media coverage, or even worse   by starting some serious trouble between activists or with law enforcement.In terms of discrediting the protest in the court of public opinion, the Hammond Protest could field no one better than tabloid media mascot, like Jon Ritzheimer of Anti-Islam protesting fame.  Ritzheimer quickly become the mainstream media s target of ridicule and used to discredit any of the other protesters. In addition to his armed march on American mosques, Ritzheimer also tried to grab headlines for traveling to Michigan to kidnap, or make a  citizens arrest  as Ritzheimer called it, of the elderly Senator Debbie Stabenow (D)   because she supported the international Iran Nuclear Deal.Here is Ritzheimer recording his own  martyrdom-style video  before heading into the protest: Whether this is by design, or not, the effect is undeniable. This exact scenario has already played out in Burns, Oregon with the mainstream media casting Ritzheimer in the role of flag-waving xenophobe and  militia nut-job , with the added knock-on effect of painting  constitutionalists  as mentally unstable,  militant extremists.  PHOTO: Professional media villain and provocateur Jon Ritzheimer.Another prominent militia personality at the Oregon protest is Blaine Cooper (also known as Stanley Blaine Hicks). Like Ritzheimer, he also acts as a media lightning rod   due to his similar performance in a YouTube video where he rubs bacon on a copy of the Koran before burning and shooting arrows in to it, before calling it,  the most evil, pathetic book on the face of the planet.  Unfortunately, these media distractions only divert the public from real issues being raised by the Hammonds and the Bundys and will ultimately be used to discredit their land rights cause.Once again, more  Patriot Games. As the event unfolds many scenarios could happen. The worst outcome of events in Oregon would be that the Hammond family issue loses the spotlight, and the public lands issue becomes obscured by a media desperate for a anti-gun narrative and obsessed with the ridiculous antics of synthetic YouTube actors attached to event.Only the craziest of megalomaniac government officials, robotic plants, or glory-seeking wackos would really want this to escalate, led by a depraved sensationalized media, and with a public glued to the screen  Farenheit 451 style  with a bag of Cheetos.READ MORE HAMMOND RANCH NEWS AT: 21st Century Wire Hammond Ranch\n",
      "\n",
      "8 => BOILER ROOM – No Surrender, No Retreat, Heads Will Roll  – EP #38 Tune in to the Alternate Current Radio Network (ACR) for another LIVE broadcast of  The Boiler Room  starting at 6 PM PST | 9 PM EST every Wednesday. Join us for uncensored, uninterruptible talk radio, custom-made for barfly philosophers, misguided moralists, masochists, street corner evangelists, media-maniacs, savants, political animals and otherwise lovable rascals.Join ACR hosts Hesher, & Spore along with Andy Nowicki from Alt Right Blogspot, ACR/21Wire contributor Randy J and Daniel Spaulding from souloftheeast.org. In this first broadcast of 2016 we re going off the rails and off the cuffs, listeners will be hearing us go around the BOILER ROOM on a myriad of topics including the Protest happening in Oregon over the Hammond Ranch incident and the federal abuse of small ranchers and farmers, the usual off-ramp into pop-culture topics, Obama s newest anti-gun executive order and more. If you want to participate, bring something interesting to throw into the boiler Join us in the ALTERNATE CURRENT RADIO chat room.BOILER ROOM IS NOT A POLICTALLY CORRECT ZONE!   Live ACR player below   Show goes live at 6 PM PSTThis week s topics: \n",
      "\n",
      "9 => Federal Showdown Looms in Oregon After BLM Abuse of Local Ranching Family – Bundys Lead Protest 21st Century Wire says A new front has just opened up in the long battle between America s small farmers and the US federal government. DOUBLE JEOPARDY: Ranching family members Dwight Hammond (left) and his son Steven Hammond were sentenced twice for the same crime by federal officials.Late last week, approximately 150 people marched to the Harney County, Oregon, Sheriffs office in a peaceful protest of the unlawful jailing of two Oregon ranchers, father, Dwight Hammond, 73, and son, Steven Hammond, 46, over accusations of arson for carrying out prescribed burnings on their family-owned cattle ranch in 2001 and 2006. The family and their supporters accuse the federal Bureau of Land Management (BLM) of carrying out a decades-long pattern of abuse and persecution against the Hammonds in a coordinated effort to drive them out of the family ranching business.The scene in Burns, Oregon, Saturday morning as protestors gather in support of 2 ranchers going to prison. pic.twitter.com/ec6tmdeTik  Les Zaitz (@LesZaitz) January 2, 2016After a protest convened, a large group of supporters, including members of the Bundy family from Bunkerville, Nevada, left the public gathering and headed 50 miles outside of Burns, Oregon, (Burns is  located approximately 4 hours southeast of Portland), to the Malheur Wildlife Refuge Center, run by the BLM. The protesters have stated that their plan is to occupy the federal facility.Malheur National Wildlife building.Because of the venue s remote location, only a few journalists were able to report on the story over the weekend, but that was set to change on today, with dozens of new national media outlets arriving and setting up camp this morning. Law enforcement has already issued warnings for people to stay away, and the Sheriff s office has also informed media to expect  multiple agencies  (state and federal law enforcement) to be there on Monday morning.Below is a video statement (recorded on Jan 1st) from the protest s spokesman, Ammon Bundy, making an impassioned appeal for public support in a campaign for justice and redress of grievances for the Hammond family and also for additional support to help occupy the Malheur National Wildlife Refuge facility. Since the call went out through social media, a number of supporters and militia members from around the country have started to arrive on-site, with many more expected to arrive in the coming days and weeks.Watch: A video update from protesters and militia members as they arrive on location at the Malheur National Wildlife Refuge site:  The United States Justice Department has NO jurisdiction or authority within the State of Oregon, County of Harney over this type of ranch management. These lands are not under U.S. treaties or commerce, they are not article 4 territories, and Congress does not have unlimited power. These lands have been admitted into statehood and are part of the great State of Oregon and the citizens of Harney County enjoy the fullness of the protections of the U.S. Constitution. The U.S. Constitution limits United States government.  (see the full letter here) As expected, the media coverage on this story has been extremely partisan, with many left-leaning outlets like CNN already characterizing this story as a  Militia Takeover of Federal Building  by a  anti-government gang with guns , without giving any real background commentary to the protracted legal controversy that had preceded events this week. One local affiliate KOIN6, even used the term  militants  in the headline to describe protesters on site. The following report from Conservative Treehouse, tells an incredible story of corruption and abuse of power by the federal government, its agents and courts, in what can only be described as a federal vendetta against the local family. Here s the Hammond Ranch case timeline The short summary is:  in an effort to draw attention to a ridiculous arrest of a father and son pair of Oregon Ranchers ( Dwight Lincoln Hammond, Jr., 73, and his son, Steven Dwight Hammond, 46,) who are scheduled to begin five year prison sentences (turning themselves in tomorrow January 4th 2016), three brothers from the Cliven Bundy family and approximately 100/150 (and growing) heavily armed militia (former U.S. service members) have taken control of Malheur Wildlife Refuge Headquarters in the wildlife reserve.  They are prepared to stay there indefinitely.Here s the long version: including history, details, links video(s) and explanations: PHOTO: The Hammond FamilyHISTORY: (aa) The Harney Basin (where the Hammond ranch is established) was settled in the 1870 s. The valley was settled by multiple ranchers and was known to have run over 300,000 head of cattle. These ranchers developed a state of the art irrigated system to water the meadows, and it soon became a favorite stopping place for migrating birds on their annual trek north.(ab) In 1908 President Theodore Roosevelt, in a political scheme, create an  Indian reservation  around the Malheur, Mud & Harney Lakes and declared it  as a preserve and breeding ground for native birds . Later this  Indian reservation  (without Indians) became the Malheur National Wildlife Refuge.(a) In 1964 the Hammonds purchased their ranch in the Harney Basin. The purchase included approximately 6000 acres of private property, 4 grazing rights on public land, a small ranch house and 3 water rights. The ranch is around 53 miles South of Burns, Oregon.(a1) By the 1970 s nearly all the ranches adjacent to the Blitzen Valley were purchased by the US Fish and Wildlife Service (FWS) and added to the Malheur National Wildlife Refuge. The refuge covers over 187,000 acres and stretches over 45 miles long and 37 miles wide. The expansion of the refuge grew and surrounds the Hammond s ranch. Being approached many times by the FWS, the Hammonds refused to sell. Other ranchers also choose not to sell.(a2) During the 1970 s the Fish and Wildlife Service (FWS), in conjunction with the Bureau of Land Management (BLM), took a different approach to get the ranchers to sell. Ranchers were told that,  grazing was detrimental to wildlife and must be reduced . 32 out of 53 permits were revoked and many ranchers were forced to leave. Grazing fees were raised significantly for those who were allowed to remain. Refuge personnel took over the irrigation system claiming it as their own.(a3) By 1980 a conflict was well on its way over water allocations on the adjacent privately owned Silvies Plain. The FWS wanted to acquire the ranch lands on the Silvies Plain to add to their already vast holdings. Refuge personnel intentionally diverted the water to bypass the vast meadowlands, directing the water into the rising Malheur Lakes. Within a few short years the surface area of the lakes doubled. Thirty-one ranches on the Silvies plains were flooded. Homes, corrals, barns and graze-land were washed away and destroyed. The ranchers that once fought to keep the FWS from taking their land, now broke and destroyed, begged the FWS to acquire their useless ranches. In 1989 the waters began to recede and the once thriving privately owned Silvies pains became a proud part of the Malheur National Wildlife Refuge claimed by the FWS.(a4) By the 1990 s the Hammonds were one of the very few ranchers that still owned private property adjacent to the refuge. Susie Hammond in an effort to make sense of what was going on began compiling fact about the refuge. In a hidden public record she found a study that was done by the FWS in 1975. The study showed that the  no use  policies of the FWS on the refuge were causing the wildlife to leave the refuge and move to private property. The study showed that the private property adjacent to the Malheur Wildlife Refuge produced 4 times more ducks and geese than the refuge did. It also showed that the migrating birds were 13 times more likely to land on private property than on the refuge. When Susie brought this to the attention of the FWS and refuge personnel, she and her family became the subjects of a long train of abuses and corruptions.(b) In the early 1990 s the Hammonds filed on a livestock water source and obtained a deed for the water right from the State of Oregon. When the Bureau of Land Management (BLM) and US Fish and Wildlife Service (FWS) found out that the Hammonds obtained new water rights near the Malhuer Wildlife Refuge, they were agitated and became belligerent and vindictive towards the Hammonds. The US Fish and Wildlife Service challenged the Hammonds right to the water in an Oregon State Circuit Court. The court found that the Hammonds legally obtained rights to the water in accordance to State law and therefore the use of the water belongs to the Hammonds.*(c) In August 1994 the BLM & FWS illegally began building a fence around the Hammonds water source. Owning the water rights and knowing that their cattle relied on that water source daily, the Hammonds tried to stop the building of the fence. The BLM & FWS called the Harney County Sheriff department and had Dwight Hammond (Father) arrested and charged with  disturbing and interfering with  federal officials or federal contractors (two counts, each a felony). He spent one night in the Deschutes County Jail in Bend, and a second night behind bars in Portland before he was hauled before a federal magistrate and released without bail. A hearing on the charges was postponed and the federal judge never set another date.(d) The FWS also began restricting access to upper pieces of the Hammond s private property. In order to get to the upper part of the Hammond s ranch they had to go on a road that went through the Malhuer Wildlife Refuge. The FWS began barricading the road and threatening the Hammonds if they drove through it. The Hammonds removed the barricades and gates and continued to use their right of access. The road was proven later to be owned by the County of Harney. This further enraged the BLM & FWS.(e) Shortly after the road & water disputes, the BLM & FWS arbitrarily revoked the Hammond s upper grazing permit without any given cause, court proceeding or court ruling. As a traditional  fence out state , Oregon requires no obligation on the part of an owner to keep his or her livestock within a fence or to maintain control over the movement of the livestock. The Hammonds intended to still use their private property for grazing. However, they were informed that a federal judge ruled, in a federal court, that the federal government did not have to observe the Oregon fence out law.  Those laws are for the people, not for them .(f) The Hammonds were forced to either build and maintain miles of fences or be restricted from the use of their private property. Cutting their ranch almost in half, they could not afford to fence the land, so the cattle were removed.(g) The Hammonds experienced many years of financial hardship due to the ranch being diminished. The Hammonds had to sell their ranch and home in order to purchase another property that had enough grass to feed their cattle. This property included two grazing rights on public land. Those were also arbitrarily revoked later.(h) The owner of the Hammond s original ranch passed away from a heart attack and the Hammonds made a trade for the ranch back.(i) In the early fall of 2001, Steven Hammond (son) called the fire department, informing them that he was going to be performing a routine prescribed burn on their ranch. Later that day he started a prescribed fire on their private property. The fire spread to public land and burned 127 acres of grass. The Hammonds put the fire out themselves. There was no communication about the burn from the federal government to the Hammonds at that time. Prescribed fires are a common method that Native Americans and ranchers have used in the area to increase the health & productivity of the land for many centuries.(j) In 2006 a massive lightning storm started multiple fires that joined together inflaming the countryside. To prevent the fire from destroying their winter range and possibly their home, Steven Hammond (son) started a backfire on their private property. The backfire was successful in putting out the lightning fires that had covered thousands of acres within a short period of time. The backfire saved much of the range and vegetation needed to feed the cattle through the winter. Steven s mother, Susan Hammond said:  The backfire worked perfectly, it put out the fire, saved the range and possibly our home .(j1) The next day federal agents went to the Harney County Sheriff s office and filled a police report making accusing Dwight and Steven Hammond of starting the backfire. A few days after the backfire a Range-Con from the Burns District BLM office asked Steven if he would meet him in town (Frenchglen) for coffee. Steven accepted. When leaving he was arrested by Harney County Sheriff Dave Glerup and BLM Ranger Orr. the Sheriff  then ordered him to go to the ranch and bring back his father. Both Dwight and Steven were booked on multiple Oregon State charges. The Harney County District Attorney reviewed the accusation, evidence and charges, and determined that the accusations against Dwight & Steven Hammond did not warrant prosecution and dropped all the charges.(k) In 2011, 5 years after the police report was taken, the U.S. Attorney s Office accused Dwight and Steven Hammond of completely different charges, they accused them of being  Terrorist  under the Federal Antiterrorism Effective Death Penalty Act of 1996. This act carries a minimum sentence of five years in prison and a maximum sentence of death. Dwight & Steven s mug shots were all over the news the next week posing them as  Arsonists . Susan Hammond (Wife & Mother) said:  I would walk down the street or go in a store, people I had known for years would take extreme measures to avoid me .(l) Shortly after the sentencing, Capital Press ran a story about the Hammonds. A person who identified as Greg Allum posted three comments on the article, calling the ranchers  clowns  who endangered firefighters and other people in the area while burning valuable rangeland. Greg Allum, a retired BLM heavy equipment operator, soon called Capital Press to complain that he had not made those comments and request that they be taken down from the website. Capital Press removed the comments. A search of the Internet Protocol address associated with the comments revealed it is owned by the BLM s office in Denver, Colorado. Allum said, he is friends with the Hammonds and was alerted to the comments by neighbors who knew he wouldn t have written them.  I feel bad for them. They lost a lot and they re going to lose more,  Allum said of the ranchers.  They re not terrorists. There s this hatred in the BLM for them, and I don t get it,  The retired BLM employee said. Jody Weil, deputy state director for communications at BLM s Oregon office, indicated to reporters that if one of their agents falsified the comments, they would keep it private and not inform the public.(m) In September 2006, Dwight & Susan Hammond s home was raided. The agents informed the Hammonds that they were looking for evidence that would connect them to the fires. The Hammonds later found out that a boot print and a tire tracks were found near one of the many fires. No matching boots or tires were found in the Hammonds home or on their property. Susan Hammond (Wife) later said;   I have never felt so violated in my life. We are ranchers not criminals . Steven Hammond openly maintains his testimony that he started the backfire to save the winter grass from being destroyed and that the backfire ended up working so well it put out the fire entirely altogether.(n) During the trial proceedings, Federal Court Judge Michael Hogan did not allow time for certain testimonies and evidence into the trail that would have exonerated the Hammonds. Federal prosecuting attorney, Frank Papagni, was given full access for 6 days. He had ample time to use any evidence or testimony that strengthened the demonization of the Hammonds. The Hammonds attorney was only allowed 1 day. Much of the facts about the fires, land and why the Hammonds acted the way they did was not allowed into the proceedings and was not heard by the jury. For example, Judge Hogan did not allow time for the jury to hear or review certified scientific findings that the fires improved the health and productivity of the land. Or, that the Hammonds had been subject to vindictive behavior by multiple federal agencies for years.(o) Federal attorney, Frank Papagni, hunted down a witness that was not mentally capable of being a credible witness. Dusty Hammond (grandson and nephew) testified that Steven told him to start a fire. He was 13 at the time and 24 when he testified (11 years later). At 24 Dusty had been suffering with mental problems for many years. He had estranged his family including his mother. Judge Hogan noted that Dusty s memories as a 13-year-old boy were not clear or credible. He allowed the prosecution to continually use Dusty s testimony anyway. When speaking to the Hammonds about this testimony, they understood that Dusty was manipulated and expressed nothing but love for their troubled grandson.(p) Judge Michael Hogan & Frank Papagni tampered with the jury many times throughout the proceedings, including during the selection process. Hogan & Papagni only allowed people on the jury who did not understand the customs and culture of the ranchers or how the land is used and cared for in the Diamond Valley. All of the jurors had to drive back and forth to Pendleton everyday. Some drove more than two hours each way. By day 8 they were exhausted and expressed desires to be home.On the final day, Judge Hogan kept pushing them to make a verdict. Several times during deliberation, Judge Hogan pushed them to make a decision. Judge Hogan also would not allow the jury to hear what punishment could be imposed upon an individual that has convicted as a terrorist under the 1996 act. The jury, not understanding the customs and cultures of the area, influenced by the prosecutors for 6 straight days, very exhausted, pushed for a verdict by the judge, unaware of the ramification of convicting someone as a terrorist, made a verdict and went home.(q) June 22, 2012, Dwight and Steven were found guilty of starting both the 2001 and the 2006 fires by the jury. However, the federal courts convicted them both as  Terrorist  under the 1996 Antiterrorism Act. Judge Hogan sentenced Dwight (Father) to 3 months in prison and Steven (son) to 12 months in federal prison. They were also stipulated to pay $400,000 to the BLM. Hogan overruling the minimum terrorist sentence, commenting that if the full five years were required it would be a violation of the 8th amendment (cruel and unusual punishment). The day of the sentencing Judge Hogan retired as a federal judge. In his honor the staff served chocolate cake in the courtroom.(r) On January 4, 2013, Dwight and Steven reported to prison. They fulfilled their sentences, (Dwight 3 months, Steven 12 months). Dwight was released in March 2013 and Steven, January 2014.(s) Sometime in June 2014, Rhonda Karges, Field Manager for the BLM, and her husband Chad Karges, Refuge Manager for the Malheur Wildlife Refuge (which surrounds the Hammond ranch), along with attorney Frank Papagni exemplifying further vindictive behavior filed an appeal with the 9th District Federal Court seeking Dwight s and Steven s return to federal prison for the entire 5 years.*(t) In October 2015, the 9th District Court  resentenced  Dwight and Steven, requiring them to return to prison for several more years. Steven (46) has a wife and 3 children. Dwight (74) will leave Susan (74) to be alone after 55 years of marriage. If he survives, he will be 79 when he is released.(u) During the court preceding the Hammonds were forced to grant the BLM first right of refusal. If the Hammonds ever sold their ranch they would have to sell it to the BLM.(v) Dwight and Steven are ordered to report to federal prison again on January 4th, 2016 to begin their re-sentencing. Both their wives will have to manage the ranch for several years without them.To date they have paid $200,000 to the BLM, and the remainder $200,000 must be paid before the end of this year (2015). If the Hammonds cannot pay the fines to the BLM, they will be forced to sell the ranch to the BLM or face further prosecution. (more citations here) See updates at Conservative TreehouseHere is another video update from Ammon Bundy: SUPPORT 21WIRE  SUBSCRIBE & BECOME A MEMBER @ 21WIRE.TV\n",
      "\n",
      "10 => A Troubled King: Chicago’s Rahm Emanuel Desperate to Save His 2020 Presidential Run 21st Century Wire says It s not that far away. Guess who wants to run for president in 2020?Just before the New Year bell rung, the embattled Chicago Mayor Rahm Israel Emanuel (D) was forced to cut short his family vacation in Cuba, and headed back to the windy city after yet another embarrassing police shooting last week which claimed two lives as police responding to a  domestic disturbance  call killed  19-year-old Quintonio LeGrier, an engineering student at Northern Illinois University, and bystander 55-year-old Betti Jones, a grandmother.Last week, 100 people, family and activists, held a vigil for the victims. The Mayor has attempted a sort of mea culpa this time, but the public is not buying it, mainly because this was the second major high-profile police shooting incident to rock city hall in the last month. TROUBLE IN HIS KEEP: The LaQuan McDonald shooting has rattled the  dynasty potential  of Chicago s Rahm Emanuel.Currently serving his second term in office, the 56-year-old mayor is going from one crisis to the next, as tensions continue to simmer after the initial controversy, the killing of 17-year-old Laquan McDonald who was shot 16 times by city police on camera   which prompted angry mobs demanding  The King  step down.There could be a political price to pay for all of this. Not only are #BlackLivesMatter on the rampage over these latest shooting events, but also LeGrier s mother, Janet Cooksey, appeared on national TV last Sunday at a news conference, wearing a T-shirt emblazoned with the face of Mayor Emanuel with the words  Rahm Failed Us. Throughout the debacle, Emmanuel has not given in to the public pressure, even though his approval rating has plummeted 20% since hostilities began. On top of this, Chicago has earned the reputation of  murder capital of America , despite the mayor s staunch liberal policy of  gun-free zones  across the city which some critics credit towards creating a criminal s paradise. The Mayor is already on shaky ground. Only last winter, Emanuel narrowly survived a close run-off election to keep his job in office.All of this has the potential to cast a shadow over Emanuel s political future, which is likely to include a Democratic Party presidential run in 2020. It s reported that Emanuel already has a substantial campaign war chest ready to go, billions of dollars in fact, thanks to some very wealthy backers. If Emanuel does go ahead with the 2020 plan, the driving force behind his campaign will be his Hollywood mogul brother, Ari Emanuel, who will spare no expense in terms of PR, marketing and advertising for his brother s political drive to the White House. Part of the newly found Emanuel family fortune derives from their early investment in the virtual taxi service sensation, Uber, with the Emanuel investment estimated to be valued over $1 billion alone. This is not without controversy however, as it was Mayor Rahm Emanuel s deregulation of Chicago s taxi industry that helped Uber shares to skyrocket in value. Critics are saying that there was a conflict of interest there, but in today s seedy political environment of insider trading and open criminality, it might be hard for any politician to pull rank over that issue. Add to this the potential hundreds of millions more in donations that Emanuel will receive from Jewish property tycoon Sheldon Adelson, and also from Jewish billionaire and Emanuel s fellow anti-gun advocate, Michael Bloomberg   and all in the interests of serving Israel, and you can see how Emanuel could be viewed as a 2020 Democratic front-runner already.The Mayor emerged on to the DC sewer scene as part of the Clinton-Obama Chicago political machine. He s been described by AFP s Victor Thorn as,  More sinister than Karl Rove and potentially deadlier than Dick  Darth Vader  Cheney . Back when Emanuel was Barack Obama s chief of staff in 2008, many commentators remarked on his psychopathic behavior, including his frightening Machiavellian exhibition in a White House meeting where he said the administration s political enemies need to,  Die, die, die! , as he stabbed the table in anger, reportedly using either a pen, or letter opener (regardless, that s a bit scary). Enough to scare the American people considering this is a man who most likely has his eyes on the White House. DUAL LOYALTIES: Rahm Emanuel might have a hard to time putting US interests ahead of Netanyahu s.The other strange bone of contention about Emanuel as a candidate is that he is reportedly a dual citizen (although its believed he gave up his Israeli citizenship at 19 years old) who shares a national identity between the United States and Israel, and actual served in the IDF briefly after college. According to Mondoweiss,  Emanuel left when the Gulf War broke out, in order to volunteer in the IDF. He served in one of Israel s northern bases until the war ended, and upon his return to the US became Clinton s advisor in the White House for almost eight years. Emanuel can often be seen in the presence of Israel leader and Zionist extremist, Bibi Netanyahu, which raises the real prospect of Tel Aviv finally having its very own US president embedded in the White House.The fundamental question here is: when it comes down to the crunch, which country s interest would Emanuel be more loyal towards, the US, or Israel. Contrary to popular Republican belief sets, you cannot wear allegiance to both, because no matter how hard the Israel Lobby tries to portray it   both countries have very radically different national and social interests.If this issue sinks any further down the cesspit of public outrage, expect Emanuel s Hollywood PR machine to go into overdrive.READ MORE ISRAEL NEWS AT: 21st Century Wire Israel Files\n",
      "\n"
     ]
    }
   ],
   "source": [
    "#Getting last 10 records from the dataset\n",
    "print_dataset(Combined_Dataset,10,\"title_text\", tail=True)"
   ]
  },
  {
   "cell_type": "markdown",
   "metadata": {},
   "source": [
    "<p style=color:#38629C><b style=color:#467200 >3. Removing Unwanted text :</b> I have noted that there is unwanted text in the articles such as HTTP links (e.g. https://t.co/EmFjBw9uC1) to external sources like twitter or link to pics posted in social media e.g (pic.twitter.com/HDea8ujTPt). These should be removed to clean the text. </p>"
   ]
  },
  {
   "cell_type": "code",
   "execution_count": 76,
   "metadata": {},
   "outputs": [],
   "source": [
    "def remove_unwanted_text(text):\n",
    "    text = re.sub(r'http\\S+', '', text) # remove http links\n",
    "    text = re.sub(r\"\\bpic\\.[^\\s]+\\b\", \"\", text) # remove pics links\n",
    "    text = re.sub(r\"\\bvid\\.[^\\s]+\\b\", \"\", text) # remove vids links\n",
    "    text = re.sub(r\"\\b\\d+(\\.\\d+)?\\b\", \"\", text) # remove numbers\n",
    "    text = re.sub(r'@[A-Za-z0-9]+', ' ', text) # remove @mentions - It is commonly used\n",
    "    text = re.sub(r'\\$\\w*', '', text) # remove $ symbols\n",
    "    text = re.sub(r'\\#\\w+', ' ', text) # remove hashtags - These are provided for twitter\n",
    "    text = re.sub(r'_', ' ', text) # remove Underscore\n",
    "    text = re.sub(r\"\\.+\", \"\", text) # Removing full stops (. or .. or ..+)\n",
    "    #Returning clean text\n",
    "    return text\n"
   ]
  },
  {
   "cell_type": "code",
   "execution_count": 77,
   "metadata": {},
   "outputs": [
    {
     "data": {
      "text/plain": [
       "\"Good muffins``cost \\nin '%%!the New York     Please buy me\\n two 's of them having green apple colour stock \\n\\n\\nThanks   :)   ,   {}\""
      ]
     },
     "execution_count": 77,
     "metadata": {},
     "output_type": "execute_result"
    }
   ],
   "source": [
    "#Testing the unwanted text removal function\n",
    "sentance = '''Good muffins``cost $3.88\\nin '%%!the New York. #DraftReport #FinalProject Please buy me\n",
    "... two 's of them having green apple colour stock. pic.twitter.com/HDea8ujTPt\\n\\n\n",
    "Thanks. @UOL :) $127.2 _, https://london.ac.uk/ https://t.co/EmFjBw9uC1 {}''' \n",
    "sentance = remove_unwanted_text(sentance)\n",
    "sentance"
   ]
  },
  {
   "cell_type": "code",
   "execution_count": 78,
   "metadata": {},
   "outputs": [],
   "source": [
    "#Applying the unwanted text removal function to FakeNewsNet_ISOT_Combined\n",
    "Combined_Dataset['title_text'] = Combined_Dataset['title_text'].apply(remove_unwanted_text)"
   ]
  },
  {
   "cell_type": "markdown",
   "metadata": {},
   "source": [
    "<p style=color:#38629C><b style=color:#467200>4. Removing Stopwords, Punctuations and Emojies :</b> It is quite common in the news articles to have stopwords, emojies or punctuations. Therefore, this step will involve removing all such things from the dataset to make it more focused and readable for the machine.</p>"
   ]
  },
  {
   "cell_type": "code",
   "execution_count": 79,
   "metadata": {},
   "outputs": [],
   "source": [
    "emojis = set([\n",
    "':-)', ':)', ';)', ':o)', ':]', ':3', ':c)', ':>', '=]', '8)', '=)', ':}', ':^)', \n",
    "':-D', ':D', '8-D', '8D', 'x-D', 'xD', 'X-D', 'XD', '=-D', '=D', '=-3', '=3', ':-))', \n",
    "\":'-)\", \":')\", ':*', ':^*', '>:P', ':-P', ':P', 'X-P', 'x-p', 'xp', 'XP', ':-p', ':p', \n",
    "'=p', ':-b', ':b', '>:)', '>;)', '>:-)', '<3'':L', ':-/', '>:/', ':S', '>:[', \n",
    "':@', ':-(', ':[', ':-||', '=L', ':<', ':-[', ':-<', '=\\\\', '=/', '>:(', ':(', '>.<', \":'-(\", \n",
    "\":'(\", ':\\\\', ':-c', ':c', ':{', '>:\\\\', ';('\n",
    "])"
   ]
  },
  {
   "cell_type": "code",
   "execution_count": 80,
   "metadata": {},
   "outputs": [],
   "source": [
    "#There are multiple libraries to perform this task such as Spacy, NLTK, SKlearn etc.\n",
    "#I have used NLTK library because the results are almost close to the Spacy.\n",
    "stop_words = (stopwords.words('english'))\n",
    "punctuation = '''!\"#$%&\\'()*+,-./:;<=>?@[\\\\]^_`{|}~'s“``–‘’0123456789''' #Used to remove punctuations.\n",
    "def remove_stopwords_punch(text):\n",
    "    # Word tokenization for the text parsed into the function\n",
    "    word_tokens = word_tokenize(text)\n",
    "    #Check for the stop_words and removing from the text\n",
    "    filtered_stop_words = [w for w in word_tokens if not w.lower() in stop_words] #Checking for the punctuation and removing from the text\n",
    "    filtered_punch_words = [w for w in filtered_stop_words if not w in punctuation] #Checking for the emojis and removing from the text\n",
    "    filtered_emoj_words = [w for w in filtered_punch_words if not w in punctuation] #Joining the words again for input to dataframe column\n",
    "    return(' '.join(filtered_emoj_words))"
   ]
  },
  {
   "cell_type": "code",
   "execution_count": 81,
   "metadata": {},
   "outputs": [
    {
     "data": {
      "text/plain": [
       "'Good muffins cost New York Please buy two green apple colour stock Thanks'"
      ]
     },
     "execution_count": 81,
     "metadata": {},
     "output_type": "execute_result"
    }
   ],
   "source": [
    "#Testing the stop word and punctuation removal function\n",
    "remove_stopwords_punch(sentance)"
   ]
  },
  {
   "cell_type": "code",
   "execution_count": 82,
   "metadata": {},
   "outputs": [],
   "source": [
    "#Applying the stop word and punctuation removal function to Combined dataset\n",
    "Combined_Dataset['title_text'] = Combined_Dataset['title_text'].apply(remove_stopwords_punch)"
   ]
  },
  {
   "cell_type": "code",
   "execution_count": 83,
   "metadata": {},
   "outputs": [
    {
     "name": "stdout",
     "output_type": "stream",
     "text": [
      "1 => White House Theatrics Gun Control 21st Century Wire says world stage men women merely players exits entrances one man time plays many parts acts seven ages William Shakespeare Theatrics politics nothing new latest TV drama little over-the-top even entertainer-and-chief HIGH DRAMA Obama epic tears gun control rally TuesdayDuring President Barack Obama landmark New Year TV address gun control grew visibly emotional invoking Newtown bountiful tears arriving good measureWhile right-wing commentators incensed left-wing media pundits understandably blown away performance commented like performance media terms weird moment say leastOf course one would dare accuse President producing tears demand would impossible fake unless course extremely talented trained actor would believe President would received sort special coaching reserved professional TV film actorsThe thought simply preposterous right President surely actor Nonetheless high drama sure something seemed incredibly staged morning White House East Room Anyone watched TV could see crowd clapped cue laughed cue almost like Democratic Party pep rally East Room goWatch scene Tuesday Still usual vitriolic calls save lives Obama called Smart Guns high-tech biometric personalized triggers seemed bizarre over-simplification compared firearms iPhones strange comparison bottle aspirin gun child open bottle aspirin make sure pull trigger gun said ObamaSuch dumbed-down rhetoric hardly inspires confidence President grasp firearms issue 2nd AmendmentThe problem President much anticipated Executive Action plan gun control America effective fact nothing proposing would stopped supposed gun deaths constantly bandied establishment media macabre list high-profile mass shootings Answer election year Democratic Party attempting push issue Guns America list institutionalized classic American political wedge issues along usual balloons like abortion immigration gay marriageAside President executive action illegal US system checks balances President write laws Congress think President claims taught constitutional law Harvard would know checks balancesThe real tangible result Administration rhetoric gun control politicization mass shootings gun sales America skyrocketing Shares gun manufacturers like Smith Wesson Sturm Ruger Tuesday morning Obama speechOne could easily argue President done help firearms sales profits person history Duck Dynasty even Charleton HestonThe White House campaign less actually reducing gun crime increasing federal control lives law-abiding Americans critics believe new Executive Action guns part federal nudging strategy using federal mental health directives changes state HIPAA laws deny certain persons including US veterans 2nd Amendment rights Make mistake overall strategy play revealed publicSo theatreThe government-media complex going fult-tilt Later today together media partner CNN White House co-producing Town Hall TV special live Virginia entitled GUNS AMERICA agenda program self explanatory hosted CNN top mocking jay news actor former CIA operative Anderson Cooper key operative mass media brainwashing TV networks like CNN daily basis promoting fear home selling illegal wars abroad OPERATION MOCKINGBIRD Political-media operative Anderson CooperNo doubt political campaign program feature usual suspects America highest rated high-profile mass shootings events including Sandy Hook Roanoke Isla Vista Aurora Lafayette San Bernardino name fewIn days fall Rome historians often remarked Crisis Republic much crisis people Rome rather Crisis Ruling Class Rome Elite Ruling Families Republic eventually lost way crumbled misrule institutional corruption Like Shakespeare eventually lost plot end course Republic fell system government could separated individuals wielded power within Obama Attorney General US Attorney District Columbia Eric Holder revealed progressive agenda subvert Second Amendment achieve gun control America agenda actually played right eyes today Create Crisis Barack Obama former chief staff top Democratic Party insider Rahm Emanuel coined mantra new government crisis saying crassly never let serious crisis go waste mean opportunity things think could Today Thursday January 7th strange day number unsavory narratives aligned assembled Mockingbird media Aside CNN big budget political campaign stunt worrying events taking place today Early morning CNN started running programming one year anniversary infamous GLADIO-style staged false flag Charlie Hebdo event Paris CNN also dispatched many top staff Paris remind us dangers terrorism remain afraidAlso happening today members Bundy family assorted Militia public lands activists presently holed-up federal wildlife refuge center outside Burns Oregon many people Washington throughout mainstream media establishment would like nothing see government forces sweep deal people entails anyone guessCertainly high-profile mass shooting gun-related incident scheduled today would dovetail perfectly CNN White House joint media messaging socio-political narrative rolled today Let hope happen today ever READ GUN CONTROL NEWS 21st Century Wire 2nd Amendment Files\n",
      "\n",
      "2 => Activists Terrorists Media Controls Dictates Narrative Burns Oregon Randy Johnson 21st Century WireThe majority mainstream media reporting surrounding Burns Oregon Wildlife Refuge occupy protest ranged overly simplistic outright partisan story microcosm media divisive core narrative become reduced government versus militia government versus people depending one vantage point average mainstream media neutral narrative follows Father-son duo Hammond ranching family started fires found guilty went jail bunch militant anti-government militia men like federal government used event take federal building Malhuer Wildlife refuge left narrative looks like Armed Anti-government gang takes federal building Oregon community crisis exact words one mainstream media news anchor American media good enough explanation fits political template good Case closed Arizona rancher LaVoy Finicum sits watch overnight media looking Image Credit Capital Blue/AP Photo/Rebecca Boone News media become brand shopping want quality fun style value loyal name Pick poison Reporting story often times becomes selling larger agenda agenda point out-of-the-box marketing campaign corresponding planning goes itThe entire development major news networks much easier navigate less confusing constantly revising varying degrees moderation extremism allegiance-switching groups Middle EastFor case closed perspective events Department Justice District Oregon court rulings Hammonds October read stopThe first line defense know events rarely ever spawn overnight happen isolation review thorough sequence events detailing situation escalated read following 21WIRE hereSo media reporting events peddling agendas maybe one tell differenceThings easy navigating mainstream news media sludge takes work Certainly White House gun-control marketing campaign week cast convenient shadow events Oregon order force-in outside unrelated issues matter hand must reduced quick easy account mediaOne could maintain Oregon Malhuer Wildlife Refuge Hammonds militias become components guided tour think reason number agendas unrelated topics heaped upon issue ranging Presidential race posturing race Islam terrorism gun control host distractive latch-on issuesSimplify MattersThe contrasting sides often set-up least alluded immediately public relations operatives political consultants refer framing plenty working media surprised see exact tactic deployed politics commonplace today media industryIn today media barrage title alone might suffice quick internet search various article titles subject frame everything glance FBI Monitoring Armed Stand Oregon National Wildlife RefugeArmed Group Takes Federal Building Following Protest OregonOregon Armed Protest Leader Says Group Defend Occupied BuildingThe narrative presented two sides contrasting positions Choose position make case Americans pre-conditioned know supposed stand quickly align accordingly framing usually binary dialectic two sides grey area middle ground B Republican Democrat liberal conservative pro-government anti-government Jedi Sith know drill mainstream media style Hammonds Victims over-reach federal government rogue ranchers law fondness starting fires Bundy outside militias Lending hand fellow ranchers over-matched fight unwanted instigators personal anti-government crusade Bureau Land Management Caretakers stewards land resources embodiment big government imposing vantage point official power authority Over-simplified binary arguments almost never present real events reality two sides story event media outlets want understand art delivery comes steering audience right choiceWhen reporting events question Oregon mainstream media imply outright allege protesters militia members converged Malhuer Wildlife Refuge intend draw first contact start shootout seen later CNN clip analysis trigger-happy militia pondered endlessly mainstream news personalities despite repeated statements contrary organizers militias question followed endless string pundits experts expressing righteous indignation federal government let militants get away onActivists Terrorists Part process owning narrative shaping public opinion define problem people involved quick easily identifiable labels Among things allows media avoid real investigation core issues simply surf partisan wavesIn Burns Oregon never happened Instead media labeled Hammonds arsonists Bundys terrorists mainstream media worked diligently characterize protest leader Ammon Bundy photo left son iconic Nevada rancher Cliven Bundy armed insurgent domestic terrorist likely fact journalists unfamiliar fact Ammon Bundy stepped political role public state lands advocate since bringing attention thousands ranchers farmers southwestern states facing federal vs state land management issues spoken publicly many times since Bundy stand-off Viewed prism Hammond protest occupation Malhuer Wildlife Refuge quite obviously political event media treating thisToday saw one lowest points partisan media one worst displays mainstream gutter journalism led Carli Brosseau Oregon LIVE attempted senselessly slander Bundys digging personal records finances Bundy sons protesters including businesses loans personal property records even traffic violations clear effort try slander public matters related public lands issue Oregon LIVE CNN would apply level effort investigating government role Hammond case thousands farmers forcibly bankrupted put business last two decadesWhat guilt-by-association words better fit today edge atmospherics terrorists terrorism precisely terms media began saturating internet moments event hit headlines Various left-wing hashtag campaigns like strewn Twitter trending ever since provided soft cushion larger media journalists organizations comfortably bounce around pejorative terms without receiving much criticism one choice example See tweet hereAmazingly even long-established news organizations Washington Post published articles question militia called terrorists Fox Radio ponders whether patriots terrorists drive pejorative label full effect comes surprise mainstream media swimming confusion last years ever-fluctuating moderation levels jihadists based upon group backed West allies given moment However calling American citizen group terrorist immediately defines stand regards protesters members militiaCNN gets right throws gauntlet calls militias question terrorists without hesitation video typical example agenda driven news reporting brings unrelated issues race Muslim religion loosely slapping terrorist label might best described breaking entering presentation event slightly matters story becomes everything event Instead analysis situation evolved time spent painting good versus bad narrative done simply applying terrorist label militias Watch reality happy mediums demands law authority obedience calculus single digit addition words complicated one hates complications media partisan politicians polarizing issue drawing sides picking righteous winner CNN sides apparent partner Washington presents story manner even hear sadness voices discuss possibility government might wait militia instead coming aggressive force establishing boss might behoove good journalist pundit pause ask various militias question really terrorists acts constitute terrorism definition domestic terrorism federal crime terrorism delineated Federal Bureau Investigation FBI Domestic terrorism means activities following three characteristics Involve acts dangerous human life violate federal state law Appear intended intimidate coerce civilian population ii influence policy government intimidation coercion iii affect conduct government mass destruction assassination kidnapping Occur primarily within territorial jurisdiction US USC Sec 2332b defines term federal crime terrorism offense calculated influence affect conduct government intimidation coercion retaliate government conduct violation one several listed statutes including Sec c relating killing attempted killing attack federal facility dangerous weapon Sec relating killing attempted killing officers employees US Granted America seems expanding definition every year evidenced inclusion retaliate government conduct list seems indicate protest characterized terrorism government chose press calling militias terrorists seem taking ii definition Domestic Terrorism running FBI states words three characteristics required Nowhere FBI say one terrorism terrorism champions law enforcing assuming care taken review definitions many one would believe meant wrote wrote meant militia citizen right clearly stated US Constitution perhaps breaking entering unlawfully occupying legal terrorism committing federal crime terrorism USC United States Code Sec 2332b Clearly militias openly guns stating defend necessary simply carrying fire arms within law yes legal carry gun US definition might appear eye beholder government perspective definition seems highly elasticCNN Washington Post telling side narrative terrorist labels militias questionDepending one views world regards issue along ability process information presented determines side even side bigger agenda bigger stake government militias ranchers really Land Management and/or People Management inter-related Let start land noted Congressional Research Service document Federal Land Ownership United States governs oversees owns otherwise authority jurisdiction land primarily following agencies Bureau Land Management BLM Forestry Service FS Fish Wild Life Service FWS National Park Service NPS Department Defense DoD Oregon looked like regard agencies sub-departments twenty years ago Oregon Public Lands Image Wiki Commons Federal Land Ownership document cited also notes overall public land managed BLM dropped nearly million acres However comes mostly almost million acres within Alaska alone Within Oregon state question BLM alone gained almost acres manage already color-dense map set takeover another million acres proposed Owyhee Canyonlands National Monument area larger Yellowstone National Park set shut-off state placed BLM controlPart larger Department Interior DOI Bureau Land Management BLM Mission Statement sustain health diversity productivity America public lands use enjoyment present future generations According BLM website oversee million acres million mineral sub surface acres multi-billion dollar budget employees BLM also claims one federal agencies generate revenue based largely billion dollars onshore oil gas development numerous land deals brokered BLMHundreds millions acres vast people probably see need diligent upstanding management include natural resources wildlife found land well resources beneath Understanding free destroying resources combined full bore resource grab would adverse many would likely contribute oversight entrusted job could seen honorable undertaking citizens citizens stewardship land management turn territorial control Washington DC invariably leads institutional vendetta sending message becomes means define boundaries authorities subjects Undoubtedly seems happening western states small farms victims picked one one superior force federal governmentSo federal government Washington DC treating State public land territory according US Constitution notWatch Oregon Congressman Greg Walden R delivers incredibly detailed impassioned speech Capitol floor yesterday outlining scale problem state Many Constitutional purists opponents federal government reach abuse power argue government really land letter spirit law real Constitutional case made Unfortunately quickly turns debate power control authority federal government states complicated happens positions authority eachThey point Article Section United States Constitution authorizes Congress exercise like Authority Places purchased Consent Legislature State shall Erection Forts Magazines Arsenals dock-yards needful Buildings throw premise government land ownership outside parameters larger issue beyond Hammond family particular also centered around jurisdiction literally Jurisdiction land resources inevitably stem arrangements involving ownership control charge degree Whose goals ultimately achieved affected things citizens would wise ask themselvesAre Hammonds crushed accordance found guilty punishment fit Oregonian reports nobody history gone federal prison burning acres public property said Melodi Molt Harney County rancher former president Oregon CattleWomen right Oregon Farm Bureau said second prison term gross government overreach public outraged locals see government land grab Hammonds late agreed pay federal government settle lawsuit seeking force pay million costs fighting fires set Hammonds paid right away paid rest Thursday settlement also required Hammonds give land bureau first chance buying particular ranch parcel adjacent public land intended sell evidence government along Hammond ground add Steens Mountain holdings Oregonian continues stating Hammonds originally served jail time starting Antiterrorism Effective Death Penalty Act AEDPA father Dwight Hammond aged sentenced three months son Steve one year possible year sentence according US District Judge Michael Hogan Hammonds original sentencing would unconstitutional sentence would shock conscience serving time father son dragged back front federal bench re-sentenced full year term many believe latest chapter federal vendetta family waged part US Attorney State Oregon Amanda MarshallA New Yorker article unabashedly calls AEDPA law one worst statutes ever passed Congress headed Bob Dole signed law President President Clinton heart law provision saying even state court misapplies Constitution defendant necessarily day federal court new image terrorist breeding ground rallying point Image Oregon Live/The Oregonian Wild Cards SubterfugeTo fair everyone happy outsiders Caught midst citizens local resident Candy Tiller quoted Oregon Public Broadcasting saying worried trigger-happy idiot maybe law enforcement officer somebody else makes move makes think pulling gun going shoot want want anybody crazy fit people need go away Locals always feel tension best scenario would play establishment mainstream media narrative better Waco-style gunfight siege also playing LIVE television Based current situation report federal government would one escalating tension pouring hundreds assets small town turning area quasi-military occupation Washington clearly Bundy Ranch Whether Greenpeace protest Occupy Wall Street Bundy Ranch federal agencies tried tested methods besides overt force order weaken ultimately bring protest first method disinformation protest leak split within group rumors member group wanting leave type manuever might look something like See tweet hereNext Dirty Tricks phase third party leaks personal information protesters mainstream media order discredit protesters help break groupThe method disinformation government insider leak designed scare activists coming event also jar inside protest families loved ones look Whether true beside point type sensational storyline designed make way internet quickly go viral might look something like FBI preparing Waco-style raid Oregon Similarly Bundy Ranch standoff slightly outlandish story planted alternative media Eric Holder authorizing drone strike Bundy Ranch surprisingly story complete fiction wildly unbelievable story worked incredibly well federal government bulk militia camped ranch group known Oathkeepers immediately became frightened packed leftOathkeepers appear released another similar insider leak story last week Oregon Standoff Pentagon deploying Delta Force take back Wildlife Refuge found hereAnother example could found Tweet released height Bundy Ranch stand-off claiming government shut cell phone towers communications black-out presumably preparing attack Though never actually happened one could easily view attempt scare away members public going ranch support cause Bundy family reports cell towers near ranch shut preventing communication video uploads Paul Joseph Watson April 2014If disinformation fails next level federal subterfuge usually embed plant federal informant agent provocateur inside protest Typically done early process also becomes much easier people pour area patriots unite call stand militias seen video almost impossible organizers ever know could on-site off-centered rebel individual would simply show either make name media coverage even worse starting serious trouble activists law enforcementIn terms discrediting protest court public opinion Hammond Protest could field one better tabloid media mascot like Jon Ritzheimer Anti-Islam protesting fame Ritzheimer quickly become mainstream media target ridicule used discredit protesters addition armed march American mosques Ritzheimer also tried grab headlines traveling Michigan kidnap make citizens arrest Ritzheimer called elderly Senator Debbie Stabenow supported international Iran Nuclear DealHere Ritzheimer recording martyrdom-style video heading protest Whether design effect undeniable exact scenario already played Burns Oregon mainstream media casting Ritzheimer role flag-waving xenophobe militia nut-job added knock-on effect painting constitutionalists mentally unstable militant extremists PHOTO Professional media villain provocateur Jon RitzheimerAnother prominent militia personality Oregon protest Blaine Cooper also known Stanley Blaine Hicks Like Ritzheimer also acts media lightning rod due similar performance YouTube video rubs bacon copy Koran burning shooting arrows calling evil pathetic book face planet Unfortunately media distractions divert public real issues raised Hammonds Bundys ultimately used discredit land rights causeOnce Patriot Games event unfolds many scenarios could happen worst outcome events Oregon would Hammond family issue loses spotlight public lands issue becomes obscured media desperate anti-gun narrative obsessed ridiculous antics synthetic YouTube actors attached eventOnly craziest megalomaniac government officials robotic plants glory-seeking wackos would really want escalate led depraved sensationalized media public glued screen Farenheit style bag CheetosREAD HAMMOND RANCH NEWS 21st Century Wire Hammond Ranch\n",
      "\n",
      "3 => BOILER ROOM Surrender Retreat Heads Roll EP Tune Alternate Current Radio Network ACR another LIVE broadcast Boiler Room starting PM PST PM EST every Wednesday Join us uncensored uninterruptible talk radio custom-made barfly philosophers misguided moralists masochists street corner evangelists media-maniacs savants political animals otherwise lovable rascalsJoin ACR hosts Hesher Spore along Andy Nowicki Alt Right Blogspot ACR/21Wire contributor Randy J Daniel Spaulding souloftheeastorg first broadcast going rails cuffs listeners hearing us go around BOILER ROOM myriad topics including Protest happening Oregon Hammond Ranch incident federal abuse small ranchers farmers usual off-ramp pop-culture topics Obama newest anti-gun executive order want participate bring something interesting throw boiler Join us ALTERNATE CURRENT RADIO chat roomBOILER ROOM POLICTALLY CORRECT ZONE Live ACR player Show goes live PM PSTThis week topics\n",
      "\n",
      "4 => Federal Showdown Looms Oregon BLM Abuse Local Ranching Family Bundys Lead Protest 21st Century Wire says new front opened long battle America small farmers US federal government DOUBLE JEOPARDY Ranching family members Dwight Hammond left son Steven Hammond sentenced twice crime federal officialsLate last week approximately people marched Harney County Oregon Sheriffs office peaceful protest unlawful jailing two Oregon ranchers father Dwight Hammond son Steven Hammond accusations arson carrying prescribed burnings family-owned cattle ranch family supporters accuse federal Bureau Land Management BLM carrying decades-long pattern abuse persecution Hammonds coordinated effort drive family ranching businessThe scene Burns Oregon Saturday morning protestors gather support ranchers going prison Les Zaitz January 2016After protest convened large group supporters including members Bundy family Bunkerville Nevada left public gathering headed miles outside Burns Oregon Burns located approximately hours southeast Portland Malheur Wildlife Refuge Center run BLM protesters stated plan occupy federal facilityMalheur National Wildlife buildingBecause venue remote location journalists able report story weekend set change today dozens new national media outlets arriving setting camp morning Law enforcement already issued warnings people stay away Sheriff office also informed media expect multiple agencies state federal law enforcement Monday morningBelow video statement recorded Jan 1st protest spokesman Ammon Bundy making impassioned appeal public support campaign justice redress grievances Hammond family also additional support help occupy Malheur National Wildlife Refuge facility Since call went social media number supporters militia members around country started arrive on-site many expected arrive coming days weeksWatch video update protesters militia members arrive location Malheur National Wildlife Refuge site United States Justice Department jurisdiction authority within State Oregon County Harney type ranch management lands US treaties commerce article territories Congress unlimited power lands admitted statehood part great State Oregon citizens Harney County enjoy fullness protections US Constitution US Constitution limits United States government see full letter expected media coverage story extremely partisan many left-leaning outlets like CNN already characterizing story Militia Takeover Federal Building anti-government gang guns without giving real background commentary protracted legal controversy preceded events week One local affiliate KOIN6 even used term militants headline describe protesters site following report Conservative Treehouse tells incredible story corruption abuse power federal government agents courts described federal vendetta local family Hammond Ranch case timeline short summary effort draw attention ridiculous arrest father son pair Oregon Ranchers Dwight Lincoln Hammond Jr son Steven Dwight Hammond scheduled begin five year prison sentences turning tomorrow January 4th three brothers Cliven Bundy family approximately growing heavily armed militia former US service members taken control Malheur Wildlife Refuge Headquarters wildlife reserve prepared stay indefinitelyHere long version including history details links video explanations PHOTO Hammond FamilyHISTORY aa Harney Basin Hammond ranch established settled valley settled multiple ranchers known run head cattle ranchers developed state art irrigated system water meadows soon became favorite stopping place migrating birds annual trek north ab President Theodore Roosevelt political scheme create Indian reservation around Malheur Mud Harney Lakes declared preserve breeding ground native birds Later Indian reservation without Indians became Malheur National Wildlife Refuge Hammonds purchased ranch Harney Basin purchase included approximately acres private property grazing rights public land small ranch house water rights ranch around miles South Burns Oregon a1 nearly ranches adjacent Blitzen Valley purchased US Fish Wildlife Service FWS added Malheur National Wildlife Refuge refuge covers acres stretches miles long miles wide expansion refuge grew surrounds Hammond ranch approached many times FWS Hammonds refused sell ranchers also choose sell a2 Fish Wildlife Service FWS conjunction Bureau Land Management BLM took different approach get ranchers sell Ranchers told grazing detrimental wildlife must reduced permits revoked many ranchers forced leave Grazing fees raised significantly allowed remain Refuge personnel took irrigation system claiming a3 conflict well way water allocations adjacent privately owned Silvies Plain FWS wanted acquire ranch lands Silvies Plain add already vast holdings Refuge personnel intentionally diverted water bypass vast meadowlands directing water rising Malheur Lakes Within short years surface area lakes doubled Thirty-one ranches Silvies plains flooded Homes corrals barns graze-land washed away destroyed ranchers fought keep FWS taking land broke destroyed begged FWS acquire useless ranches waters began recede thriving privately owned Silvies pains became proud part Malheur National Wildlife Refuge claimed FWS a4 Hammonds one ranchers still owned private property adjacent refuge Susie Hammond effort make sense going began compiling fact refuge hidden public record found study done FWS study showed use policies FWS refuge causing wildlife leave refuge move private property study showed private property adjacent Malheur Wildlife Refuge produced times ducks geese refuge also showed migrating birds times likely land private property refuge Susie brought attention FWS refuge personnel family became subjects long train abuses corruptions b early Hammonds filed livestock water source obtained deed water right State Oregon Bureau Land Management BLM US Fish Wildlife Service FWS found Hammonds obtained new water rights near Malhuer Wildlife Refuge agitated became belligerent vindictive towards Hammonds US Fish Wildlife Service challenged Hammonds right water Oregon State Circuit Court court found Hammonds legally obtained rights water accordance State law therefore use water belongs Hammonds c August BLM FWS illegally began building fence around Hammonds water source Owning water rights knowing cattle relied water source daily Hammonds tried stop building fence BLM FWS called Harney County Sheriff department Dwight Hammond Father arrested charged disturbing interfering federal officials federal contractors two counts felony spent one night Deschutes County Jail Bend second night behind bars Portland hauled federal magistrate released without bail hearing charges postponed federal judge never set another date FWS also began restricting access upper pieces Hammond private property order get upper part Hammond ranch go road went Malhuer Wildlife Refuge FWS began barricading road threatening Hammonds drove Hammonds removed barricades gates continued use right access road proven later owned County Harney enraged BLM FWS e Shortly road water disputes BLM FWS arbitrarily revoked Hammond upper grazing permit without given cause court proceeding court ruling traditional fence state Oregon requires obligation part owner keep livestock within fence maintain control movement livestock Hammonds intended still use private property grazing However informed federal judge ruled federal court federal government observe Oregon fence law laws people f Hammonds forced either build maintain miles fences restricted use private property Cutting ranch almost half could afford fence land cattle removed g Hammonds experienced many years financial hardship due ranch diminished Hammonds sell ranch home order purchase another property enough grass feed cattle property included two grazing rights public land also arbitrarily revoked later h owner Hammond original ranch passed away heart attack Hammonds made trade ranch back early fall Steven Hammond son called fire department informing going performing routine prescribed burn ranch Later day started prescribed fire private property fire spread public land burned acres grass Hammonds put fire communication burn federal government Hammonds time Prescribed fires common method Native Americans ranchers used area increase health productivity land many centuries j massive lightning storm started multiple fires joined together inflaming countryside prevent fire destroying winter range possibly home Steven Hammond son started backfire private property backfire successful putting lightning fires covered thousands acres within short period time backfire saved much range vegetation needed feed cattle winter Steven mother Susan Hammond said backfire worked perfectly put fire saved range possibly home j1 next day federal agents went Harney County Sheriff office filled police report making accusing Dwight Steven Hammond starting backfire days backfire Range-Con Burns District BLM office asked Steven would meet town Frenchglen coffee Steven accepted leaving arrested Harney County Sheriff Dave Glerup BLM Ranger Orr Sheriff ordered go ranch bring back father Dwight Steven booked multiple Oregon State charges Harney County District Attorney reviewed accusation evidence charges determined accusations Dwight Steven Hammond warrant prosecution dropped charges k years police report taken US Attorney Office accused Dwight Steven Hammond completely different charges accused Terrorist Federal Antiterrorism Effective Death Penalty Act act carries minimum sentence five years prison maximum sentence death Dwight Steven mug shots news next week posing Arsonists Susan Hammond Wife Mother said would walk street go store people known years would take extreme measures avoid l Shortly sentencing Capital Press ran story Hammonds person identified Greg Allum posted three comments article calling ranchers clowns endangered firefighters people area burning valuable rangeland Greg Allum retired BLM heavy equipment operator soon called Capital Press complain made comments request taken website Capital Press removed comments search Internet Protocol address associated comments revealed owned BLM office Denver Colorado Allum said friends Hammonds alerted comments neighbors knew written feel bad lost lot going lose Allum said ranchers terrorists hatred BLM get retired BLM employee said Jody Weil deputy state director communications BLM Oregon office indicated reporters one agents falsified comments would keep private inform public September Dwight Susan Hammond home raided agents informed Hammonds looking evidence would connect fires Hammonds later found boot print tire tracks found near one many fires matching boots tires found Hammonds home property Susan Hammond Wife later said never felt violated life ranchers criminals Steven Hammond openly maintains testimony started backfire save winter grass destroyed backfire ended working well put fire entirely altogether n trial proceedings Federal Court Judge Michael Hogan allow time certain testimonies evidence trail would exonerated Hammonds Federal prosecuting attorney Frank Papagni given full access days ample time use evidence testimony strengthened demonization Hammonds Hammonds attorney allowed day Much facts fires land Hammonds acted way allowed proceedings heard jury example Judge Hogan allow time jury hear review certified scientific findings fires improved health productivity land Hammonds subject vindictive behavior multiple federal agencies years Federal attorney Frank Papagni hunted witness mentally capable credible witness Dusty Hammond grandson nephew testified Steven told start fire time testified years later Dusty suffering mental problems many years estranged family including mother Judge Hogan noted Dusty memories -year-old boy clear credible allowed prosecution continually use Dusty testimony anyway speaking Hammonds testimony understood Dusty manipulated expressed nothing love troubled grandson p Judge Michael Hogan Frank Papagni tampered jury many times throughout proceedings including selection process Hogan Papagni allowed people jury understand customs culture ranchers land used cared Diamond Valley jurors drive back forth Pendleton everyday drove two hours way day exhausted expressed desires homeOn final day Judge Hogan kept pushing make verdict Several times deliberation Judge Hogan pushed make decision Judge Hogan also would allow jury hear punishment could imposed upon individual convicted terrorist act jury understanding customs cultures area influenced prosecutors straight days exhausted pushed verdict judge unaware ramification convicting someone terrorist made verdict went home q June Dwight Steven found guilty starting fires jury However federal courts convicted Terrorist Antiterrorism Act Judge Hogan sentenced Dwight Father months prison Steven son months federal prison also stipulated pay BLM Hogan overruling minimum terrorist sentence commenting full five years required would violation 8th amendment cruel unusual punishment day sentencing Judge Hogan retired federal judge honor staff served chocolate cake courtroom r January Dwight Steven reported prison fulfilled sentences Dwight months Steven months Dwight released March Steven January Sometime June Rhonda Karges Field Manager BLM husband Chad Karges Refuge Manager Malheur Wildlife Refuge surrounds Hammond ranch along attorney Frank Papagni exemplifying vindictive behavior filed appeal 9th District Federal Court seeking Dwight Steven return federal prison entire years October 9th District Court resentenced Dwight Steven requiring return prison several years Steven wife children Dwight leave Susan alone years marriage survives released u court preceding Hammonds forced grant BLM first right refusal Hammonds ever sold ranch would sell BLM v Dwight Steven ordered report federal prison January 4th begin re-sentencing wives manage ranch several years without themTo date paid BLM remainder must paid end year Hammonds pay fines BLM forced sell ranch BLM face prosecution citations See updates Conservative TreehouseHere another video update Ammon Bundy SUPPORT 21WIRE SUBSCRIBE BECOME MEMBER 21WIRETV\n",
      "\n",
      "5 => Troubled King Chicago Rahm Emanuel Desperate Save Presidential Run 21st Century Wire says far away Guess wants run president New Year bell rung embattled Chicago Mayor Rahm Israel Emanuel forced cut short family vacation Cuba headed back windy city yet another embarrassing police shooting last week claimed two lives police responding domestic disturbance call killed -year-old Quintonio LeGrier engineering student Northern Illinois University bystander -year-old Betti Jones grandmotherLast week people family activists held vigil victims Mayor attempted sort mea culpa time public buying mainly second major high-profile police shooting incident rock city hall last month TROUBLE KEEP LaQuan McDonald shooting rattled dynasty potential Chicago Rahm EmanuelCurrently serving second term office -year-old mayor going one crisis next tensions continue simmer initial controversy killing -year-old Laquan McDonald shot times city police camera prompted angry mobs demanding King step downThere could political price pay rampage latest shooting events also LeGrier mother Janet Cooksey appeared national TV last Sunday news conference wearing T-shirt emblazoned face Mayor Emanuel words Rahm Failed Us Throughout debacle Emmanuel given public pressure even though approval rating plummeted since hostilities began top Chicago earned reputation murder capital America despite mayor staunch liberal policy gun-free zones across city critics credit towards creating criminal paradise Mayor already shaky ground last winter Emanuel narrowly survived close run-off election keep job officeAll potential cast shadow Emanuel political future likely include Democratic Party presidential run reported Emanuel already substantial campaign war chest ready go billions dollars fact thanks wealthy backers Emanuel go ahead plan driving force behind campaign Hollywood mogul brother Ari Emanuel spare expense terms PR marketing advertising brother political drive White House Part newly found Emanuel family fortune derives early investment virtual taxi service sensation Uber Emanuel investment estimated valued billion alone without controversy however Mayor Rahm Emanuel deregulation Chicago taxi industry helped Uber shares skyrocket value Critics saying conflict interest today seedy political environment insider trading open criminality might hard politician pull rank issue Add potential hundreds millions donations Emanuel receive Jewish property tycoon Sheldon Adelson also Jewish billionaire Emanuel fellow anti-gun advocate Michael Bloomberg interests serving Israel see Emanuel could viewed Democratic front-runner alreadyThe Mayor emerged DC sewer scene part Clinton-Obama Chicago political machine described AFP Victor Thorn sinister Karl Rove potentially deadlier Dick Darth Vader Cheney Back Emanuel Barack Obama chief staff many commentators remarked psychopathic behavior including frightening Machiavellian exhibition White House meeting said administration political enemies need Die die die stabbed table anger reportedly using either pen letter opener regardless bit scary Enough scare American people considering man likely eyes White House DUAL LOYALTIES Rahm Emanuel might hard time putting US interests ahead Netanyahu sThe strange bone contention Emanuel candidate reportedly dual citizen although believed gave Israeli citizenship years old shares national identity United States Israel actual served IDF briefly college According Mondoweiss Emanuel left Gulf War broke order volunteer IDF served one Israel northern bases war ended upon return US became Clinton advisor White House almost eight years Emanuel often seen presence Israel leader Zionist extremist Bibi Netanyahu raises real prospect Tel Aviv finally US president embedded White HouseThe fundamental question comes crunch country interest would Emanuel loyal towards US Israel Contrary popular Republican belief sets wear allegiance matter hard Israel Lobby tries portray countries radically different national social interestsIf issue sinks cesspit public outrage expect Emanuel Hollywood PR machine go overdriveREAD ISRAEL NEWS 21st Century Wire Israel Files\n",
      "\n"
     ]
    }
   ],
   "source": [
    "print_dataset(Combined_Dataset,5,\"title_text\", tail=True)"
   ]
  },
  {
   "cell_type": "markdown",
   "metadata": {},
   "source": [
    "<p style=color:#38629C><b style=color:#467200>5. Making text to lower case :</b> The text is now converted to lower case to make it consistent and to reduce the dimensionality of the data because same word in different case could be considered as a different feature.</p>"
   ]
  },
  {
   "cell_type": "code",
   "execution_count": 84,
   "metadata": {},
   "outputs": [],
   "source": [
    "# Making the text_title to lower case for consistency and to avoid the multiple occurences of the same words.\n",
    "Combined_Dataset['title_text'] = Combined_Dataset['title_text'].str.lower()\n"
   ]
  },
  {
   "cell_type": "markdown",
   "metadata": {},
   "source": [
    "<p style=color:#38629C><b style=color:#467200>6. Lemmatizing the text :</b> Text is lemmatized to convert the text to its base, root or dictionary form.</p>"
   ]
  },
  {
   "cell_type": "code",
   "execution_count": 85,
   "metadata": {},
   "outputs": [],
   "source": [
    "#Stemming and lemmatizing the title_text\n",
    "lemmatizer = WordNetLemmatizer()\n",
    "nlp = spacy.load('en_core_web_sm')\n",
    "\n",
    "#Function to stem the sentences of the dataframe [title_text]\n",
    "def lemmatize_data(text:str) -> str:\n",
    "    \"\"\"Lemmatize a string of text.\n",
    "    Args:\n",
    "        text: The string of text to lemmatize.\n",
    "    Returns:\n",
    "        The lemmatized string of text.\n",
    "    \"\"\"\n",
    "    # Load the English language model for spacy for lemmatizing the title_text\n",
    "    doc = nlp(text)  # Process the text with Spacy\n",
    "    lem_words = [token.lemma_ for token in doc]  # Lemmatize each token in the processed text\n",
    "    return(' '.join(lem_words))\n"
   ]
  },
  {
   "cell_type": "code",
   "execution_count": 86,
   "metadata": {},
   "outputs": [
    {
     "data": {
      "text/plain": [
       "'a letter have be write , ask he to be release'"
      ]
     },
     "execution_count": 86,
     "metadata": {},
     "output_type": "execute_result"
    }
   ],
   "source": [
    "#Testing the function to lemmatize  wordings\n",
    "sentance = \"A letter has been written, asking him to be released\"\n",
    "lemmatize_data(sentance)"
   ]
  },
  {
   "cell_type": "code",
   "execution_count": 87,
   "metadata": {},
   "outputs": [
    {
     "name": "stderr",
     "output_type": "stream",
     "text": [
      "Pandas Apply: 100%|██████████| 60829/60829 [27:05<00:00, 37.41it/s] \n"
     ]
    }
   ],
   "source": [
    "# Applying stemming and lemmatization  to Combined dataset.\n",
    "Combined_Dataset['title_text'] = Combined_Dataset['title_text'].swifter.apply(lemmatize_data)"
   ]
  },
  {
   "cell_type": "markdown",
   "metadata": {},
   "source": [
    "<p style=\"color:#38629C\"><b style=\"color:#467200\">7. Rechecking the duplicate records :</b> It is always best practice to recheck the text after completing all preprocessing and cleaning tasks because there might be chances of having duplicate records again.</p>"
   ]
  },
  {
   "cell_type": "code",
   "execution_count": 88,
   "metadata": {},
   "outputs": [
    {
     "name": "stdout",
     "output_type": "stream",
     "text": [
      "Duplicate record count:\n",
      "False    60736\n",
      "True        93\n",
      "dtype: int64\n"
     ]
    }
   ],
   "source": [
    "#Final Check for the duplicate records\n",
    "Duplicate_Records = Combined_Dataset.duplicated(subset=['title_text'], keep='first')\n",
    "print(\"Duplicate record count:\")\n",
    "print(Duplicate_Records.groupby(Duplicate_Records).count())"
   ]
  },
  {
   "attachments": {},
   "cell_type": "markdown",
   "metadata": {},
   "source": [
    "<p style=\"color:#38629C\"> There are few duplicate records that needed to be eliminated from the dataset.</p>"
   ]
  },
  {
   "cell_type": "code",
   "execution_count": 89,
   "metadata": {},
   "outputs": [
    {
     "data": {
      "text/html": [
       "<div>\n",
       "<style scoped>\n",
       "    .dataframe tbody tr th:only-of-type {\n",
       "        vertical-align: middle;\n",
       "    }\n",
       "\n",
       "    .dataframe tbody tr th {\n",
       "        vertical-align: top;\n",
       "    }\n",
       "\n",
       "    .dataframe thead th {\n",
       "        text-align: right;\n",
       "    }\n",
       "</style>\n",
       "<table border=\"1\" class=\"dataframe\">\n",
       "  <thead>\n",
       "    <tr style=\"text-align: right;\">\n",
       "      <th></th>\n",
       "      <th>label</th>\n",
       "      <th>title_text</th>\n",
       "    </tr>\n",
       "  </thead>\n",
       "  <tbody>\n",
       "    <tr>\n",
       "      <th>0</th>\n",
       "      <td>true</td>\n",
       "      <td>national federation independent business</td>\n",
       "    </tr>\n",
       "    <tr>\n",
       "      <th>1</th>\n",
       "      <td>true</td>\n",
       "      <td>comment fayetteville nc</td>\n",
       "    </tr>\n",
       "    <tr>\n",
       "      <th>2</th>\n",
       "      <td>true</td>\n",
       "      <td>romney make pitch hope close deal election roc...</td>\n",
       "    </tr>\n",
       "    <tr>\n",
       "      <th>3</th>\n",
       "      <td>true</td>\n",
       "      <td>democratic leader say house democrats united g...</td>\n",
       "    </tr>\n",
       "    <tr>\n",
       "      <th>4</th>\n",
       "      <td>true</td>\n",
       "      <td>budget united states government fy</td>\n",
       "    </tr>\n",
       "    <tr>\n",
       "      <th>...</th>\n",
       "      <td>...</td>\n",
       "      <td>...</td>\n",
       "    </tr>\n",
       "    <tr>\n",
       "      <th>67311</th>\n",
       "      <td>fake</td>\n",
       "      <td>white house theatrics gun control 21st century...</td>\n",
       "    </tr>\n",
       "    <tr>\n",
       "      <th>67312</th>\n",
       "      <td>fake</td>\n",
       "      <td>activist terrorist medium control dictate narr...</td>\n",
       "    </tr>\n",
       "    <tr>\n",
       "      <th>67313</th>\n",
       "      <td>fake</td>\n",
       "      <td>boiler room surrender retreat head roll ep tun...</td>\n",
       "    </tr>\n",
       "    <tr>\n",
       "      <th>67314</th>\n",
       "      <td>fake</td>\n",
       "      <td>federal showdown looms oregon blm abuse local ...</td>\n",
       "    </tr>\n",
       "    <tr>\n",
       "      <th>67315</th>\n",
       "      <td>fake</td>\n",
       "      <td>trouble king chicago rahm emanuel desperate sa...</td>\n",
       "    </tr>\n",
       "  </tbody>\n",
       "</table>\n",
       "<p>60736 rows × 2 columns</p>\n",
       "</div>"
      ],
      "text/plain": [
       "      label                                         title_text\n",
       "0      true           national federation independent business\n",
       "1      true                            comment fayetteville nc\n",
       "2      true  romney make pitch hope close deal election roc...\n",
       "3      true  democratic leader say house democrats united g...\n",
       "4      true                 budget united states government fy\n",
       "...     ...                                                ...\n",
       "67311  fake  white house theatrics gun control 21st century...\n",
       "67312  fake  activist terrorist medium control dictate narr...\n",
       "67313  fake  boiler room surrender retreat head roll ep tun...\n",
       "67314  fake  federal showdown looms oregon blm abuse local ...\n",
       "67315  fake  trouble king chicago rahm emanuel desperate sa...\n",
       "\n",
       "[60736 rows x 2 columns]"
      ]
     },
     "execution_count": 89,
     "metadata": {},
     "output_type": "execute_result"
    }
   ],
   "source": [
    "#Removing the duplicate records from the data frame.\n",
    "Combined_Dataset = Combined_Dataset[~Duplicate_Records]\n",
    "Combined_Dataset"
   ]
  },
  {
   "cell_type": "code",
   "execution_count": 90,
   "metadata": {},
   "outputs": [
    {
     "name": "stdout",
     "output_type": "stream",
     "text": [
      "label                                                      fake\n",
      "title_text    viola davis give profound insight racial tensi...\n",
      "Name: 47711, dtype: object\n"
     ]
    }
   ],
   "source": [
    "record = Combined_Dataset.iloc[45934]\n",
    "\n",
    "print(record)"
   ]
  },
  {
   "attachments": {},
   "cell_type": "markdown",
   "metadata": {},
   "source": [
    "<h3 style=\"color:#7a5138\"> Stage 3 - Dataframe Outlook</h3>"
   ]
  },
  {
   "cell_type": "markdown",
   "metadata": {},
   "source": [
    "<li style=color:#38629C>Distribution of fake and real news from the combined dataset</li>"
   ]
  },
  {
   "cell_type": "code",
   "execution_count": 91,
   "metadata": {},
   "outputs": [
    {
     "data": {
      "image/png": "[encoded data removed]",
      "text/plain": [
       "<Figure size 640x480 with 1 Axes>"
      ]
     },
     "metadata": {},
     "output_type": "display_data"
    },
    {
     "data": {
      "text/plain": [
       "label\n",
       "true    37654\n",
       "fake    23082\n",
       "Name: label, dtype: int64"
      ]
     },
     "execution_count": 91,
     "metadata": {},
     "output_type": "execute_result"
    }
   ],
   "source": [
    "#Checking the distribution of combined datasets based on news label\n",
    "df_news = Combined_Dataset.groupby('label')['label'].count()\n",
    "df_news = df_news.sort_values(ascending = False) # Keeping the values in ascending order\n",
    "bar_colors = list('grbkymc') #red, green, blue, black, etc.\n",
    "df_news.plot(x = df_news[0], y= df_news[1], kind = 'bar', stacked=True, color=bar_colors)\n",
    "# To add title and labels to the plot\n",
    "plt.title('Distribution of News Articles') \n",
    "plt.ylabel('Number of News Article') \n",
    "plt.xlabel('News Type')\n",
    "plt.show() \n",
    "#To show the distribution based on count\n",
    "df_news"
   ]
  },
  {
   "cell_type": "markdown",
   "metadata": {},
   "source": [
    "<li style=color:#38629C>Length of the number of words in the sentence for fake and real news articles</li>"
   ]
  },
  {
   "cell_type": "code",
   "execution_count": 92,
   "metadata": {},
   "outputs": [
    {
     "data": {
      "image/png": "[encoded data removed]",
      "text/plain": [
       "<Figure size 640x480 with 1 Axes>"
      ]
     },
     "metadata": {},
     "output_type": "display_data"
    }
   ],
   "source": [
    "#Bucket size for the histogram\n",
    "bins = np.linspace(0, 100, 30)\n",
    "#To create a copy of the dataset because new column is added, it is good practice to do copy before preprocessing\n",
    "df_news = Combined_Dataset.copy()\n",
    "\n",
    "df_news['text_length'] = df_news[\"title_text\"].apply(lambda x: len(x) - x.count(\" \"))\n",
    "\n",
    "plt.hist(df_news[df_news[\"label\"]== \"fake\"][\"text_length\"], bins, alpha=0.7, label=\"Fake\", color=\"red\")\n",
    "plt.hist(df_news[df_news[\"label\"]== \"true\"][\"text_length\"], bins, alpha=0.4, label=\"True\", color=\"green\")\n",
    "plt.legend(loc=\"upper left\")\n",
    "plt.show()\n"
   ]
  },
  {
   "cell_type": "markdown",
   "metadata": {},
   "source": [
    "<li style=color:#38629C>Checking the frequency of words</li>"
   ]
  },
  {
   "cell_type": "code",
   "execution_count": 93,
   "metadata": {},
   "outputs": [
    {
     "name": "stderr",
     "output_type": "stream",
     "text": [
      "Pandas Apply: 100%|██████████| 60736/60736 [00:17<00:00, 3476.75it/s] \n"
     ]
    },
    {
     "data": {
      "image/png": "[encoded data removed]",
      "text/plain": [
       "<Figure size 640x480 with 1 Axes>"
      ]
     },
     "metadata": {},
     "output_type": "display_data"
    },
    {
     "data": {
      "text/plain": [
       "<Axes: xlabel='Samples', ylabel='Counts'>"
      ]
     },
     "execution_count": 93,
     "metadata": {},
     "output_type": "execute_result"
    }
   ],
   "source": [
    "#Checking the frequency of words in dataset \n",
    "#Using itertools for efficiency reason as tokens could be huge in the combined dataset\n",
    "def word_frequency(text):\n",
    "    word_tokens = word_tokenize(text) # Getting word token for the text parse \n",
    "    return word_tokens #Returning word tokens\n",
    "\n",
    "# Making a list of words currently being used \n",
    "f = list(itertools.chain.from_iterable(Combined_Dataset['title_text'].swifter.apply(word_frequency))) \n",
    "\n",
    "result = FreqDist(f)\n",
    "\n",
    "result.plot(30, cumulative=False)"
   ]
  },
  {
   "cell_type": "markdown",
   "metadata": {},
   "source": [
    "<li style=color:#38629C>Word Cloud for the Frequent Words</li>"
   ]
  },
  {
   "cell_type": "code",
   "execution_count": 95,
   "metadata": {},
   "outputs": [
    {
     "data": {
      "image/png": "[encoded data removed]",
      "text/plain": [
       "<Figure size 640x480 with 1 Axes>"
      ]
     },
     "metadata": {},
     "output_type": "display_data"
    }
   ],
   "source": [
    "combined_text = ' '.join([t for t in Combined_Dataset['title_text']])\n",
    "wordCloud = WordCloud(width=800, height=400, random_state=35, max_font_size=110).generate(combined_text)\n",
    "plt.imshow(wordCloud, interpolation='bilinear') \n",
    "plt.axis('off')\n",
    "plt.show()"
   ]
  },
  {
   "cell_type": "markdown",
   "metadata": {},
   "source": [
    "<p style=color:#38629C>The news article mainly relates to the political and social issues. However, there are some other interesting words are also mentioned in large numbers such as say , time, year etc </p>"
   ]
  },
  {
   "cell_type": "markdown",
   "metadata": {},
   "source": [
    "<li style=color:#38629C>Feature Extraction using CountVectorizer</li>"
   ]
  },
  {
   "cell_type": "markdown",
   "metadata": {},
   "source": [
    "<p style=color:#38629C>Features will be extracted from the dataset and words will be extracted for both fake and real news articles.</p>"
   ]
  },
  {
   "cell_type": "code",
   "execution_count": 96,
   "metadata": {},
   "outputs": [],
   "source": [
    "from sklearn.feature_extraction.text import CountVectorizer\n",
    "\n",
    "#Count vector to convert the collection of text to a matrix showing the frequency of word in a document\n",
    "vec=CountVectorizer(stop_words='english')\n",
    "vec.fit(Combined_Dataset['title_text'])\n",
    "\n",
    "#Creating a document-term matrix for the title_text\n",
    "text_encoded=vec.fit_transform(Combined_Dataset['title_text'])"
   ]
  },
  {
   "cell_type": "code",
   "execution_count": 97,
   "metadata": {},
   "outputs": [
    {
     "data": {
      "text/plain": [
       "<60736x158126 sparse matrix of type '<class 'numpy.int64'>'\n",
       "\twith 5574610 stored elements in Compressed Sparse Row format>"
      ]
     },
     "execution_count": 97,
     "metadata": {},
     "output_type": "execute_result"
    }
   ],
   "source": [
    "text_encoded"
   ]
  },
  {
   "cell_type": "code",
   "execution_count": 98,
   "metadata": {},
   "outputs": [
    {
     "data": {
      "text/plain": [
       "array([1, 8, 5, ..., 1, 1, 1])"
      ]
     },
     "execution_count": 98,
     "metadata": {},
     "output_type": "execute_result"
    }
   ],
   "source": [
    "# sum for each column in the sparse matrix (0 is to calculate it vertically)\n",
    "sum_sparse_matrix = text_encoded.sum(axis=0)\n",
    "# Getting a row array from the sparse matrix\n",
    "arr = np.asarray(sum_sparse_matrix).squeeze()\n",
    "# Getting 1d numpy array with the squeeze function to eliminate the extra dimension\n",
    "text_encoded_arr = np.asarray(arr).reshape((arr.size,))\n",
    "\n",
    "text_encoded_arr"
   ]
  },
  {
   "cell_type": "code",
   "execution_count": 100,
   "metadata": {},
   "outputs": [],
   "source": [
    "term_count=zip(text_encoded_arr, vec.get_feature_names_out())\n",
    "\n",
    "sorted_term_count=sorted(list(term_count), reverse=True)\n"
   ]
  },
  {
   "cell_type": "code",
   "execution_count": 101,
   "metadata": {},
   "outputs": [],
   "source": [
    "top_terms_counts=[tc[0] for tc in sorted_term_count[:10]] #Getting top 10 terms counts\n",
    "top_terms=[t[1] for t in sorted_term_count[:10]] #Getting top 10 terms\n",
    "term_df=pd.DataFrame(text_encoded.toarray(), columns=vec.get_feature_names_out())\n",
    "term_df['label']=Combined_Dataset['label']"
   ]
  },
  {
   "cell_type": "code",
   "execution_count": null,
   "metadata": {},
   "outputs": [
    {
     "data": {
      "text/plain": [
       "[157128, 132932, 50399, 38298, 36702, 36619, 34894, 29761, 27110, 26920]"
      ]
     },
     "execution_count": 53,
     "metadata": {},
     "output_type": "execute_result"
    }
   ],
   "source": [
    "top_terms_counts"
   ]
  },
  {
   "cell_type": "code",
   "execution_count": 102,
   "metadata": {},
   "outputs": [
    {
     "data": {
      "text/plain": [
       "<matplotlib.legend.Legend at 0x31babe190>"
      ]
     },
     "execution_count": 102,
     "metadata": {},
     "output_type": "execute_result"
    },
    {
     "data": {
      "image/png": "[encoded data removed]",
      "text/plain": [
       "<Figure size 500x1000 with 1 Axes>"
      ]
     },
     "metadata": {},
     "output_type": "display_data"
    }
   ],
   "source": [
    "term_df[top_terms+['label']].groupby('label').mean().plot(kind='barh', stacked=True, figsize=(5, 10)) \n",
    "plt.legend(loc='center left', bbox_to_anchor=(1, 0.5))"
   ]
  },
  {
   "cell_type": "markdown",
   "metadata": {},
   "source": [
    "<p style=color:#38629C>We can see that, as in the word frequency or word cloud, terms such as 'Trump, say, president etc' are used in both fake and real news to deceive readers. This could be a challenge for our models to achieve optimal accuracy, as the same words are used in almost similar proportions in both types of news. However, it is expected that the model based on Naive Bayes and Advance Transformers could perform well.</p>"
   ]
  },
  {
   "attachments": {},
   "cell_type": "markdown",
   "metadata": {},
   "source": [
    "<h3 style=\"color:#7a5138\"> Stage 4 - Splitting and Exporting dataset</h3>"
   ]
  },
  {
   "cell_type": "markdown",
   "metadata": {},
   "source": [
    "<p style=\"color:#38629C\"><b style=\"color:#467200\">1. Exporting Training data to CSV:</b> Cleaned Data is exported to CSV as this will be used separately in Google Colab for Deep Neural Networks including LSTM Deep, Bert (Classifier - Zero/Few Shots) and Bert (Fine Tuning) .</p>"
   ]
  },
  {
   "cell_type": "code",
   "execution_count": null,
   "metadata": {},
   "outputs": [],
   "source": [
    "#Pandas dataframe to CSV\n",
    "FakeNewsNet_ISOT_Combined.to_csv('../cleaned_data.csv', index=False)"
   ]
  },
  {
   "cell_type": "markdown",
   "metadata": {},
   "source": [
    "<p style=\"color:#38629C\"><b style=\"color:#467200\">2. Split data into Training and Testing [Training: 80%, Testing:20%] :</b> Dataset is splitted into X_train, X_test, y_train, y_test using Sk-Learn library with the ratio 80% - Training and 20% Testing.</p>\n"
   ]
  },
  {
   "cell_type": "code",
   "execution_count": 104,
   "metadata": {},
   "outputs": [],
   "source": [
    "#Pandas dataframe to CSV\n",
    "# FakeNewsNet_ISOT_Combined.to_csv('cleaned_data.csv', index=False)\n",
    "\n",
    "from sklearn.model_selection import train_test_split\n",
    "\n",
    "# Splitting the data into training and testing subsets\n",
    "X_train, X_test, y_train, y_test = train_test_split(Combined_Dataset['title_text'], Combined_Dataset['label'], test_size=0.2, random_state=42)\n"
   ]
  },
  {
   "cell_type": "code",
   "execution_count": 105,
   "metadata": {},
   "outputs": [
    {
     "name": "stdout",
     "output_type": "stream",
     "text": [
      "X_train : 48588\n",
      "X_test : 12148\n",
      "y_train : 48588\n",
      "y_test : 12148\n",
      "Total : 60736\n"
     ]
    }
   ],
   "source": [
    "count:dict = {}\n",
    "\n",
    "count['X_train'] = X_train.count()\n",
    "count['X_test'] = X_test.count()\n",
    "count['y_train'] = y_train.count()\n",
    "count['y_test'] = y_test.count()\n",
    "count['Total'] = X_train.count()+X_test.count()\n",
    "\n",
    "for key, value in count.items():\n",
    "    print(key, \":\", value)\n"
   ]
  },
  {
   "cell_type": "markdown",
   "metadata": {},
   "source": [
    "You can notice that same length of documents divided into feature and label by the SKlearn class\n",
    "\n",
    "|      | Train    | Test \n",
    "| -----------| ----------- | ----------- |\n",
    "| x      | 48,588      | 12,148 |\n",
    "| y      | 48.588 |12,148|\n"
   ]
  },
  {
   "cell_type": "markdown",
   "metadata": {},
   "source": [
    "<h3 style=\"color:#362419\"> Stage 5 -  Feature Extraction</h3>"
   ]
  },
  {
   "cell_type": "markdown",
   "metadata": {},
   "source": [
    "<p style=color:#467200><b>1. Tokenization</b></p>\n",
    "<ul style=color:#38629C>\n",
    "    <li>Tokenization is the process of dividing the text into \"sentences, words or alphabets\".</li>\n",
    "    <li>There are multiple methods for tokenization and almost all libraries such as NLTK, keras, spaCy have capabilities of performing tokenization.</li>\n",
    "    <li>NLTK tokenizer is used during preprocessing and cleaning of the Datasets. Therefore, we will continue to use the same during this stage.</li>\n",
    "    <li>There is a separate function created for tokenization using the \"word_tokenize\" method from NLTK.</li>\n",
    "    <li>Example:</li>\n",
    "    <ul>\n",
    "        <li>\"Natural language processing is fun to learn\" <b>Tokenize to</b></li>\n",
    "        <li>\"Natural\" \"language\" \"processing\" \"is\" \"fun\" \"to\" \"learn\"</li>\n",
    "    </ul>\n",
    "</ul>"
   ]
  },
  {
   "cell_type": "code",
   "execution_count": 106,
   "metadata": {},
   "outputs": [
    {
     "name": "stdout",
     "output_type": "stream",
     "text": [
      "['Natural', 'language', 'processing', 'is', 'fun', 'to', 'learn']\n"
     ]
    }
   ],
   "source": [
    "# Function to tokenize the text\n",
    "def word_tokenizer(text:str) -> list[str]:\n",
    "    \"\"\"\n",
    "    Args:\n",
    "        text: The string of text to Tokenize.\n",
    "    Returns:\n",
    "        List of word tokenized using NLTK tokizer.\n",
    "    \"\"\"\n",
    "    word_tokens = word_tokenize(text)\n",
    "    return word_tokens\n",
    "\n",
    "print(word_tokenize(\"Natural language processing is fun to learn\"))"
   ]
  },
  {
   "cell_type": "markdown",
   "metadata": {},
   "source": [
    "<p style=color:#467200><b>Feature Extraction  </b></p>\n",
    "\n",
    "<p style=color:#38629C>\"Term frequency-inverse document frequency (td-idf)\" and \"Bag of Words\" model are used to extract features from the text data. These features are used for training the traditional machine learning models.Feature extraction is a process that involves getting the numerical representation of documents ['Combined Dataset'] in a vector.</p>\n",
    "\n",
    "<ul style=color:#38629C>\n",
    "    <p style=color:#467200>Countvector</p>\n",
    "    <li>Countvector was used for data outlook, analysis and feature presentation during stage 3.</li>\n",
    "    <li>Vectorization on the panda's dataset results in a sparse matrix having the following characteristic:</li>\n",
    "    <ul>\n",
    "        <li>Column: Number of explicit tokens in the document.</li>\n",
    "        <li>Rows: Number of documents in the set of documents</li>\n",
    "        <li>Cell: Count of frequency of words.</li>\n",
    "    </ul>\n",
    "    <p style=color:#467200>TF-IDF</p>\n",
    "    <li>TF-IDF means Term Frequency — Inverse Document Frequency is used for feature extraction over Countvector for vectorization due to the following reasons:</li>\n",
    "    <ul>\n",
    "        <li>Count vectors only check the frequency of text in a text or document.</li>\n",
    "        <li>It will not categorise high or least important words.</li>\n",
    "        <li>Words rarely used in the corpus will be given full weight.</li>\n",
    "        <li>It lacks the power of identifying linguistic relationships between the words.</li>\n",
    "        <li>TF-IDF is another layer on top of count vectorizers. It does not just consider the frequency but also its relevance or importance.</li>\n",
    "        <li>It is possible to reduce the input dimension by removing less important words</li>\n",
    "    </ul>\n",
    "</ul>"
   ]
  },
  {
   "cell_type": "code",
   "execution_count": 107,
   "metadata": {},
   "outputs": [
    {
     "name": "stderr",
     "output_type": "stream",
     "text": [
      "/Users/ahmad/Desktop/Coding/Final Project/Final-Project/.venv/lib/python3.11/site-packages/sklearn/feature_extraction/text.py:525: UserWarning: The parameter 'token_pattern' will not be used since 'tokenizer' is not None'\n",
      "  warnings.warn(\n"
     ]
    }
   ],
   "source": [
    "from sklearn.feature_extraction.text import TfidfVectorizer\n",
    "# maximum and minimum document frequency for the TFIDF is kept at 90% of document and at 3 documents respectively\n",
    "tfid = TfidfVectorizer(strip_accents='unicode', tokenizer=word_tokenizer, ngram_range=(1, 2), max_df=0.9, min_df=3, sublinear_tf=True)\n",
    "\n",
    "# Function to apply tranform on test and train subsets\n",
    "# It will return the sparse matrix\n",
    "def bagwords(data , method:str):\n",
    "    if method == 'ft':\n",
    "        return tfid.fit_transform(data)  #Creating a document-term matrix with fit_transform method\n",
    "    elif method == 't':\n",
    "        return tfid.transform(data) #Test sparse document-term matrix with transform method\n",
    "    else:\n",
    "        print('Please enter correct data or input method')\n",
    "\n",
    "X_tf_train = bagwords(X_train, 'ft') #Term frequency of train dataset\n",
    "X_tf_test = bagwords(X_test, 't') #Term frequency of test dataset\n",
    "\n",
    "\n",
    "#Explanation on Scikit-learn Transformers and fit, tranform and fit_transform\n",
    "#https://www.analyticsvidhya.com/blog/2021/04/difference-between-fit-transform-fit_transform-methods-in-scikit-learn-with-python-code/"
   ]
  },
  {
   "cell_type": "code",
   "execution_count": 108,
   "metadata": {},
   "outputs": [],
   "source": [
    "from sklearn.feature_extraction.text import TfidfVectorizer\n",
    "# maximum and minimum document frequency for the TFIDF is kept at 90% of document and at 3 documents respectively\n",
    "tfid = TfidfVectorizer(strip_accents='unicode', tokenizer=word_tokenizer, ngram_range=(1, 2), max_df=0.9, min_df=3, sublinear_tf=True)\n",
    "\n",
    "# Function to apply tranform on test and train subsets\n",
    "# It will return the sparse matrix\n",
    "def bagwords(data , method:str):\n",
    "    if method == 'ft':\n",
    "        return tfid.fit_transform(data)  #Creating a document-term matrix with fit_transform method\n",
    "    elif method == 't':\n",
    "        return tfid.transform(data) #Test sparse document-term matrix with transform method\n",
    "    else:\n",
    "        print('Please enter correct data or input method')\n",
    "\n",
    "X_tf_train = bagwords(X_train, 'ft') #Term frequency of train dataset\n",
    "X_tf_test = bagwords(X_test, 't') #Term frequency of test dataset\n",
    "\n",
    "\n",
    "#Explanation on Scikit-learn Transformers and fit, tranform and fit_transform\n",
    "#https://www.analyticsvidhya.com/blog/2021/04/difference-between-fit-transform-fit_transform-methods-in-scikit-learn-with-python-code/"
   ]
  },
  {
   "cell_type": "code",
   "execution_count": 109,
   "metadata": {},
   "outputs": [
    {
     "name": "stdout",
     "output_type": "stream",
     "text": [
      "None\n"
     ]
    }
   ],
   "source": [
    "print(tfid.get_stop_words())"
   ]
  },
  {
   "cell_type": "code",
   "execution_count": 110,
   "metadata": {},
   "outputs": [
    {
     "data": {
      "text/plain": [
       "<48588x483598 sparse matrix of type '<class 'numpy.float64'>'\n",
       "\twith 9304706 stored elements in Compressed Sparse Row format>"
      ]
     },
     "execution_count": 110,
     "metadata": {},
     "output_type": "execute_result"
    }
   ],
   "source": [
    "X_tf_train"
   ]
  },
  {
   "cell_type": "code",
   "execution_count": 111,
   "metadata": {},
   "outputs": [
    {
     "data": {
      "text/plain": [
       "<12148x483598 sparse matrix of type '<class 'numpy.float64'>'\n",
       "\twith 2229227 stored elements in Compressed Sparse Row format>"
      ]
     },
     "execution_count": 111,
     "metadata": {},
     "output_type": "execute_result"
    }
   ],
   "source": [
    "X_tf_test"
   ]
  },
  {
   "cell_type": "markdown",
   "metadata": {},
   "source": [
    "<h3 style=color:#362419> Stage 6 - Traditional Machine Learning</h3>\n",
    "\n",
    "  "
   ]
  },
  {
   "cell_type": "markdown",
   "metadata": {},
   "source": [
    "\n",
    "<p style=color:#467200><b>1. Logistic Regression</b></p>\n",
    "\n",
    "\n",
    "<p style=color:#38629C>I have selected <b>logistic regression</b> as first model for supervised learning</p>\n",
    "      <ul style=color:#38629C>\n",
    "        <li>Logistic regression in NLP used for classification problems.</li>\n",
    "        <li>It takes the data point of n features for classification.</li>\n",
    "        <li><u>Sigmoid</u>  function is used under the hood as the activation function in logistic regression that transforms the linear combination of features and coefficients into a probability value between 0 and 1.</li>\n",
    "        <li>If probability is greater than 0.5 then class 1 is defined by the algorithm.</li>\n",
    "        <li>If probability is less than 0.5 then class 0 is defined by the algorithm.</li>\n",
    "      </ul>\n",
    "\n",
    "\n",
    "  \n",
    "Resource Reference:\n",
    "\n",
    "<ol>\n",
    "<em>\n",
    "  <li>https://medium.com/@rithwikkukunuri30/logistic-regression-and-its-applications-in-natural-language-processing-5f835c901fa7</li>\n",
    "  \n",
    "</em>\n",
    "</ol> "
   ]
  },
  {
   "cell_type": "code",
   "execution_count": 112,
   "metadata": {},
   "outputs": [
    {
     "name": "stdout",
     "output_type": "stream",
     "text": [
      "Number of iterations:  [332]\n"
     ]
    }
   ],
   "source": [
    "# Defining pipelines for StandardScaler and LogisticRegression\n",
    "# 3000 number of iteration for the model for solver to converge as initial input\n",
    "# Default solver ‘lbfgs’ kept as it is without changing to other solvers, which is an optimization algorithm for logistic regression\n",
    "# Scaling is used to unit variance z = (x - u) / s by removing the mean ( u is mean).\n",
    "lr_model = make_pipeline(StandardScaler(with_mean=False), LogisticRegression(max_iter=3000, solver='lbfgs'))\n",
    "lr_model.fit(X_tf_train, y_train)  # apply scaling on training data and logistic regression classifier\n",
    "\n",
    "\n",
    "# The StandardScaler preprocesses the features by scaling them, and then LogisticRegression is trained\n",
    "lg_y_pred = lr_model.predict(X_tf_test)\n",
    "\n",
    "# to get the exact number of convergence breakout point.\n",
    "n_iter = lr_model.named_steps['logisticregression'].n_iter_\n",
    "print(\"Number of iterations: \", n_iter)\n"
   ]
  },
  {
   "cell_type": "code",
   "execution_count": 113,
   "metadata": {},
   "outputs": [
    {
     "name": "stdout",
     "output_type": "stream",
     "text": [
      "Logistic regression accuracy(%): 88.30260125123476\n"
     ]
    }
   ],
   "source": [
    "print(\"Logistic regression accuracy(%):\", metrics.accuracy_score(y_test, lg_y_pred)*100)"
   ]
  },
  {
   "cell_type": "markdown",
   "metadata": {},
   "source": [
    "<p style=color:#38629C>Accuracy of the model is pretty impressive as it is around 88%. Sometimes the accuracy conventional method such as logistic regression is more accurate than the modern models, which will be tested for accuracy in the notebook below.</p>"
   ]
  },
  {
   "cell_type": "code",
   "execution_count": 116,
   "metadata": {},
   "outputs": [
    {
     "data": {
      "text/plain": [
       "<Figure size 1500x1500 with 0 Axes>"
      ]
     },
     "metadata": {},
     "output_type": "display_data"
    },
    {
     "data": {
      "image/png": "[encoded data removed]",
      "text/plain": [
       "<Figure size 640x480 with 2 Axes>"
      ]
     },
     "metadata": {},
     "output_type": "display_data"
    }
   ],
   "source": [
    "cm = confusion_matrix(y_test, lg_y_pred, labels=lr_model.classes_)\n",
    "disp = ConfusionMatrixDisplay(confusion_matrix=cm, display_labels=lr_model.classes_)\n",
    "plt.gcf().set_size_inches(15, 15)\n",
    "disp.plot()\n",
    "plt.show()"
   ]
  },
  {
   "cell_type": "markdown",
   "metadata": {},
   "source": [
    "<li style=color:#38629C> 3,841 records are correctly categorized as True Negative (TN) </li>\n",
    "<li style=color:#38629C> 6,886 records are correctly categorized as True Positive (TP)</li>"
   ]
  },
  {
   "cell_type": "code",
   "execution_count": 117,
   "metadata": {},
   "outputs": [
    {
     "name": "stdout",
     "output_type": "stream",
     "text": [
      "Logistic Regression => Classification Report:\n",
      "               precision    recall  f1-score   support\n",
      "\n",
      "        fake       0.85      0.83      0.84      4609\n",
      "        true       0.90      0.91      0.91      7539\n",
      "\n",
      "    accuracy                           0.88     12148\n",
      "   macro avg       0.88      0.87      0.88     12148\n",
      "weighted avg       0.88      0.88      0.88     12148\n",
      "\n"
     ]
    }
   ],
   "source": [
    "#Classification Report for the Logistic Regression\n",
    "print(\"Logistic Regression => Classification Report:\\n\",classification_report(y_test, lg_y_pred))"
   ]
  },
  {
   "cell_type": "markdown",
   "metadata": {},
   "source": [
    "\n",
    "<p style=color:#467200 ><b>2. K-Nearest Neighbors</b></p>\n",
    "\n",
    "\n",
    "<p style=color:#38629C> <b>K-Nearest Neighbors</b> also belongs to supervised learning domain and have intense application in pattern recognition, data mining, and intrusion detection. KNN can be used for regression for classification algorithm. It is non-parametric and don’t make assumption on data distribution. It measures distance using either Euclidean distance, Minkowski distance or Manhattan distance algorithms.</p>\n",
    "      <p>Benefits of KNN</p>\n",
    "      <ul style=color:#38629C>\n",
    "        <li>Easy to implement.</li>\n",
    "        <li>Adapts Easily.</li>\n",
    "        <li>Few Hyperparameters</li>\n",
    "      </ul>\n",
    "      <p>Disadvantages of KNN</p>\n",
    "      <ul style=color:#38629C>\n",
    "        <li>Does not scale .</li>\n",
    "        <li>Curse of Dimensionality.</li>\n",
    "        <li>Prone to Overfitting </li>\n",
    "      </ul>\n",
    "\n",
    "  \n",
    "Resource Reference:\n",
    "\n",
    "<ol style=color:#38629C>\n",
    "<em>\n",
    "  <li>https://www.geeksforgeeks.org/k-nearest-neighbours/</li>\n",
    "  \n",
    "</em>\n",
    "</ol> "
   ]
  },
  {
   "cell_type": "code",
   "execution_count": 118,
   "metadata": {},
   "outputs": [],
   "source": [
    "\n",
    "# The StandardScaler step scales the features of the dataset to have unit variance (This is used for preprocessing)\n",
    "# The 'n_neighbors' parameter specifies the number of neighbors to consider in KNN\n",
    "knn_model = make_pipeline(StandardScaler(with_mean=False), KNeighborsClassifier(n_neighbors=5))\n",
    "\n",
    "# The StandardScaler preprocesses the features by scaling them, and then KNeighborsClassifier is trained\n",
    "knn_model.fit(X_tf_train, y_train)\n",
    "\n",
    "# Predict the class labels for the test data using the trained model\n",
    "knn_y_pred = knn_model.predict(X_tf_test)\n"
   ]
  },
  {
   "cell_type": "code",
   "execution_count": 119,
   "metadata": {},
   "outputs": [
    {
     "name": "stdout",
     "output_type": "stream",
     "text": [
      "KNN accuracy(%): 63.03918340467567\n"
     ]
    }
   ],
   "source": [
    "print(\"KNN accuracy(%):\", metrics.accuracy_score(y_test, knn_y_pred)*100)"
   ]
  },
  {
   "cell_type": "code",
   "execution_count": 120,
   "metadata": {},
   "outputs": [
    {
     "data": {
      "text/plain": [
       "<Figure size 1500x1500 with 0 Axes>"
      ]
     },
     "metadata": {},
     "output_type": "display_data"
    },
    {
     "data": {
      "image/png": "[encoded data removed]",
      "text/plain": [
       "<Figure size 640x480 with 2 Axes>"
      ]
     },
     "metadata": {},
     "output_type": "display_data"
    }
   ],
   "source": [
    "cm = confusion_matrix(y_test, lg_y_pred, labels=knn_model.classes_)\n",
    "disp = ConfusionMatrixDisplay(confusion_matrix=cm, display_labels=knn_model.classes_)\n",
    "plt.gcf().set_size_inches(15, 15)\n",
    "disp.plot()\n",
    "plt.show()"
   ]
  },
  {
   "cell_type": "code",
   "execution_count": 132,
   "metadata": {},
   "outputs": [
    {
     "name": "stdout",
     "output_type": "stream",
     "text": [
      "K-Nearest Neighbor => Classification Report:\n",
      "               precision    recall  f1-score   support\n",
      "\n",
      "        fake       0.68      0.05      0.09      4609\n",
      "        true       0.63      0.99      0.77      7539\n",
      "\n",
      "    accuracy                           0.63     12148\n",
      "   macro avg       0.65      0.52      0.43     12148\n",
      "weighted avg       0.65      0.63      0.51     12148\n",
      "\n"
     ]
    }
   ],
   "source": [
    "#Classification Report for KNN\n",
    "print(\"K-Nearest Neighbor => Classification Report:\\n\",classification_report(y_test, knn_y_pred))"
   ]
  },
  {
   "cell_type": "markdown",
   "metadata": {},
   "source": [
    "\n",
    "<p style=color:#467200 ><b>3. Multinomial Naive Bayes</b></p>\n",
    "\n",
    "\n",
    "<p style=color:#38629C> <b>Naive Bayer</b> also belongs to supervised learning domain and effective in classification tasks. Multinomial Naive Bayes is used for the training. It brings many benefits over KNN or Logistic Regression as summarized below:</p>\n",
    "      <ul style=color:#38629C>\n",
    "        <li>Naive Bayes finds the probability of event based on knowledge or evidence.</li>\n",
    "        <li>It is based on classification algorithm 'Bayes Theorem' to predict probability of data to particular class.</li>\n",
    "        <li>Naive Bayes makes a simplifying assumption that the features are conditionally independent given the class label. </li>\n",
    "        <li>Multinomial Naive Bayes is a specific variant of the Naive Bayes algorithm that's commonly used for text classification.It assumes that the feature vectors (usually representing word frequencies) follow a multinomial distribution.</li>\n",
    "      </ul>\n",
    " \n",
    "Resource Reference:\n",
    "\n",
    "<ol style=color:#38629C>\n",
    "<em>\n",
    "  <li>https://www.geeksforgeeks.org/naive-bayes-classifiers/?ref=gcse</li>\n",
    "  \n",
    "</em>\n",
    "</ol> "
   ]
  },
  {
   "cell_type": "code",
   "execution_count": 122,
   "metadata": {},
   "outputs": [
    {
     "data": {
      "text/html": [
       "<style>#sk-container-id-1 {color: black;}#sk-container-id-1 pre{padding: 0;}#sk-container-id-1 div.sk-toggleable {background-color: white;}#sk-container-id-1 label.sk-toggleable__label {cursor: pointer;display: block;width: 100%;margin-bottom: 0;padding: 0.3em;box-sizing: border-box;text-align: center;}#sk-container-id-1 label.sk-toggleable__label-arrow:before {content: \"▸\";float: left;margin-right: 0.25em;color: #696969;}#sk-container-id-1 label.sk-toggleable__label-arrow:hover:before {color: black;}#sk-container-id-1 div.sk-estimator:hover label.sk-toggleable__label-arrow:before {color: black;}#sk-container-id-1 div.sk-toggleable__content {max-height: 0;max-width: 0;overflow: hidden;text-align: left;background-color: #f0f8ff;}#sk-container-id-1 div.sk-toggleable__content pre {margin: 0.2em;color: black;border-radius: 0.25em;background-color: #f0f8ff;}#sk-container-id-1 input.sk-toggleable__control:checked~div.sk-toggleable__content {max-height: 200px;max-width: 100%;overflow: auto;}#sk-container-id-1 input.sk-toggleable__control:checked~label.sk-toggleable__label-arrow:before {content: \"▾\";}#sk-container-id-1 div.sk-estimator input.sk-toggleable__control:checked~label.sk-toggleable__label {background-color: #d4ebff;}#sk-container-id-1 div.sk-label input.sk-toggleable__control:checked~label.sk-toggleable__label {background-color: #d4ebff;}#sk-container-id-1 input.sk-hidden--visually {border: 0;clip: rect(1px 1px 1px 1px);clip: rect(1px, 1px, 1px, 1px);height: 1px;margin: -1px;overflow: hidden;padding: 0;position: absolute;width: 1px;}#sk-container-id-1 div.sk-estimator {font-family: monospace;background-color: #f0f8ff;border: 1px dotted black;border-radius: 0.25em;box-sizing: border-box;margin-bottom: 0.5em;}#sk-container-id-1 div.sk-estimator:hover {background-color: #d4ebff;}#sk-container-id-1 div.sk-parallel-item::after {content: \"\";width: 100%;border-bottom: 1px solid gray;flex-grow: 1;}#sk-container-id-1 div.sk-label:hover label.sk-toggleable__label {background-color: #d4ebff;}#sk-container-id-1 div.sk-serial::before {content: \"\";position: absolute;border-left: 1px solid gray;box-sizing: border-box;top: 0;bottom: 0;left: 50%;z-index: 0;}#sk-container-id-1 div.sk-serial {display: flex;flex-direction: column;align-items: center;background-color: white;padding-right: 0.2em;padding-left: 0.2em;position: relative;}#sk-container-id-1 div.sk-item {position: relative;z-index: 1;}#sk-container-id-1 div.sk-parallel {display: flex;align-items: stretch;justify-content: center;background-color: white;position: relative;}#sk-container-id-1 div.sk-item::before, #sk-container-id-1 div.sk-parallel-item::before {content: \"\";position: absolute;border-left: 1px solid gray;box-sizing: border-box;top: 0;bottom: 0;left: 50%;z-index: -1;}#sk-container-id-1 div.sk-parallel-item {display: flex;flex-direction: column;z-index: 1;position: relative;background-color: white;}#sk-container-id-1 div.sk-parallel-item:first-child::after {align-self: flex-end;width: 50%;}#sk-container-id-1 div.sk-parallel-item:last-child::after {align-self: flex-start;width: 50%;}#sk-container-id-1 div.sk-parallel-item:only-child::after {width: 0;}#sk-container-id-1 div.sk-dashed-wrapped {border: 1px dashed gray;margin: 0 0.4em 0.5em 0.4em;box-sizing: border-box;padding-bottom: 0.4em;background-color: white;}#sk-container-id-1 div.sk-label label {font-family: monospace;font-weight: bold;display: inline-block;line-height: 1.2em;}#sk-container-id-1 div.sk-label-container {text-align: center;}#sk-container-id-1 div.sk-container {/* jupyter's `normalize.less` sets `[hidden] { display: none; }` but bootstrap.min.css set `[hidden] { display: none !important; }` so we also need the `!important` here to be able to override the default hidden behavior on the sphinx rendered scikit-learn.org. See: https://github.com/scikit-learn/scikit-learn/issues/21755 */display: inline-block !important;position: relative;}#sk-container-id-1 div.sk-text-repr-fallback {display: none;}</style><div id=\"sk-container-id-1\" class=\"sk-top-container\"><div class=\"sk-text-repr-fallback\"><pre>MultinomialNB()</pre><b>In a Jupyter environment, please rerun this cell to show the HTML representation or trust the notebook. <br />On GitHub, the HTML representation is unable to render, please try loading this page with nbviewer.org.</b></div><div class=\"sk-container\" hidden><div class=\"sk-item\"><div class=\"sk-estimator sk-toggleable\"><input class=\"sk-toggleable__control sk-hidden--visually\" id=\"sk-estimator-id-1\" type=\"checkbox\" checked><label for=\"sk-estimator-id-1\" class=\"sk-toggleable__label sk-toggleable__label-arrow\">MultinomialNB</label><div class=\"sk-toggleable__content\"><pre>MultinomialNB()</pre></div></div></div></div></div>"
      ],
      "text/plain": [
       "MultinomialNB()"
      ]
     },
     "execution_count": 122,
     "metadata": {},
     "output_type": "execute_result"
    }
   ],
   "source": [
    "# Importing Multinomial naive bayes from sklearn\n",
    "from sklearn.naive_bayes import MultinomialNB\n",
    "# Declaring a classifier\n",
    "nb_model = MultinomialNB()\n",
    "# Training a model\n",
    "nb_model.fit(X_tf_train, y_train) # Term frequency is provided for training set"
   ]
  },
  {
   "cell_type": "code",
   "execution_count": 123,
   "metadata": {},
   "outputs": [
    {
     "data": {
      "text/plain": [
       "Counter({'true': 8244, 'fake': 3904})"
      ]
     },
     "execution_count": 123,
     "metadata": {},
     "output_type": "execute_result"
    }
   ],
   "source": [
    "import collections\n",
    "# Testing model by providing testing dataset\n",
    "y_pred_nb = nb_model.predict(X_tf_test)\n",
    "# Checking count of true and fake news in model predictions\n",
    "collections.Counter(y_pred_nb)"
   ]
  },
  {
   "cell_type": "code",
   "execution_count": 124,
   "metadata": {},
   "outputs": [
    {
     "name": "stdout",
     "output_type": "stream",
     "text": [
      "Naive Bayes accuracy(%): 89.99835363845901\n"
     ]
    }
   ],
   "source": [
    "# Checking the Accuracy of Model\n",
    "from sklearn import metrics\n",
    "print(\"Naive Bayes accuracy(%):\", metrics.accuracy_score(y_test, y_pred_nb)*100)"
   ]
  },
  {
   "cell_type": "code",
   "execution_count": 126,
   "metadata": {},
   "outputs": [
    {
     "data": {
      "image/png": "[encoded data removed]",
      "text/plain": [
       "<Figure size 640x480 with 2 Axes>"
      ]
     },
     "metadata": {},
     "output_type": "display_data"
    }
   ],
   "source": [
    "cm = confusion_matrix(y_test, y_pred_nb, labels=nb_model.classes_)\n",
    "disp = ConfusionMatrixDisplay(confusion_matrix=cm, display_labels=nb_model.classes_)\n",
    "disp.plot()\n",
    "plt.show()"
   ]
  },
  {
   "cell_type": "markdown",
   "metadata": {},
   "source": [
    "- 3,649 tweets are correctly categorized as True Negative (TN)\n",
    "- 7,284 tweets are correctly categorized as True Positive (TP)"
   ]
  },
  {
   "cell_type": "code",
   "execution_count": 127,
   "metadata": {},
   "outputs": [
    {
     "name": "stdout",
     "output_type": "stream",
     "text": [
      "Multinomial Naive Bayes => Classification Report:\n",
      "               precision    recall  f1-score   support\n",
      "\n",
      "        fake       0.93      0.79      0.86      4609\n",
      "        true       0.88      0.97      0.92      7539\n",
      "\n",
      "    accuracy                           0.90     12148\n",
      "   macro avg       0.91      0.88      0.89     12148\n",
      "weighted avg       0.90      0.90      0.90     12148\n",
      "\n"
     ]
    }
   ],
   "source": [
    "print(\"Multinomial Naive Bayes => Classification Report:\\n\",classification_report(y_test, y_pred_nb))"
   ]
  },
  {
   "cell_type": "markdown",
   "metadata": {},
   "source": [
    "<p style=color:#467200><b>ROC (Receiver Operating Characteristic Curve)</b></P>"
   ]
  },
  {
   "cell_type": "code",
   "execution_count": 137,
   "metadata": {},
   "outputs": [
    {
     "data": {
      "image/png": "[encoded data removed]",
      "text/plain": [
       "<Figure size 640x480 with 1 Axes>"
      ]
     },
     "metadata": {},
     "output_type": "display_data"
    }
   ],
   "source": [
    "from sklearn.metrics import roc_curve\n",
    "import matplotlib.pyplot as plt\n",
    "\n",
    "def plot_roc_curves(models, model_labels, line_colors, X_test, y_test):\n",
    "    \"\"\"\n",
    "    Plot ROC curves for multiple models on the same axes.\n",
    "\n",
    "    Parameters:\n",
    "        models (list): List of machine learning models to compare.\n",
    "        model_labels (list): List of labels corresponding to each model for the legend.\n",
    "        line_colors (list): List of colors for the ROC curves.\n",
    "        X_test (array-like): Feature data for the test set.\n",
    "        y_test (array-like): True labels for the test set (in the form {'fake', 'true'}).\n",
    "    \"\"\"\n",
    "\n",
    "    # Map your labels to binary values (0 and 1)\n",
    "    y_test_binary = [1 if label == 'true' else 0 for label in y_test]\n",
    "\n",
    "    # Get the current axis (plotting area)\n",
    "    ax = plt.gca()\n",
    "\n",
    "    # Iterate through each model and plot its ROC curve with a specified color\n",
    "    for model, color in zip(models, line_colors):\n",
    "        # Calculate the ROC curve\n",
    "        fpr, tpr, _ = roc_curve(y_test_binary, model.predict_proba(X_test)[:, 1])\n",
    "        # Plot the ROC curve with the specified color\n",
    "        plt.plot(fpr, tpr, color=color)\n",
    "\n",
    "    # Add a title and labels to the plot\n",
    "    plt.title(\"ROC Curve Comparison\")\n",
    "    plt.xlabel(\"False Positive Rate\")\n",
    "    plt.ylabel(\"True Positive Rate\")\n",
    "\n",
    "    # Set the legend with specified model labels and line colors\n",
    "    legend_handles = [plt.Line2D([0], [0], color=color, label=label) for color, label in zip(line_colors, model_labels)]\n",
    "    plt.legend(handles=legend_handles)\n",
    "\n",
    "    # Show the plot\n",
    "    plt.show()\n",
    "\n",
    "# Example usage\n",
    "plot_roc_curves([lr_model, nb_model, knn_model], [\"Logistic Regression\", \"Naive Bayes\", \"K-Nearest Neighbors\"], [\"blue\", \"green\", \"red\"], X_tf_test, y_test)\n"
   ]
  },
  {
   "cell_type": "markdown",
   "metadata": {},
   "source": [
    " <p style=color:#38629C>We can clearly notice that ROC Curves for Naive Bayer has higher accuracy in comparison to the Logistic Regression. This indicates that Naive Bayes performs better than Logistic Regression in classifying the fake news classification. Logistic Regression 's performance could potentially be improved by trying different parameters like regularization strength, number of iterations etc. However, Naive Bayes does have other advantages in comparison to the Logistic Regression such as the ability to have better understanding of the document because of having TF-IDF based feature extraction, requires less training data compared to logistic regression and is less prone to overfitting.</p>"
   ]
  },
  {
   "cell_type": "markdown",
   "metadata": {},
   "source": [
    "<p style=color:#38629C> <b style=color:#467200 >Conclusion :</b> We have completed Traditional model training so far, Multinomial Naive Bayes model  has shown higher accuracy, precision and recall score and attained the first position in classifying the Fake news. The second best performing model was Logistic Regression and KNN is least accurate.</p>\n",
    "\n",
    "|     Model | Precision    | Recall | F1-Score | Accuracy|\n",
    "| -----------| ----------- | ----------- |----------- |----------- |\n",
    "| Logistic Regression   | 0.85   | 0.83   | 0.84   | 0.88   |\n",
    "| K-Nearest Neighbor  | 0.68   | 0.05  | 0.09   | 0.63  |\n",
    "| Multinomial Naive Bayes | 0.93   | 0.79   | 0.86   | 0.90   |"
   ]
  },
  {
   "cell_type": "markdown",
   "metadata": {},
   "source": [
    "<b style=color:#467200 >Next Step :</b> It is now confirmed that the `Multinomial Naive Bayes` is performing well among traditional machine learning  for classification of `real` and `fake` news. There is common assumption that the `Multinomial Naive Bayes` might not perform well against the deep learning model. Therefore, we will follow the below mentioned step for training a LSTM deep learning model for the same task and compare the performance.\n",
    "\n",
    "*   Utilize the cleaned dataset created in this notebook for training and testing the LSTM model.\n",
    "*   Define the LSTM model architecture with an embedding layer, LSTM layer and a Dense output layer with sigmoid activation using `Keras` deep learning library.\n",
    "*   Compare the performance of the LSTM model with Multinomial Naive Bayes model trained earlier on validation set in terms of accuracy, precision, recall and F1 score.\n",
    "\n",
    "Since, Deep learning models are complex to train and test, therefore, there is separate notebook created for training and evaluating the LSTM model named as `Final Project - Part 2 (LSTM)`. This Notebook is saved in the same directory and the link is mentioned below:\n",
    "\n",
    "<i style=color:#38629C>Final-Project/Notebooks/Final Project - Part 2 (LSTM).ipynb</i>\n"
   ]
  },
  {
   "cell_type": "markdown",
   "metadata": {},
   "source": []
  }
 ],
 "metadata": {
  "kernelspec": {
   "display_name": ".venv",
   "language": "python",
   "name": "python3"
  },
  "language_info": {
   "codemirror_mode": {
    "name": "ipython",
    "version": 3
   },
   "file_extension": ".py",
   "mimetype": "text/x-python",
   "name": "python",
   "nbconvert_exporter": "python",
   "pygments_lexer": "ipython3",
   "version": "3.11.1"
  },
  "orig_nbformat": 4
 },
 "nbformat": 4,
 "nbformat_minor": 2
}
